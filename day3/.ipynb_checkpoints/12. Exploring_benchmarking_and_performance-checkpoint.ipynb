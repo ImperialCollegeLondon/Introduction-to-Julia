{
 "cells": [
  {
   "cell_type": "markdown",
   "metadata": {},
   "source": [
    "## Scope of Variables\n",
    "\n",
    "https://docs.julialang.org/en/v1/manual/variables-and-scoping/#scope-of-variables\n",
    "\n",
    "\n",
    "The scope of a variable is the region of code within which a variable is visible. Variable scoping helps avoid variable naming conflicts.\n",
    "\n",
    "There are two main types of scopes in Julia, global scope and local scope. The latter can be nested.\n",
    "\n",
    "While we will not cover scope in full detail, some examples will be given so we get an intuitive sense of what is going on."
   ]
  },
  {
   "cell_type": "markdown",
   "metadata": {},
   "source": [
    "### Global Scope\n",
    "\n",
    "* Each module introduces a new global scope, separate from the global scope of all other modules—there is no all-encompassing global scope. \n",
    "* Modules can introduce variables of other modules into their scope through the using or import statements or through qualified access using the dot-notation, i.e. each module is a so-called namespace as well as a first-class data structure associating names with values. \n",
    "*Note that while variable bindings can be read externally, they can only be changed within the module to which they belong"
   ]
  },
  {
   "cell_type": "code",
   "execution_count": 1,
   "metadata": {},
   "outputs": [],
   "source": [
    "module A\n",
    "    a = 1 # a global in A's scope\n",
    "end;"
   ]
  },
  {
   "cell_type": "code",
   "execution_count": null,
   "metadata": {},
   "outputs": [],
   "source": [
    "#matplotlib.pyplot.plt"
   ]
  },
  {
   "cell_type": "code",
   "execution_count": 2,
   "metadata": {},
   "outputs": [],
   "source": [
    "module B\n",
    "    module C\n",
    "        c = 2\n",
    "    end\n",
    "    b = C.c    # can access the namespace of a nested global scope\n",
    "               # through a qualified access\n",
    "    import ..A # makes module A available\n",
    "        d = A.a\n",
    "end;"
   ]
  },
  {
   "cell_type": "code",
   "execution_count": 3,
   "metadata": {},
   "outputs": [
    {
     "ename": "LoadError",
     "evalue": "UndefVarError: a not defined",
     "output_type": "error",
     "traceback": [
      "UndefVarError: a not defined",
      "",
      "Stacktrace:",
      " [1] top-level scope",
      "   @ In[3]:2",
      " [2] eval",
      "   @ .\\boot.jl:360 [inlined]",
      " [3] include_string(mapexpr::typeof(REPL.softscope), mod::Module, code::String, filename::String)",
      "   @ Base .\\loading.jl:1094"
     ]
    }
   ],
   "source": [
    "module D\n",
    "    b = a # errors as D's global scope is separate from A's\n",
    "end"
   ]
  },
  {
   "cell_type": "code",
   "execution_count": 4,
   "metadata": {},
   "outputs": [
    {
     "ename": "LoadError",
     "evalue": "cannot assign variables in other modules",
     "output_type": "error",
     "traceback": [
      "cannot assign variables in other modules",
      "",
      "Stacktrace:",
      " [1] setproperty!(x::Module, f::Symbol, v::Int64)",
      "   @ Base .\\Base.jl:27",
      " [2] top-level scope",
      "   @ In[4]:3",
      " [3] eval",
      "   @ .\\boot.jl:360 [inlined]",
      " [4] include_string(mapexpr::typeof(REPL.softscope), mod::Module, code::String, filename::String)",
      "   @ Base .\\loading.jl:1094"
     ]
    }
   ],
   "source": [
    "module E\n",
    "    import ..A # makes A available\n",
    "    A.a = 2 # error's as we cannot modify data in other modules.\n",
    "end"
   ]
  },
  {
   "cell_type": "markdown",
   "metadata": {},
   "source": [
    "## Local Scope\n",
    "\n",
    "While there are specific rules in Julia for what the expressiosn means based on where the assignment expression occurs, we will only look at this intuitively. \n",
    "\n",
    "Compare the following examples"
   ]
  },
  {
   "cell_type": "code",
   "execution_count": 5,
   "metadata": {},
   "outputs": [
    {
     "data": {
      "text/plain": [
       "hello (generic function with 1 method)"
      ]
     },
     "execution_count": 5,
     "metadata": {},
     "output_type": "execute_result"
    }
   ],
   "source": [
    "function hello()\n",
    "    x = \"hello world\"\n",
    "    println(x)\n",
    "end"
   ]
  },
  {
   "cell_type": "code",
   "execution_count": 6,
   "metadata": {},
   "outputs": [
    {
     "name": "stdout",
     "output_type": "stream",
     "text": [
      "hello world\n"
     ]
    }
   ],
   "source": [
    "hello()"
   ]
  },
  {
   "cell_type": "code",
   "execution_count": 7,
   "metadata": {},
   "outputs": [
    {
     "ename": "LoadError",
     "evalue": "UndefVarError: x not defined",
     "output_type": "error",
     "traceback": [
      "UndefVarError: x not defined",
      "",
      "Stacktrace:",
      " [1] top-level scope",
      "   @ :0",
      " [2] eval",
      "   @ .\\boot.jl:360 [inlined]",
      " [3] include_string(mapexpr::typeof(REPL.softscope), mod::Module, code::String, filename::String)",
      "   @ Base .\\loading.jl:1094"
     ]
    }
   ],
   "source": [
    "x #global scope\n"
   ]
  },
  {
   "cell_type": "markdown",
   "metadata": {},
   "source": [
    "Inside of the `hello` function, the assignment `x = \"hello world\"` causes `x` to be a new local variable in the function's scope. Since `x` is local , it doesn't matter if there is a global named `x` or not. See what happens when we define `x=123` before defining and calling `hello`."
   ]
  },
  {
   "cell_type": "code",
   "execution_count": 8,
   "metadata": {},
   "outputs": [
    {
     "data": {
      "text/plain": [
       "123"
      ]
     },
     "execution_count": 8,
     "metadata": {},
     "output_type": "execute_result"
    }
   ],
   "source": [
    "x = 123 # global"
   ]
  },
  {
   "cell_type": "code",
   "execution_count": 9,
   "metadata": {},
   "outputs": [
    {
     "data": {
      "text/plain": [
       "hello (generic function with 1 method)"
      ]
     },
     "execution_count": 9,
     "metadata": {},
     "output_type": "execute_result"
    }
   ],
   "source": [
    "function hello()\n",
    "    x = \"hello world\"\n",
    "    println(x)\n",
    "end"
   ]
  },
  {
   "cell_type": "code",
   "execution_count": 10,
   "metadata": {},
   "outputs": [
    {
     "name": "stdout",
     "output_type": "stream",
     "text": [
      "hello world\n"
     ]
    }
   ],
   "source": [
    "hello()"
   ]
  },
  {
   "cell_type": "code",
   "execution_count": 11,
   "metadata": {},
   "outputs": [
    {
     "data": {
      "text/plain": [
       "123"
      ]
     },
     "execution_count": 11,
     "metadata": {},
     "output_type": "execute_result"
    }
   ],
   "source": [
    "x"
   ]
  },
  {
   "cell_type": "markdown",
   "metadata": {},
   "source": [
    "Since the x in `hello` is local, the value (or lack thereof) of the global `x` is unaffected by calling `hello`."
   ]
  },
  {
   "cell_type": "code",
   "execution_count": 12,
   "metadata": {},
   "outputs": [
    {
     "data": {
      "text/plain": [
       "sum_to (generic function with 1 method)"
      ]
     },
     "execution_count": 12,
     "metadata": {},
     "output_type": "execute_result"
    }
   ],
   "source": [
    "function sum_to(n)\n",
    "    s = 0 # new local\n",
    "    for i = 1:n\n",
    "        s = s + i # assign existing local\n",
    "    end\n",
    "    return s # same local\n",
    "end"
   ]
  },
  {
   "cell_type": "code",
   "execution_count": 13,
   "metadata": {},
   "outputs": [
    {
     "data": {
      "text/plain": [
       "55"
      ]
     },
     "execution_count": 13,
     "metadata": {},
     "output_type": "execute_result"
    }
   ],
   "source": [
    "sum_to(10)"
   ]
  },
  {
   "cell_type": "code",
   "execution_count": 14,
   "metadata": {},
   "outputs": [
    {
     "ename": "LoadError",
     "evalue": "UndefVarError: s not defined",
     "output_type": "error",
     "traceback": [
      "UndefVarError: s not defined",
      "",
      "Stacktrace:",
      " [1] top-level scope",
      "   @ :0",
      " [2] eval",
      "   @ .\\boot.jl:360 [inlined]",
      " [3] include_string(mapexpr::typeof(REPL.softscope), mod::Module, code::String, filename::String)",
      "   @ Base .\\loading.jl:1094"
     ]
    }
   ],
   "source": [
    "s #global"
   ]
  },
  {
   "cell_type": "code",
   "execution_count": 15,
   "metadata": {},
   "outputs": [],
   "source": [
    "s = 0\n",
    "for i = 1:10\n",
    "    s += i\n",
    "end"
   ]
  },
  {
   "cell_type": "code",
   "execution_count": 16,
   "metadata": {},
   "outputs": [
    {
     "data": {
      "text/plain": [
       "55"
      ]
     },
     "execution_count": 16,
     "metadata": {},
     "output_type": "execute_result"
    }
   ],
   "source": [
    "s"
   ]
  },
  {
   "cell_type": "markdown",
   "metadata": {},
   "source": [
    "A `for` loop or comprehension iteration variable is always a new variable:"
   ]
  },
  {
   "cell_type": "code",
   "execution_count": 17,
   "metadata": {},
   "outputs": [
    {
     "data": {
      "text/plain": [
       "f (generic function with 1 method)"
      ]
     },
     "execution_count": 17,
     "metadata": {},
     "output_type": "execute_result"
    }
   ],
   "source": [
    "function f()\n",
    "    i=0\n",
    "    for i=1:3\n",
    "        #empty\n",
    "    end\n",
    "    return i\n",
    "end"
   ]
  },
  {
   "cell_type": "code",
   "execution_count": 18,
   "metadata": {},
   "outputs": [
    {
     "data": {
      "text/plain": [
       "0"
      ]
     },
     "execution_count": 18,
     "metadata": {},
     "output_type": "execute_result"
    }
   ],
   "source": [
    "f()"
   ]
  },
  {
   "cell_type": "markdown",
   "metadata": {},
   "source": [
    "However, it is occasionally useful to reuse an existing local variable as the iteration variable. This can be done conveniently by adding the keyword `outer`:"
   ]
  },
  {
   "cell_type": "code",
   "execution_count": 19,
   "metadata": {},
   "outputs": [
    {
     "data": {
      "text/plain": [
       "f (generic function with 1 method)"
      ]
     },
     "execution_count": 19,
     "metadata": {},
     "output_type": "execute_result"
    }
   ],
   "source": [
    "function f()\n",
    "    i=0\n",
    "    for outer i=1:3\n",
    "        #empty\n",
    "    end\n",
    "    return i\n",
    "end"
   ]
  },
  {
   "cell_type": "code",
   "execution_count": 20,
   "metadata": {},
   "outputs": [
    {
     "data": {
      "text/plain": [
       "3"
      ]
     },
     "execution_count": 20,
     "metadata": {},
     "output_type": "execute_result"
    }
   ],
   "source": [
    "f()"
   ]
  },
  {
   "cell_type": "code",
   "execution_count": 21,
   "metadata": {},
   "outputs": [
    {
     "ename": "LoadError",
     "evalue": "UndefVarError: i not defined",
     "output_type": "error",
     "traceback": [
      "UndefVarError: i not defined",
      "",
      "Stacktrace:",
      " [1] top-level scope",
      "   @ :0",
      " [2] eval",
      "   @ .\\boot.jl:360 [inlined]",
      " [3] include_string(mapexpr::typeof(REPL.softscope), mod::Module, code::String, filename::String)",
      "   @ Base .\\loading.jl:1094"
     ]
    }
   ],
   "source": [
    "i"
   ]
  },
  {
   "cell_type": "markdown",
   "metadata": {},
   "source": [
    "Finally, we can force local variables to be usable by the global scope, using the keyword `global` : "
   ]
  },
  {
   "cell_type": "code",
   "execution_count": 22,
   "metadata": {},
   "outputs": [
    {
     "data": {
      "text/plain": [
       "f (generic function with 1 method)"
      ]
     },
     "execution_count": 22,
     "metadata": {},
     "output_type": "execute_result"
    }
   ],
   "source": [
    "function f()\n",
    "    global i=0\n",
    "    for outer i=1:3\n",
    "        #empty\n",
    "    end\n",
    "    return i\n",
    "end"
   ]
  },
  {
   "cell_type": "code",
   "execution_count": 23,
   "metadata": {},
   "outputs": [
    {
     "ename": "LoadError",
     "evalue": "UndefVarError: i not defined",
     "output_type": "error",
     "traceback": [
      "UndefVarError: i not defined",
      "",
      "Stacktrace:",
      " [1] top-level scope",
      "   @ :0",
      " [2] eval",
      "   @ .\\boot.jl:360 [inlined]",
      " [3] include_string(mapexpr::typeof(REPL.softscope), mod::Module, code::String, filename::String)",
      "   @ Base .\\loading.jl:1094"
     ]
    }
   ],
   "source": [
    "i"
   ]
  },
  {
   "cell_type": "code",
   "execution_count": 24,
   "metadata": {},
   "outputs": [
    {
     "data": {
      "text/plain": [
       "3"
      ]
     },
     "execution_count": 24,
     "metadata": {},
     "output_type": "execute_result"
    }
   ],
   "source": [
    "f()"
   ]
  },
  {
   "cell_type": "code",
   "execution_count": 25,
   "metadata": {},
   "outputs": [
    {
     "data": {
      "text/plain": [
       "3"
      ]
     },
     "execution_count": 25,
     "metadata": {},
     "output_type": "execute_result"
    }
   ],
   "source": [
    "i"
   ]
  },
  {
   "cell_type": "markdown",
   "metadata": {},
   "source": [
    "## Constants\n",
    "A common use of variables is giving names to specific, unchanging values. Such variables are only assigned once. This intent can be conveyed to the compiler using the `const` keyword:"
   ]
  },
  {
   "cell_type": "code",
   "execution_count": 26,
   "metadata": {},
   "outputs": [],
   "source": [
    "const e  = 2.71828182845904523536;\n",
    "const pi = 3.14159265358979323846;"
   ]
  },
  {
   "cell_type": "markdown",
   "metadata": {},
   "source": [
    "Multiple variables can be declared in a single `const` statement:"
   ]
  },
  {
   "cell_type": "code",
   "execution_count": 27,
   "metadata": {},
   "outputs": [
    {
     "data": {
      "text/plain": [
       "(1, 2)"
      ]
     },
     "execution_count": 27,
     "metadata": {},
     "output_type": "execute_result"
    }
   ],
   "source": [
    "const a, b = 1, 2"
   ]
  },
  {
   "cell_type": "code",
   "execution_count": 28,
   "metadata": {},
   "outputs": [
    {
     "ename": "LoadError",
     "evalue": "cannot declare x constant; it already has a value",
     "output_type": "error",
     "traceback": [
      "cannot declare x constant; it already has a value",
      "",
      "Stacktrace:",
      " [1] top-level scope",
      "   @ In[28]:1",
      " [2] eval",
      "   @ .\\boot.jl:360 [inlined]",
      " [3] include_string(mapexpr::typeof(REPL.softscope), mod::Module, code::String, filename::String)",
      "   @ Base .\\loading.jl:1094"
     ]
    }
   ],
   "source": [
    "const x = 1.0"
   ]
  },
  {
   "cell_type": "code",
   "execution_count": 29,
   "metadata": {},
   "outputs": [
    {
     "data": {
      "text/plain": [
       "123"
      ]
     },
     "execution_count": 29,
     "metadata": {},
     "output_type": "execute_result"
    }
   ],
   "source": [
    "x"
   ]
  },
  {
   "cell_type": "markdown",
   "metadata": {},
   "source": [
    "If a new value has a different type than the type of the constant then an error is thrown:"
   ]
  },
  {
   "cell_type": "code",
   "execution_count": null,
   "metadata": {},
   "outputs": [],
   "source": [
    "x=1"
   ]
  },
  {
   "cell_type": "markdown",
   "metadata": {},
   "source": [
    "If a new value has the same type as the constant then a warning is printed:"
   ]
  },
  {
   "cell_type": "code",
   "execution_count": 30,
   "metadata": {},
   "outputs": [
    {
     "data": {
      "text/plain": [
       "1.0"
      ]
     },
     "execution_count": 30,
     "metadata": {},
     "output_type": "execute_result"
    }
   ],
   "source": [
    "const y = 1.0\n"
   ]
  },
  {
   "cell_type": "code",
   "execution_count": 31,
   "metadata": {},
   "outputs": [
    {
     "name": "stderr",
     "output_type": "stream",
     "text": [
      "WARNING: redefinition of constant y. This may fail, cause incorrect answers, or produce other errors.\n"
     ]
    },
    {
     "data": {
      "text/plain": [
       "2.0"
      ]
     },
     "execution_count": 31,
     "metadata": {},
     "output_type": "execute_result"
    }
   ],
   "source": [
    "y = 2.0"
   ]
  },
  {
   "cell_type": "markdown",
   "metadata": {},
   "source": [
    "### Performance tip : \n",
    "The const declaration should only be used in global scope on globals. It is difficult for the compiler to optimize code involving global variables, since their values (or even their types) might change at almost any time. If a global variable will not change, adding a `const` declaration solves this performance problem."
   ]
  },
  {
   "cell_type": "markdown",
   "metadata": {},
   "source": [
    "## Benchmarking tips\n",
    "\n",
    "In the `Julia is fast` notebook, we saw the package `BenchmarkTools` and used its `@benchmark` macro.\n",
    "\n",
    "In this notebook, we'll explore the importance of \"interpolating\" global variables when benchmarking functions.\n",
    "\n",
    "We interpolate a global variable by throwing a `$` in front of it. For example, in `Julia is fast`, we benchmarked the `sum` function using `Vector` `A` via\n",
    "\n",
    "```julia\n",
    "@benchmark sum($A)\n",
    "```\n",
    "\n",
    "not\n",
    "\n",
    "```julia\n",
    "@benchmark sum(A)\n",
    "```\n",
    "\n",
    "Let's see if this can make a difference by examining the ratio in execution times of `sum($A)` and `sum(A)` for differently sized arrays `A`. \n",
    "\n",
    "#### Exercise\n",
    "\n",
    "Call the `sum` function on a pseudo-randomly populated 1D array called `foo` of several lengths between 2 and 2^20 (~10^6). For each size of `foo`, determine the ratio of execution times for `sum(foo)` and `sum($foo)`. (To determine this ratio, use the minimum run times in each case.)\n",
    "\n",
    "Plot the ratio of execution times for non-interpolated and interpolated `foo` in calls to `sum` versus the length of `foo`. Does interpolating `foo` seem to matter? If so, for what sizes of `foo`?"
   ]
  },
  {
   "cell_type": "code",
   "execution_count": 35,
   "metadata": {},
   "outputs": [
    {
     "data": {
      "text/plain": [
       "Plots.GRBackend()"
      ]
     },
     "execution_count": 35,
     "metadata": {},
     "output_type": "execute_result"
    }
   ],
   "source": [
    "using BenchmarkTools, Plots\n",
    "gr()"
   ]
  },
  {
   "cell_type": "code",
   "execution_count": 36,
   "metadata": {},
   "outputs": [],
   "source": [
    "store_ratios = []\n",
    "foo = rand()\n",
    "for i in 1:10\n",
    "    foo = rand(2^i) \n",
    "    not_interpolated = @benchmark sum(foo)\n",
    "    interpolated = @benchmark sum($foo)\n",
    "    min_not_interpolated = minimum(not_interpolated.times)\n",
    "    min_interpolated = minimum(interpolated.times)\n",
    "    ratio = min_not_interpolated / min_interpolated\n",
    "    append!(store_ratios, ratio)\n",
    "end"
   ]
  },
  {
   "cell_type": "code",
   "execution_count": 37,
   "metadata": {},
   "outputs": [
    {
     "data": {
      "image/svg+xml": [
       "<?xml version=\"1.0\" encoding=\"utf-8\"?>\n",
       "<svg xmlns=\"http://www.w3.org/2000/svg\" xmlns:xlink=\"http://www.w3.org/1999/xlink\" width=\"600\" height=\"400\" viewBox=\"0 0 2400 1600\">\n",
       "<defs>\n",
       "  <clipPath id=\"clip990\">\n",
       "    <rect x=\"0\" y=\"0\" width=\"2400\" height=\"1600\"/>\n",
       "  </clipPath>\n",
       "</defs>\n",
       "<path clip-path=\"url(#clip990)\" d=\"\n",
       "M0 1600 L2400 1600 L2400 0 L0 0  Z\n",
       "  \" fill=\"#ffffff\" fill-rule=\"evenodd\" fill-opacity=\"1\"/>\n",
       "<defs>\n",
       "  <clipPath id=\"clip991\">\n",
       "    <rect x=\"480\" y=\"0\" width=\"1681\" height=\"1600\"/>\n",
       "  </clipPath>\n",
       "</defs>\n",
       "<path clip-path=\"url(#clip990)\" d=\"\n",
       "M247.459 1423.18 L2352.76 1423.18 L2352.76 123.472 L247.459 123.472  Z\n",
       "  \" fill=\"#ffffff\" fill-rule=\"evenodd\" fill-opacity=\"1\"/>\n",
       "<defs>\n",
       "  <clipPath id=\"clip992\">\n",
       "    <rect x=\"247\" y=\"123\" width=\"2106\" height=\"1301\"/>\n",
       "  </clipPath>\n",
       "</defs>\n",
       "<polyline clip-path=\"url(#clip992)\" style=\"stroke:#000000; stroke-linecap:butt; stroke-linejoin:round; stroke-width:2; stroke-opacity:0.1; fill:none\" points=\"\n",
       "  527.724,1423.18 527.724,123.472 \n",
       "  \"/>\n",
       "<polyline clip-path=\"url(#clip992)\" style=\"stroke:#000000; stroke-linecap:butt; stroke-linejoin:round; stroke-width:2; stroke-opacity:0.1; fill:none\" points=\"\n",
       "  969.086,1423.18 969.086,123.472 \n",
       "  \"/>\n",
       "<polyline clip-path=\"url(#clip992)\" style=\"stroke:#000000; stroke-linecap:butt; stroke-linejoin:round; stroke-width:2; stroke-opacity:0.1; fill:none\" points=\"\n",
       "  1410.45,1423.18 1410.45,123.472 \n",
       "  \"/>\n",
       "<polyline clip-path=\"url(#clip992)\" style=\"stroke:#000000; stroke-linecap:butt; stroke-linejoin:round; stroke-width:2; stroke-opacity:0.1; fill:none\" points=\"\n",
       "  1851.81,1423.18 1851.81,123.472 \n",
       "  \"/>\n",
       "<polyline clip-path=\"url(#clip992)\" style=\"stroke:#000000; stroke-linecap:butt; stroke-linejoin:round; stroke-width:2; stroke-opacity:0.1; fill:none\" points=\"\n",
       "  2293.17,1423.18 2293.17,123.472 \n",
       "  \"/>\n",
       "<polyline clip-path=\"url(#clip990)\" style=\"stroke:#000000; stroke-linecap:butt; stroke-linejoin:round; stroke-width:4; stroke-opacity:1; fill:none\" points=\"\n",
       "  247.459,1423.18 2352.76,1423.18 \n",
       "  \"/>\n",
       "<polyline clip-path=\"url(#clip990)\" style=\"stroke:#000000; stroke-linecap:butt; stroke-linejoin:round; stroke-width:4; stroke-opacity:1; fill:none\" points=\"\n",
       "  527.724,1423.18 527.724,1407.58 \n",
       "  \"/>\n",
       "<polyline clip-path=\"url(#clip990)\" style=\"stroke:#000000; stroke-linecap:butt; stroke-linejoin:round; stroke-width:4; stroke-opacity:1; fill:none\" points=\"\n",
       "  969.086,1423.18 969.086,1407.58 \n",
       "  \"/>\n",
       "<polyline clip-path=\"url(#clip990)\" style=\"stroke:#000000; stroke-linecap:butt; stroke-linejoin:round; stroke-width:4; stroke-opacity:1; fill:none\" points=\"\n",
       "  1410.45,1423.18 1410.45,1407.58 \n",
       "  \"/>\n",
       "<polyline clip-path=\"url(#clip990)\" style=\"stroke:#000000; stroke-linecap:butt; stroke-linejoin:round; stroke-width:4; stroke-opacity:1; fill:none\" points=\"\n",
       "  1851.81,1423.18 1851.81,1407.58 \n",
       "  \"/>\n",
       "<polyline clip-path=\"url(#clip990)\" style=\"stroke:#000000; stroke-linecap:butt; stroke-linejoin:round; stroke-width:4; stroke-opacity:1; fill:none\" points=\"\n",
       "  2293.17,1423.18 2293.17,1407.58 \n",
       "  \"/>\n",
       "<path clip-path=\"url(#clip990)\" d=\"M522.376 1479.92 L538.696 1479.92 L538.696 1483.85 L516.751 1483.85 L516.751 1479.92 Q519.414 1477.16 523.997 1472.53 Q528.603 1467.88 529.784 1466.54 Q532.029 1464.01 532.909 1462.28 Q533.812 1460.52 533.812 1458.83 Q533.812 1456.07 531.867 1454.34 Q529.946 1452.6 526.844 1452.6 Q524.645 1452.6 522.191 1453.37 Q519.761 1454.13 516.983 1455.68 L516.983 1450.96 Q519.807 1449.82 522.261 1449.25 Q524.714 1448.67 526.751 1448.67 Q532.122 1448.67 535.316 1451.35 Q538.511 1454.04 538.511 1458.53 Q538.511 1460.66 537.7 1462.58 Q536.913 1464.48 534.807 1467.07 Q534.228 1467.74 531.126 1470.96 Q528.025 1474.15 522.376 1479.92 Z\" fill=\"#000000\" fill-rule=\"evenodd\" fill-opacity=\"1\" /><path clip-path=\"url(#clip990)\" d=\"M972.095 1453.37 L960.289 1471.81 L972.095 1471.81 L972.095 1453.37 M970.868 1449.29 L976.748 1449.29 L976.748 1471.81 L981.678 1471.81 L981.678 1475.7 L976.748 1475.7 L976.748 1483.85 L972.095 1483.85 L972.095 1475.7 L956.493 1475.7 L956.493 1471.19 L970.868 1449.29 Z\" fill=\"#000000\" fill-rule=\"evenodd\" fill-opacity=\"1\" /><path clip-path=\"url(#clip990)\" d=\"M1410.85 1464.71 Q1407.7 1464.71 1405.85 1466.86 Q1404.02 1469.01 1404.02 1472.76 Q1404.02 1476.49 1405.85 1478.67 Q1407.7 1480.82 1410.85 1480.82 Q1414 1480.82 1415.83 1478.67 Q1417.68 1476.49 1417.68 1472.76 Q1417.68 1469.01 1415.83 1466.86 Q1414 1464.71 1410.85 1464.71 M1420.14 1450.06 L1420.14 1454.31 Q1418.38 1453.48 1416.57 1453.04 Q1414.79 1452.6 1413.03 1452.6 Q1408.4 1452.6 1405.95 1455.73 Q1403.51 1458.85 1403.17 1465.17 Q1404.53 1463.16 1406.59 1462.09 Q1408.65 1461 1411.13 1461 Q1416.34 1461 1419.35 1464.18 Q1422.38 1467.32 1422.38 1472.76 Q1422.38 1478.09 1419.23 1481.31 Q1416.08 1484.52 1410.85 1484.52 Q1404.86 1484.52 1401.69 1479.94 Q1398.52 1475.33 1398.52 1466.61 Q1398.52 1458.41 1402.4 1453.55 Q1406.29 1448.67 1412.84 1448.67 Q1414.6 1448.67 1416.39 1449.01 Q1418.19 1449.36 1420.14 1450.06 Z\" fill=\"#000000\" fill-rule=\"evenodd\" fill-opacity=\"1\" /><path clip-path=\"url(#clip990)\" d=\"M1851.81 1467.44 Q1848.48 1467.44 1846.56 1469.22 Q1844.66 1471 1844.66 1474.13 Q1844.66 1477.25 1846.56 1479.04 Q1848.48 1480.82 1851.81 1480.82 Q1855.14 1480.82 1857.06 1479.04 Q1858.99 1477.23 1858.99 1474.13 Q1858.99 1471 1857.06 1469.22 Q1855.17 1467.44 1851.81 1467.44 M1847.13 1465.45 Q1844.12 1464.71 1842.43 1462.65 Q1840.77 1460.59 1840.77 1457.63 Q1840.77 1453.48 1843.71 1451.07 Q1846.67 1448.67 1851.81 1448.67 Q1856.97 1448.67 1859.91 1451.07 Q1862.85 1453.48 1862.85 1457.63 Q1862.85 1460.59 1861.16 1462.65 Q1859.5 1464.71 1856.51 1465.45 Q1859.89 1466.24 1861.76 1468.53 Q1863.66 1470.82 1863.66 1474.13 Q1863.66 1479.15 1860.58 1481.84 Q1857.53 1484.52 1851.81 1484.52 Q1846.09 1484.52 1843.01 1481.84 Q1839.96 1479.15 1839.96 1474.13 Q1839.96 1470.82 1841.86 1468.53 Q1843.75 1466.24 1847.13 1465.45 M1845.42 1458.06 Q1845.42 1460.75 1847.09 1462.25 Q1848.78 1463.76 1851.81 1463.76 Q1854.82 1463.76 1856.51 1462.25 Q1858.22 1460.75 1858.22 1458.06 Q1858.22 1455.38 1856.51 1453.88 Q1854.82 1452.37 1851.81 1452.37 Q1848.78 1452.37 1847.09 1453.88 Q1845.42 1455.38 1845.42 1458.06 Z\" fill=\"#000000\" fill-rule=\"evenodd\" fill-opacity=\"1\" /><path clip-path=\"url(#clip990)\" d=\"M2267.86 1479.92 L2275.5 1479.92 L2275.5 1453.55 L2267.19 1455.22 L2267.19 1450.96 L2275.45 1449.29 L2280.13 1449.29 L2280.13 1479.92 L2287.77 1479.92 L2287.77 1483.85 L2267.86 1483.85 L2267.86 1479.92 Z\" fill=\"#000000\" fill-rule=\"evenodd\" fill-opacity=\"1\" /><path clip-path=\"url(#clip990)\" d=\"M2307.21 1452.37 Q2303.6 1452.37 2301.77 1455.94 Q2299.97 1459.48 2299.97 1466.61 Q2299.97 1473.71 2301.77 1477.28 Q2303.6 1480.82 2307.21 1480.82 Q2310.85 1480.82 2312.65 1477.28 Q2314.48 1473.71 2314.48 1466.61 Q2314.48 1459.48 2312.65 1455.94 Q2310.85 1452.37 2307.21 1452.37 M2307.21 1448.67 Q2313.02 1448.67 2316.08 1453.27 Q2319.16 1457.86 2319.16 1466.61 Q2319.16 1475.33 2316.08 1479.94 Q2313.02 1484.52 2307.21 1484.52 Q2301.4 1484.52 2298.32 1479.94 Q2295.27 1475.33 2295.27 1466.61 Q2295.27 1457.86 2298.32 1453.27 Q2301.4 1448.67 2307.21 1448.67 Z\" fill=\"#000000\" fill-rule=\"evenodd\" fill-opacity=\"1\" /><path clip-path=\"url(#clip990)\" d=\"M829.363 1520.52 L869.563 1520.52 L869.563 1525.93 L852.694 1525.93 L852.694 1568.04 L846.232 1568.04 L846.232 1525.93 L829.363 1525.93 L829.363 1520.52 Z\" fill=\"#000000\" fill-rule=\"evenodd\" fill-opacity=\"1\" /><path clip-path=\"url(#clip990)\" d=\"M905.147 1546.53 L905.147 1568.04 L899.291 1568.04 L899.291 1546.72 Q899.291 1541.66 897.317 1539.14 Q895.344 1536.63 891.397 1536.63 Q886.655 1536.63 883.917 1539.65 Q881.18 1542.68 881.18 1547.9 L881.18 1568.04 L875.292 1568.04 L875.292 1518.52 L881.18 1518.52 L881.18 1537.93 Q883.281 1534.72 886.114 1533.13 Q888.978 1531.54 892.702 1531.54 Q898.845 1531.54 901.996 1535.36 Q905.147 1539.14 905.147 1546.53 Z\" fill=\"#000000\" fill-rule=\"evenodd\" fill-opacity=\"1\" /><path clip-path=\"url(#clip990)\" d=\"M947.32 1548.76 L947.32 1551.62 L920.393 1551.62 Q920.775 1557.67 924.021 1560.85 Q927.3 1564 933.124 1564 Q936.498 1564 939.649 1563.17 Q942.832 1562.35 945.951 1560.69 L945.951 1566.23 Q942.8 1567.57 939.49 1568.27 Q936.18 1568.97 932.774 1568.97 Q924.244 1568.97 919.247 1564 Q914.282 1559.04 914.282 1550.57 Q914.282 1541.82 918.992 1536.69 Q923.735 1531.54 931.756 1531.54 Q938.949 1531.54 943.118 1536.18 Q947.32 1540.8 947.32 1548.76 M941.463 1547.04 Q941.4 1542.23 938.758 1539.37 Q936.148 1536.5 931.819 1536.5 Q926.918 1536.5 923.958 1539.27 Q921.029 1542.04 920.584 1547.07 L941.463 1547.04 Z\" fill=\"#000000\" fill-rule=\"evenodd\" fill-opacity=\"1\" /><path clip-path=\"url(#clip990)\" d=\"M977.652 1518.52 L983.509 1518.52 L983.509 1568.04 L977.652 1568.04 L977.652 1518.52 Z\" fill=\"#000000\" fill-rule=\"evenodd\" fill-opacity=\"1\" /><path clip-path=\"url(#clip990)\" d=\"M1009.58 1536.5 Q1004.87 1536.5 1002.13 1540.19 Q999.391 1543.85 999.391 1550.25 Q999.391 1556.65 1002.1 1560.34 Q1004.83 1564 1009.58 1564 Q1014.26 1564 1016.99 1560.31 Q1019.73 1556.62 1019.73 1550.25 Q1019.73 1543.92 1016.99 1540.23 Q1014.26 1536.5 1009.58 1536.5 M1009.58 1531.54 Q1017.22 1531.54 1021.58 1536.5 Q1025.94 1541.47 1025.94 1550.25 Q1025.94 1559 1021.58 1564 Q1017.22 1568.97 1009.58 1568.97 Q1001.91 1568.97 997.545 1564 Q993.217 1559 993.217 1550.25 Q993.217 1541.47 997.545 1536.5 Q1001.91 1531.54 1009.58 1531.54 Z\" fill=\"#000000\" fill-rule=\"evenodd\" fill-opacity=\"1\" /><path clip-path=\"url(#clip990)\" d=\"M1059.1 1549.81 Q1059.1 1543.44 1056.46 1539.94 Q1053.85 1536.44 1049.11 1536.44 Q1044.4 1536.44 1041.76 1539.94 Q1039.15 1543.44 1039.15 1549.81 Q1039.15 1556.14 1041.76 1559.64 Q1044.4 1563.14 1049.11 1563.14 Q1053.85 1563.14 1056.46 1559.64 Q1059.1 1556.14 1059.1 1549.81 M1064.96 1563.62 Q1064.96 1572.72 1060.92 1577.15 Q1056.87 1581.6 1048.53 1581.6 Q1045.45 1581.6 1042.71 1581.13 Q1039.97 1580.68 1037.39 1579.72 L1037.39 1574.03 Q1039.97 1575.43 1042.49 1576.1 Q1045 1576.76 1047.61 1576.76 Q1053.37 1576.76 1056.24 1573.74 Q1059.1 1570.75 1059.1 1564.67 L1059.1 1561.77 Q1057.29 1564.92 1054.45 1566.48 Q1051.62 1568.04 1047.68 1568.04 Q1041.12 1568.04 1037.11 1563.05 Q1033.1 1558.05 1033.1 1549.81 Q1033.1 1541.53 1037.11 1536.53 Q1041.12 1531.54 1047.68 1531.54 Q1051.62 1531.54 1054.45 1533.1 Q1057.29 1534.66 1059.1 1537.81 L1059.1 1532.4 L1064.96 1532.4 L1064.96 1563.62 Z\" fill=\"#000000\" fill-rule=\"evenodd\" fill-opacity=\"1\" /><path clip-path=\"url(#clip990)\" d=\"M1111.56 1536.5 Q1106.84 1536.5 1104.11 1540.19 Q1101.37 1543.85 1101.37 1550.25 Q1101.37 1556.65 1104.08 1560.34 Q1106.81 1564 1111.56 1564 Q1116.23 1564 1118.97 1560.31 Q1121.71 1556.62 1121.71 1550.25 Q1121.71 1543.92 1118.97 1540.23 Q1116.23 1536.5 1111.56 1536.5 M1111.56 1531.54 Q1119.19 1531.54 1123.55 1536.5 Q1127.91 1541.47 1127.91 1550.25 Q1127.91 1559 1123.55 1564 Q1119.19 1568.97 1111.56 1568.97 Q1103.88 1568.97 1099.52 1564 Q1095.2 1559 1095.2 1550.25 Q1095.2 1541.47 1099.52 1536.5 Q1103.88 1531.54 1111.56 1531.54 Z\" fill=\"#000000\" fill-rule=\"evenodd\" fill-opacity=\"1\" /><path clip-path=\"url(#clip990)\" d=\"M1155.67 1518.52 L1155.67 1523.39 L1150.07 1523.39 Q1146.92 1523.39 1145.68 1524.66 Q1144.47 1525.93 1144.47 1529.24 L1144.47 1532.4 L1154.11 1532.4 L1154.11 1536.95 L1144.47 1536.95 L1144.47 1568.04 L1138.58 1568.04 L1138.58 1536.95 L1132.98 1536.95 L1132.98 1532.4 L1138.58 1532.4 L1138.58 1529.91 Q1138.58 1523.96 1141.35 1521.26 Q1144.12 1518.52 1150.13 1518.52 L1155.67 1518.52 Z\" fill=\"#000000\" fill-rule=\"evenodd\" fill-opacity=\"1\" /><path clip-path=\"url(#clip990)\" d=\"M1187.08 1522.27 L1187.08 1532.4 L1199.15 1532.4 L1199.15 1536.95 L1187.08 1536.95 L1187.08 1556.3 Q1187.08 1560.66 1188.26 1561.9 Q1189.47 1563.14 1193.13 1563.14 L1199.15 1563.14 L1199.15 1568.04 L1193.13 1568.04 Q1186.35 1568.04 1183.77 1565.53 Q1181.2 1562.98 1181.2 1556.3 L1181.2 1536.95 L1176.9 1536.95 L1176.9 1532.4 L1181.2 1532.4 L1181.2 1522.27 L1187.08 1522.27 Z\" fill=\"#000000\" fill-rule=\"evenodd\" fill-opacity=\"1\" /><path clip-path=\"url(#clip990)\" d=\"M1236.48 1546.53 L1236.48 1568.04 L1230.63 1568.04 L1230.63 1546.72 Q1230.63 1541.66 1228.65 1539.14 Q1226.68 1536.63 1222.73 1536.63 Q1217.99 1536.63 1215.25 1539.65 Q1212.52 1542.68 1212.52 1547.9 L1212.52 1568.04 L1206.63 1568.04 L1206.63 1518.52 L1212.52 1518.52 L1212.52 1537.93 Q1214.62 1534.72 1217.45 1533.13 Q1220.31 1531.54 1224.04 1531.54 Q1230.18 1531.54 1233.33 1535.36 Q1236.48 1539.14 1236.48 1546.53 Z\" fill=\"#000000\" fill-rule=\"evenodd\" fill-opacity=\"1\" /><path clip-path=\"url(#clip990)\" d=\"M1278.65 1548.76 L1278.65 1551.62 L1251.73 1551.62 Q1252.11 1557.67 1255.36 1560.85 Q1258.63 1564 1264.46 1564 Q1267.83 1564 1270.98 1563.17 Q1274.17 1562.35 1277.29 1560.69 L1277.29 1566.23 Q1274.14 1567.57 1270.83 1568.27 Q1267.51 1568.97 1264.11 1568.97 Q1255.58 1568.97 1250.58 1564 Q1245.62 1559.04 1245.62 1550.57 Q1245.62 1541.82 1250.33 1536.69 Q1255.07 1531.54 1263.09 1531.54 Q1270.28 1531.54 1274.45 1536.18 Q1278.65 1540.8 1278.65 1548.76 M1272.8 1547.04 Q1272.73 1542.23 1270.09 1539.37 Q1267.48 1536.5 1263.15 1536.5 Q1258.25 1536.5 1255.29 1539.27 Q1252.36 1542.04 1251.92 1547.07 L1272.8 1547.04 Z\" fill=\"#000000\" fill-rule=\"evenodd\" fill-opacity=\"1\" /><path clip-path=\"url(#clip990)\" d=\"M1308.99 1518.52 L1314.84 1518.52 L1314.84 1568.04 L1308.99 1568.04 L1308.99 1518.52 Z\" fill=\"#000000\" fill-rule=\"evenodd\" fill-opacity=\"1\" /><path clip-path=\"url(#clip990)\" d=\"M1357.59 1548.76 L1357.59 1551.62 L1330.66 1551.62 Q1331.04 1557.67 1334.29 1560.85 Q1337.57 1564 1343.39 1564 Q1346.77 1564 1349.92 1563.17 Q1353.1 1562.35 1356.22 1560.69 L1356.22 1566.23 Q1353.07 1567.57 1349.76 1568.27 Q1346.45 1568.97 1343.04 1568.97 Q1334.51 1568.97 1329.52 1564 Q1324.55 1559.04 1324.55 1550.57 Q1324.55 1541.82 1329.26 1536.69 Q1334 1531.54 1342.03 1531.54 Q1349.22 1531.54 1353.39 1536.18 Q1357.59 1540.8 1357.59 1548.76 M1351.73 1547.04 Q1351.67 1542.23 1349.03 1539.37 Q1346.42 1536.5 1342.09 1536.5 Q1337.19 1536.5 1334.23 1539.27 Q1331.3 1542.04 1330.85 1547.07 L1351.73 1547.04 Z\" fill=\"#000000\" fill-rule=\"evenodd\" fill-opacity=\"1\" /><path clip-path=\"url(#clip990)\" d=\"M1396.83 1546.53 L1396.83 1568.04 L1390.98 1568.04 L1390.98 1546.72 Q1390.98 1541.66 1389 1539.14 Q1387.03 1536.63 1383.08 1536.63 Q1378.34 1536.63 1375.6 1539.65 Q1372.87 1542.68 1372.87 1547.9 L1372.87 1568.04 L1366.98 1568.04 L1366.98 1532.4 L1372.87 1532.4 L1372.87 1537.93 Q1374.97 1534.72 1377.8 1533.13 Q1380.67 1531.54 1384.39 1531.54 Q1390.53 1531.54 1393.68 1535.36 Q1396.83 1539.14 1396.83 1546.53 Z\" fill=\"#000000\" fill-rule=\"evenodd\" fill-opacity=\"1\" /><path clip-path=\"url(#clip990)\" d=\"M1431.97 1549.81 Q1431.97 1543.44 1429.33 1539.94 Q1426.72 1536.44 1421.98 1536.44 Q1417.27 1536.44 1414.63 1539.94 Q1412.02 1543.44 1412.02 1549.81 Q1412.02 1556.14 1414.63 1559.64 Q1417.27 1563.14 1421.98 1563.14 Q1426.72 1563.14 1429.33 1559.64 Q1431.97 1556.14 1431.97 1549.81 M1437.83 1563.62 Q1437.83 1572.72 1433.79 1577.15 Q1429.74 1581.6 1421.41 1581.6 Q1418.32 1581.6 1415.58 1581.13 Q1412.84 1580.68 1410.27 1579.72 L1410.27 1574.03 Q1412.84 1575.43 1415.36 1576.1 Q1417.87 1576.76 1420.48 1576.76 Q1426.24 1576.76 1429.11 1573.74 Q1431.97 1570.75 1431.97 1564.67 L1431.97 1561.77 Q1430.16 1564.92 1427.33 1566.48 Q1424.49 1568.04 1420.55 1568.04 Q1413.99 1568.04 1409.98 1563.05 Q1405.97 1558.05 1405.97 1549.81 Q1405.97 1541.53 1409.98 1536.53 Q1413.99 1531.54 1420.55 1531.54 Q1424.49 1531.54 1427.33 1533.1 Q1430.16 1534.66 1431.97 1537.81 L1431.97 1532.4 L1437.83 1532.4 L1437.83 1563.62 Z\" fill=\"#000000\" fill-rule=\"evenodd\" fill-opacity=\"1\" /><path clip-path=\"url(#clip990)\" d=\"M1455.69 1522.27 L1455.69 1532.4 L1467.75 1532.4 L1467.75 1536.95 L1455.69 1536.95 L1455.69 1556.3 Q1455.69 1560.66 1456.86 1561.9 Q1458.07 1563.14 1461.73 1563.14 L1467.75 1563.14 L1467.75 1568.04 L1461.73 1568.04 Q1454.95 1568.04 1452.38 1565.53 Q1449.8 1562.98 1449.8 1556.3 L1449.8 1536.95 L1445.5 1536.95 L1445.5 1532.4 L1449.8 1532.4 L1449.8 1522.27 L1455.69 1522.27 Z\" fill=\"#000000\" fill-rule=\"evenodd\" fill-opacity=\"1\" /><path clip-path=\"url(#clip990)\" d=\"M1505.08 1546.53 L1505.08 1568.04 L1499.23 1568.04 L1499.23 1546.72 Q1499.23 1541.66 1497.25 1539.14 Q1495.28 1536.63 1491.33 1536.63 Q1486.59 1536.63 1483.85 1539.65 Q1481.12 1542.68 1481.12 1547.9 L1481.12 1568.04 L1475.23 1568.04 L1475.23 1518.52 L1481.12 1518.52 L1481.12 1537.93 Q1483.22 1534.72 1486.05 1533.13 Q1488.91 1531.54 1492.64 1531.54 Q1498.78 1531.54 1501.93 1535.36 Q1505.08 1539.14 1505.08 1546.53 Z\" fill=\"#000000\" fill-rule=\"evenodd\" fill-opacity=\"1\" /><path clip-path=\"url(#clip990)\" d=\"M1551.3 1536.5 Q1546.59 1536.5 1543.85 1540.19 Q1541.11 1543.85 1541.11 1550.25 Q1541.11 1556.65 1543.82 1560.34 Q1546.56 1564 1551.3 1564 Q1555.98 1564 1558.71 1560.31 Q1561.45 1556.62 1561.45 1550.25 Q1561.45 1543.92 1558.71 1540.23 Q1555.98 1536.5 1551.3 1536.5 M1551.3 1531.54 Q1558.94 1531.54 1563.3 1536.5 Q1567.66 1541.47 1567.66 1550.25 Q1567.66 1559 1563.3 1564 Q1558.94 1568.97 1551.3 1568.97 Q1543.63 1568.97 1539.27 1564 Q1534.94 1559 1534.94 1550.25 Q1534.94 1541.47 1539.27 1536.5 Q1543.63 1531.54 1551.3 1531.54 Z\" fill=\"#000000\" fill-rule=\"evenodd\" fill-opacity=\"1\" /><path clip-path=\"url(#clip990)\" d=\"M1595.41 1518.52 L1595.41 1523.39 L1589.81 1523.39 Q1586.66 1523.39 1585.42 1524.66 Q1584.21 1525.93 1584.21 1529.24 L1584.21 1532.4 L1593.85 1532.4 L1593.85 1536.95 L1584.21 1536.95 L1584.21 1568.04 L1578.32 1568.04 L1578.32 1536.95 L1572.72 1536.95 L1572.72 1532.4 L1578.32 1532.4 L1578.32 1529.91 Q1578.32 1523.96 1581.09 1521.26 Q1583.86 1518.52 1589.87 1518.52 L1595.41 1518.52 Z\" fill=\"#000000\" fill-rule=\"evenodd\" fill-opacity=\"1\" /><path clip-path=\"url(#clip990)\" d=\"M1626.57 1515.91 L1635.55 1527.81 L1630.68 1527.81 L1620.3 1515.91 L1626.57 1515.91 Z\" fill=\"#000000\" fill-rule=\"evenodd\" fill-opacity=\"1\" /><path clip-path=\"url(#clip990)\" d=\"M1671.67 1518.52 L1671.67 1523.39 L1666.07 1523.39 Q1662.92 1523.39 1661.68 1524.66 Q1660.47 1525.93 1660.47 1529.24 L1660.47 1532.4 L1670.11 1532.4 L1670.11 1536.95 L1660.47 1536.95 L1660.47 1568.04 L1654.58 1568.04 L1654.58 1536.95 L1648.98 1536.95 L1648.98 1532.4 L1654.58 1532.4 L1654.58 1529.91 Q1654.58 1523.96 1657.35 1521.26 Q1660.12 1518.52 1666.14 1518.52 L1671.67 1518.52 Z\" fill=\"#000000\" fill-rule=\"evenodd\" fill-opacity=\"1\" /><path clip-path=\"url(#clip990)\" d=\"M1690.39 1536.5 Q1685.68 1536.5 1682.94 1540.19 Q1680.2 1543.85 1680.2 1550.25 Q1680.2 1556.65 1682.91 1560.34 Q1685.65 1564 1690.39 1564 Q1695.07 1564 1697.8 1560.31 Q1700.54 1556.62 1700.54 1550.25 Q1700.54 1543.92 1697.8 1540.23 Q1695.07 1536.5 1690.39 1536.5 M1690.39 1531.54 Q1698.03 1531.54 1702.39 1536.5 Q1706.75 1541.47 1706.75 1550.25 Q1706.75 1559 1702.39 1564 Q1698.03 1568.97 1690.39 1568.97 Q1682.72 1568.97 1678.36 1564 Q1674.03 1559 1674.03 1550.25 Q1674.03 1541.47 1678.36 1536.5 Q1682.72 1531.54 1690.39 1531.54 Z\" fill=\"#000000\" fill-rule=\"evenodd\" fill-opacity=\"1\" /><path clip-path=\"url(#clip990)\" d=\"M1730.27 1536.5 Q1725.56 1536.5 1722.82 1540.19 Q1720.08 1543.85 1720.08 1550.25 Q1720.08 1556.65 1722.79 1560.34 Q1725.53 1564 1730.27 1564 Q1734.95 1564 1737.69 1560.31 Q1740.42 1556.62 1740.42 1550.25 Q1740.42 1543.92 1737.69 1540.23 Q1734.95 1536.5 1730.27 1536.5 M1730.27 1531.54 Q1737.91 1531.54 1742.27 1536.5 Q1746.63 1541.47 1746.63 1550.25 Q1746.63 1559 1742.27 1564 Q1737.91 1568.97 1730.27 1568.97 Q1722.6 1568.97 1718.24 1564 Q1713.91 1559 1713.91 1550.25 Q1713.91 1541.47 1718.24 1536.5 Q1722.6 1531.54 1730.27 1531.54 Z\" fill=\"#000000\" fill-rule=\"evenodd\" fill-opacity=\"1\" /><path clip-path=\"url(#clip990)\" d=\"M1761.88 1515.91 L1770.85 1527.81 L1765.98 1527.81 L1755.61 1515.91 L1761.88 1515.91 Z\" fill=\"#000000\" fill-rule=\"evenodd\" fill-opacity=\"1\" /><polyline clip-path=\"url(#clip992)\" style=\"stroke:#000000; stroke-linecap:butt; stroke-linejoin:round; stroke-width:2; stroke-opacity:0.1; fill:none\" points=\"\n",
       "  247.459,1241.94 2352.76,1241.94 \n",
       "  \"/>\n",
       "<polyline clip-path=\"url(#clip992)\" style=\"stroke:#000000; stroke-linecap:butt; stroke-linejoin:round; stroke-width:2; stroke-opacity:0.1; fill:none\" points=\"\n",
       "  247.459,948.917 2352.76,948.917 \n",
       "  \"/>\n",
       "<polyline clip-path=\"url(#clip992)\" style=\"stroke:#000000; stroke-linecap:butt; stroke-linejoin:round; stroke-width:2; stroke-opacity:0.1; fill:none\" points=\"\n",
       "  247.459,655.897 2352.76,655.897 \n",
       "  \"/>\n",
       "<polyline clip-path=\"url(#clip992)\" style=\"stroke:#000000; stroke-linecap:butt; stroke-linejoin:round; stroke-width:2; stroke-opacity:0.1; fill:none\" points=\"\n",
       "  247.459,362.877 2352.76,362.877 \n",
       "  \"/>\n",
       "<polyline clip-path=\"url(#clip990)\" style=\"stroke:#000000; stroke-linecap:butt; stroke-linejoin:round; stroke-width:4; stroke-opacity:1; fill:none\" points=\"\n",
       "  247.459,1423.18 247.459,123.472 \n",
       "  \"/>\n",
       "<polyline clip-path=\"url(#clip990)\" style=\"stroke:#000000; stroke-linecap:butt; stroke-linejoin:round; stroke-width:4; stroke-opacity:1; fill:none\" points=\"\n",
       "  247.459,1241.94 272.722,1241.94 \n",
       "  \"/>\n",
       "<polyline clip-path=\"url(#clip990)\" style=\"stroke:#000000; stroke-linecap:butt; stroke-linejoin:round; stroke-width:4; stroke-opacity:1; fill:none\" points=\"\n",
       "  247.459,948.917 272.722,948.917 \n",
       "  \"/>\n",
       "<polyline clip-path=\"url(#clip990)\" style=\"stroke:#000000; stroke-linecap:butt; stroke-linejoin:round; stroke-width:4; stroke-opacity:1; fill:none\" points=\"\n",
       "  247.459,655.897 272.722,655.897 \n",
       "  \"/>\n",
       "<polyline clip-path=\"url(#clip990)\" style=\"stroke:#000000; stroke-linecap:butt; stroke-linejoin:round; stroke-width:4; stroke-opacity:1; fill:none\" points=\"\n",
       "  247.459,362.877 272.722,362.877 \n",
       "  \"/>\n",
       "<path clip-path=\"url(#clip990)\" d=\"M149.306 1255.28 L165.626 1255.28 L165.626 1259.22 L143.681 1259.22 L143.681 1255.28 Q146.343 1252.53 150.927 1247.9 Q155.533 1243.24 156.714 1241.9 Q158.959 1239.38 159.839 1237.64 Q160.741 1235.88 160.741 1234.19 Q160.741 1231.44 158.797 1229.7 Q156.876 1227.97 153.774 1227.97 Q151.575 1227.97 149.121 1228.73 Q146.691 1229.49 143.913 1231.04 L143.913 1226.32 Q146.737 1225.19 149.191 1224.61 Q151.644 1224.03 153.681 1224.03 Q159.052 1224.03 162.246 1226.72 Q165.44 1229.4 165.44 1233.89 Q165.44 1236.02 164.63 1237.94 Q163.843 1239.84 161.737 1242.43 Q161.158 1243.11 158.056 1246.32 Q154.954 1249.52 149.306 1255.28 Z\" fill=\"#000000\" fill-rule=\"evenodd\" fill-opacity=\"1\" /><path clip-path=\"url(#clip990)\" d=\"M175.44 1253.34 L180.325 1253.34 L180.325 1259.22 L175.44 1259.22 L175.44 1253.34 Z\" fill=\"#000000\" fill-rule=\"evenodd\" fill-opacity=\"1\" /><path clip-path=\"url(#clip990)\" d=\"M190.556 1224.66 L208.912 1224.66 L208.912 1228.59 L194.838 1228.59 L194.838 1237.06 Q195.857 1236.72 196.875 1236.55 Q197.894 1236.37 198.912 1236.37 Q204.699 1236.37 208.079 1239.54 Q211.459 1242.71 211.459 1248.13 Q211.459 1253.71 207.987 1256.81 Q204.514 1259.89 198.195 1259.89 Q196.019 1259.89 193.75 1259.52 Q191.505 1259.15 189.098 1258.41 L189.098 1253.71 Q191.181 1254.84 193.403 1255.4 Q195.625 1255.95 198.102 1255.95 Q202.107 1255.95 204.445 1253.85 Q206.783 1251.74 206.783 1248.13 Q206.783 1244.52 204.445 1242.41 Q202.107 1240.3 198.102 1240.3 Q196.227 1240.3 194.352 1240.72 Q192.5 1241.14 190.556 1242.02 L190.556 1224.66 Z\" fill=\"#000000\" fill-rule=\"evenodd\" fill-opacity=\"1\" /><path clip-path=\"url(#clip990)\" d=\"M144.329 931.637 L162.686 931.637 L162.686 935.572 L148.612 935.572 L148.612 944.044 Q149.63 943.697 150.649 943.535 Q151.667 943.349 152.686 943.349 Q158.473 943.349 161.852 946.521 Q165.232 949.692 165.232 955.109 Q165.232 960.687 161.76 963.789 Q158.288 966.868 151.968 966.868 Q149.792 966.868 147.524 966.497 Q145.279 966.127 142.871 965.386 L142.871 960.687 Q144.954 961.822 147.177 962.377 Q149.399 962.933 151.876 962.933 Q155.88 962.933 158.218 960.826 Q160.556 958.72 160.556 955.109 Q160.556 951.498 158.218 949.391 Q155.88 947.285 151.876 947.285 Q150.001 947.285 148.126 947.701 Q146.274 948.118 144.329 948.998 L144.329 931.637 Z\" fill=\"#000000\" fill-rule=\"evenodd\" fill-opacity=\"1\" /><path clip-path=\"url(#clip990)\" d=\"M174.445 960.317 L179.329 960.317 L179.329 966.197 L174.445 966.197 L174.445 960.317 Z\" fill=\"#000000\" fill-rule=\"evenodd\" fill-opacity=\"1\" /><path clip-path=\"url(#clip990)\" d=\"M199.514 934.715 Q195.903 934.715 194.075 938.28 Q192.269 941.822 192.269 948.951 Q192.269 956.058 194.075 959.623 Q195.903 963.164 199.514 963.164 Q203.149 963.164 204.954 959.623 Q206.783 956.058 206.783 948.951 Q206.783 941.822 204.954 938.28 Q203.149 934.715 199.514 934.715 M199.514 931.012 Q205.324 931.012 208.38 935.618 Q211.459 940.201 211.459 948.951 Q211.459 957.678 208.38 962.285 Q205.324 966.868 199.514 966.868 Q193.704 966.868 190.625 962.285 Q187.57 957.678 187.57 948.951 Q187.57 940.201 190.625 935.618 Q193.704 931.012 199.514 931.012 Z\" fill=\"#000000\" fill-rule=\"evenodd\" fill-opacity=\"1\" /><path clip-path=\"url(#clip990)\" d=\"M144.098 638.617 L166.32 638.617 L166.32 640.608 L153.774 673.177 L148.89 673.177 L160.695 642.552 L144.098 642.552 L144.098 638.617 Z\" fill=\"#000000\" fill-rule=\"evenodd\" fill-opacity=\"1\" /><path clip-path=\"url(#clip990)\" d=\"M175.44 667.297 L180.325 667.297 L180.325 673.177 L175.44 673.177 L175.44 667.297 Z\" fill=\"#000000\" fill-rule=\"evenodd\" fill-opacity=\"1\" /><path clip-path=\"url(#clip990)\" d=\"M190.556 638.617 L208.912 638.617 L208.912 642.552 L194.838 642.552 L194.838 651.024 Q195.857 650.677 196.875 650.515 Q197.894 650.33 198.912 650.33 Q204.699 650.33 208.079 653.501 Q211.459 656.672 211.459 662.089 Q211.459 667.668 207.987 670.77 Q204.514 673.848 198.195 673.848 Q196.019 673.848 193.75 673.478 Q191.505 673.108 189.098 672.367 L189.098 667.668 Q191.181 668.802 193.403 669.358 Q195.625 669.913 198.102 669.913 Q202.107 669.913 204.445 667.807 Q206.783 665.7 206.783 662.089 Q206.783 658.478 204.445 656.371 Q202.107 654.265 198.102 654.265 Q196.227 654.265 194.352 654.682 Q192.5 655.098 190.556 655.978 L190.556 638.617 Z\" fill=\"#000000\" fill-rule=\"evenodd\" fill-opacity=\"1\" /><path clip-path=\"url(#clip990)\" d=\"M114.931 376.222 L122.57 376.222 L122.57 349.857 L114.26 351.523 L114.26 347.264 L122.524 345.597 L127.2 345.597 L127.2 376.222 L134.839 376.222 L134.839 380.157 L114.931 380.157 L114.931 376.222 Z\" fill=\"#000000\" fill-rule=\"evenodd\" fill-opacity=\"1\" /><path clip-path=\"url(#clip990)\" d=\"M154.283 348.676 Q150.672 348.676 148.843 352.241 Q147.038 355.783 147.038 362.912 Q147.038 370.019 148.843 373.583 Q150.672 377.125 154.283 377.125 Q157.917 377.125 159.723 373.583 Q161.552 370.019 161.552 362.912 Q161.552 355.783 159.723 352.241 Q157.917 348.676 154.283 348.676 M154.283 344.972 Q160.093 344.972 163.149 349.579 Q166.227 354.162 166.227 362.912 Q166.227 371.639 163.149 376.245 Q160.093 380.829 154.283 380.829 Q148.473 380.829 145.394 376.245 Q142.339 371.639 142.339 362.912 Q142.339 354.162 145.394 349.579 Q148.473 344.972 154.283 344.972 Z\" fill=\"#000000\" fill-rule=\"evenodd\" fill-opacity=\"1\" /><path clip-path=\"url(#clip990)\" d=\"M174.445 374.278 L179.329 374.278 L179.329 380.157 L174.445 380.157 L174.445 374.278 Z\" fill=\"#000000\" fill-rule=\"evenodd\" fill-opacity=\"1\" /><path clip-path=\"url(#clip990)\" d=\"M199.514 348.676 Q195.903 348.676 194.075 352.241 Q192.269 355.783 192.269 362.912 Q192.269 370.019 194.075 373.583 Q195.903 377.125 199.514 377.125 Q203.149 377.125 204.954 373.583 Q206.783 370.019 206.783 362.912 Q206.783 355.783 204.954 352.241 Q203.149 348.676 199.514 348.676 M199.514 344.972 Q205.324 344.972 208.38 349.579 Q211.459 354.162 211.459 362.912 Q211.459 371.639 208.38 376.245 Q205.324 380.829 199.514 380.829 Q193.704 380.829 190.625 376.245 Q187.57 371.639 187.57 362.912 Q187.57 354.162 190.625 349.579 Q193.704 344.972 199.514 344.972 Z\" fill=\"#000000\" fill-rule=\"evenodd\" fill-opacity=\"1\" /><path clip-path=\"url(#clip990)\" d=\"M16.4842 1276.76 L16.4842 1249.45 L21.895 1249.45 L21.895 1270.33 L35.8996 1270.33 L35.8996 1251.49 L41.3104 1251.49 L41.3104 1270.33 L64.0042 1270.33 L64.0042 1276.76 L16.4842 1276.76 Z\" fill=\"#000000\" fill-rule=\"evenodd\" fill-opacity=\"1\" /><path clip-path=\"url(#clip990)\" d=\"M46.0847 1229.3 Q46.0847 1236.4 47.7079 1239.14 Q49.3312 1241.87 53.2461 1241.87 Q56.3653 1241.87 58.2114 1239.84 Q60.0256 1237.77 60.0256 1234.23 Q60.0256 1229.37 56.5881 1226.44 Q53.1188 1223.48 47.3897 1223.48 L46.0847 1223.48 L46.0847 1229.3 M43.6657 1217.62 L64.0042 1217.62 L64.0042 1223.48 L58.5933 1223.48 Q61.8398 1225.48 63.3994 1228.47 Q64.9272 1231.47 64.9272 1235.79 Q64.9272 1241.27 61.8716 1244.52 Q58.7843 1247.73 53.6281 1247.73 Q47.6125 1247.73 44.5569 1243.72 Q41.5014 1239.68 41.5014 1231.69 L41.5014 1223.48 L40.9285 1223.48 Q36.8862 1223.48 34.6901 1226.15 Q32.4621 1228.79 32.4621 1233.6 Q32.4621 1236.65 33.1941 1239.55 Q33.9262 1242.45 35.3903 1245.12 L29.9795 1245.12 Q28.7381 1241.91 28.1334 1238.88 Q27.4968 1235.86 27.4968 1232.99 Q27.4968 1225.26 31.5072 1221.44 Q35.5176 1217.62 43.6657 1217.62 Z\" fill=\"#000000\" fill-rule=\"evenodd\" fill-opacity=\"1\" /><path clip-path=\"url(#clip990)\" d=\"M29.7248 1179.9 L35.1993 1179.9 Q33.8307 1182.39 33.1623 1184.9 Q32.4621 1187.38 32.4621 1189.93 Q32.4621 1195.63 36.0905 1198.78 Q39.6872 1201.93 46.212 1201.93 Q52.7369 1201.93 56.3653 1198.78 Q59.9619 1195.63 59.9619 1189.93 Q59.9619 1187.38 59.2935 1184.9 Q58.5933 1182.39 57.2247 1179.9 L62.6355 1179.9 Q63.7814 1182.35 64.3543 1185 Q64.9272 1187.61 64.9272 1190.57 Q64.9272 1198.62 59.8664 1203.36 Q54.8057 1208.1 46.212 1208.1 Q37.491 1208.1 32.4939 1203.33 Q27.4968 1198.52 27.4968 1190.18 Q27.4968 1187.48 28.0697 1184.9 Q28.6108 1182.32 29.7248 1179.9 Z\" fill=\"#000000\" fill-rule=\"evenodd\" fill-opacity=\"1\" /><path clip-path=\"url(#clip990)\" d=\"M18.2347 1163.93 L28.3562 1163.93 L28.3562 1151.86 L32.9077 1151.86 L32.9077 1163.93 L52.2594 1163.93 Q56.6199 1163.93 57.8613 1162.75 Q59.1026 1161.54 59.1026 1157.88 L59.1026 1151.86 L64.0042 1151.86 L64.0042 1157.88 Q64.0042 1164.66 61.4897 1167.24 Q58.9434 1169.81 52.2594 1169.81 L32.9077 1169.81 L32.9077 1174.11 L28.3562 1174.11 L28.3562 1169.81 L18.2347 1169.81 L18.2347 1163.93 Z\" fill=\"#000000\" fill-rule=\"evenodd\" fill-opacity=\"1\" /><path clip-path=\"url(#clip990)\" d=\"M32.4621 1130.35 Q32.4621 1135.06 36.1542 1137.79 Q39.8145 1140.53 46.212 1140.53 Q52.6095 1140.53 56.3017 1137.83 Q59.9619 1135.09 59.9619 1130.35 Q59.9619 1125.67 56.2698 1122.93 Q52.5777 1120.19 46.212 1120.19 Q39.8781 1120.19 36.186 1122.93 Q32.4621 1125.67 32.4621 1130.35 M27.4968 1130.35 Q27.4968 1122.71 32.4621 1118.35 Q37.4273 1113.99 46.212 1113.99 Q54.9649 1113.99 59.9619 1118.35 Q64.9272 1122.71 64.9272 1130.35 Q64.9272 1138.02 59.9619 1142.38 Q54.9649 1146.71 46.212 1146.71 Q37.4273 1146.71 32.4621 1142.38 Q27.4968 1138.02 27.4968 1130.35 Z\" fill=\"#000000\" fill-rule=\"evenodd\" fill-opacity=\"1\" /><path clip-path=\"url(#clip990)\" d=\"M33.8307 1083.62 Q33.2578 1084.61 33.0032 1085.79 Q32.7167 1086.93 32.7167 1088.33 Q32.7167 1093.3 35.9632 1095.97 Q39.1779 1098.61 45.2253 1098.61 L64.0042 1098.61 L64.0042 1104.5 L28.3562 1104.5 L28.3562 1098.61 L33.8944 1098.61 Q30.6479 1096.77 29.0883 1093.81 Q27.4968 1090.85 27.4968 1086.61 Q27.4968 1086.01 27.5923 1085.28 Q27.656 1084.55 27.8151 1083.65 L33.8307 1083.62 Z\" fill=\"#000000\" fill-rule=\"evenodd\" fill-opacity=\"1\" /><path clip-path=\"url(#clip990)\" d=\"M32.4621 1042.95 Q32.4621 1047.66 36.1542 1050.39 Q39.8145 1053.13 46.212 1053.13 Q52.6095 1053.13 56.3017 1050.43 Q59.9619 1047.69 59.9619 1042.95 Q59.9619 1038.27 56.2698 1035.53 Q52.5777 1032.79 46.212 1032.79 Q39.8781 1032.79 36.186 1035.53 Q32.4621 1038.27 32.4621 1042.95 M27.4968 1042.95 Q27.4968 1035.31 32.4621 1030.95 Q37.4273 1026.59 46.212 1026.59 Q54.9649 1026.59 59.9619 1030.95 Q64.9272 1035.31 64.9272 1042.95 Q64.9272 1050.62 59.9619 1054.98 Q54.9649 1059.31 46.212 1059.31 Q37.4273 1059.31 32.4621 1054.98 Q27.4968 1050.62 27.4968 1042.95 Z\" fill=\"#000000\" fill-rule=\"evenodd\" fill-opacity=\"1\" /><path clip-path=\"url(#clip990)\" d=\"M14.479 998.831 L19.3487 998.831 L19.3487 1004.43 Q19.3487 1007.58 20.6219 1008.83 Q21.895 1010.03 25.2052 1010.03 L28.3562 1010.03 L28.3562 1000.39 L32.9077 1000.39 L32.9077 1010.03 L64.0042 1010.03 L64.0042 1015.92 L32.9077 1015.92 L32.9077 1021.52 L28.3562 1021.52 L28.3562 1015.92 L25.8736 1015.92 Q19.9216 1015.92 17.2162 1013.15 Q14.479 1010.38 14.479 1004.37 L14.479 998.831 Z\" fill=\"#000000\" fill-rule=\"evenodd\" fill-opacity=\"1\" /><path clip-path=\"url(#clip990)\" d=\"M58.657 967.544 L77.5631 967.544 L77.5631 973.432 L28.3562 973.432 L28.3562 967.544 L33.7671 967.544 Q30.5842 965.698 29.0564 962.897 Q27.4968 960.064 27.4968 956.149 Q27.4968 949.656 32.6531 945.614 Q37.8093 941.54 46.212 941.54 Q54.6147 941.54 59.771 945.614 Q64.9272 949.656 64.9272 956.149 Q64.9272 960.064 63.3994 962.897 Q61.8398 965.698 58.657 967.544 M46.212 947.619 Q39.7508 947.619 36.0905 950.293 Q32.3984 952.934 32.3984 957.581 Q32.3984 962.228 36.0905 964.902 Q39.7508 967.544 46.212 967.544 Q52.6732 967.544 56.3653 964.902 Q60.0256 962.228 60.0256 957.581 Q60.0256 952.934 56.3653 950.293 Q52.6732 947.619 46.212 947.619 Z\" fill=\"#000000\" fill-rule=\"evenodd\" fill-opacity=\"1\" /><path clip-path=\"url(#clip990)\" d=\"M44.7161 901.34 L47.5806 901.34 L47.5806 928.267 Q53.6281 927.885 56.8109 924.639 Q59.9619 921.36 59.9619 915.536 Q59.9619 912.162 59.1344 909.011 Q58.3069 905.828 56.6518 902.709 L62.1899 902.709 Q63.5267 905.86 64.227 909.17 Q64.9272 912.48 64.9272 915.886 Q64.9272 924.416 59.9619 929.413 Q54.9967 934.378 46.5303 934.378 Q37.7774 934.378 32.6531 929.668 Q27.4968 924.925 27.4968 916.904 Q27.4968 909.711 32.1438 905.542 Q36.7589 901.34 44.7161 901.34 M42.9973 907.197 Q38.1912 907.26 35.3266 909.902 Q32.4621 912.512 32.4621 916.841 Q32.4621 921.742 35.2312 924.702 Q38.0002 927.631 43.0292 928.076 L42.9973 907.197 Z\" fill=\"#000000\" fill-rule=\"evenodd\" fill-opacity=\"1\" /><path clip-path=\"url(#clip990)\" d=\"M33.8307 871.071 Q33.2578 872.058 33.0032 873.236 Q32.7167 874.382 32.7167 875.782 Q32.7167 880.747 35.9632 883.421 Q39.1779 886.063 45.2253 886.063 L64.0042 886.063 L64.0042 891.951 L28.3562 891.951 L28.3562 886.063 L33.8944 886.063 Q30.6479 884.217 29.0883 881.257 Q27.4968 878.296 27.4968 874.063 Q27.4968 873.459 27.5923 872.726 Q27.656 871.994 27.8151 871.103 L33.8307 871.071 Z\" fill=\"#000000\" fill-rule=\"evenodd\" fill-opacity=\"1\" /><path clip-path=\"url(#clip990)\" d=\"M14.479 846.882 L19.3487 846.882 L19.3487 852.484 Q19.3487 855.635 20.6219 856.876 Q21.895 858.085 25.2052 858.085 L28.3562 858.085 L28.3562 848.441 L32.9077 848.441 L32.9077 858.085 L64.0042 858.085 L64.0042 863.974 L32.9077 863.974 L32.9077 869.575 L28.3562 869.575 L28.3562 863.974 L25.8736 863.974 Q19.9216 863.974 17.2162 861.205 Q14.479 858.435 14.479 852.42 L14.479 846.882 Z\" fill=\"#000000\" fill-rule=\"evenodd\" fill-opacity=\"1\" /><path clip-path=\"url(#clip990)\" d=\"M32.4621 828.167 Q32.4621 832.877 36.1542 835.614 Q39.8145 838.352 46.212 838.352 Q52.6095 838.352 56.3017 835.646 Q59.9619 832.909 59.9619 828.167 Q59.9619 823.488 56.2698 820.75 Q52.5777 818.013 46.212 818.013 Q39.8781 818.013 36.186 820.75 Q32.4621 823.488 32.4621 828.167 M27.4968 828.167 Q27.4968 820.528 32.4621 816.167 Q37.4273 811.807 46.212 811.807 Q54.9649 811.807 59.9619 816.167 Q64.9272 820.528 64.9272 828.167 Q64.9272 835.837 59.9619 840.198 Q54.9649 844.526 46.212 844.526 Q37.4273 844.526 32.4621 840.198 Q27.4968 835.837 27.4968 828.167 Z\" fill=\"#000000\" fill-rule=\"evenodd\" fill-opacity=\"1\" /><path clip-path=\"url(#clip990)\" d=\"M33.8307 781.442 Q33.2578 782.429 33.0032 783.607 Q32.7167 784.752 32.7167 786.153 Q32.7167 791.118 35.9632 793.792 Q39.1779 796.433 45.2253 796.433 L64.0042 796.433 L64.0042 802.322 L28.3562 802.322 L28.3562 796.433 L33.8944 796.433 Q30.6479 794.587 29.0883 791.627 Q27.4968 788.667 27.4968 784.434 Q27.4968 783.829 27.5923 783.097 Q27.656 782.365 27.8151 781.474 L33.8307 781.442 Z\" fill=\"#000000\" fill-rule=\"evenodd\" fill-opacity=\"1\" /><path clip-path=\"url(#clip990)\" d=\"M35.1993 748.691 Q31.2526 746.495 29.3747 743.439 Q27.4968 740.383 27.4968 736.246 Q27.4968 730.676 31.4117 727.652 Q35.2948 724.628 42.4881 724.628 L64.0042 724.628 L64.0042 730.517 L42.679 730.517 Q37.5546 730.517 35.072 732.331 Q32.5894 734.145 32.5894 737.869 Q32.5894 742.42 35.6131 745.062 Q38.6368 747.704 43.8567 747.704 L64.0042 747.704 L64.0042 753.592 L42.679 753.592 Q37.5228 753.592 35.072 755.407 Q32.5894 757.221 32.5894 761.008 Q32.5894 765.496 35.6449 768.138 Q38.6686 770.78 43.8567 770.78 L64.0042 770.78 L64.0042 776.668 L28.3562 776.668 L28.3562 770.78 L33.8944 770.78 Q30.616 768.775 29.0564 765.974 Q27.4968 763.173 27.4968 759.321 Q27.4968 755.438 29.4702 752.733 Q31.4436 749.996 35.1993 748.691 Z\" fill=\"#000000\" fill-rule=\"evenodd\" fill-opacity=\"1\" /><path clip-path=\"url(#clip990)\" d=\"M46.0847 696.747 Q46.0847 703.844 47.7079 706.582 Q49.3312 709.319 53.2461 709.319 Q56.3653 709.319 58.2114 707.282 Q60.0256 705.213 60.0256 701.68 Q60.0256 696.81 56.5881 693.882 Q53.1188 690.922 47.3897 690.922 L46.0847 690.922 L46.0847 696.747 M43.6657 685.065 L64.0042 685.065 L64.0042 690.922 L58.5933 690.922 Q61.8398 692.927 63.3994 695.919 Q64.9272 698.911 64.9272 703.24 Q64.9272 708.714 61.8716 711.961 Q58.7843 715.175 53.6281 715.175 Q47.6125 715.175 44.5569 711.165 Q41.5014 707.123 41.5014 699.134 L41.5014 690.922 L40.9285 690.922 Q36.8862 690.922 34.6901 693.596 Q32.4621 696.237 32.4621 701.043 Q32.4621 704.099 33.1941 706.995 Q33.9262 709.892 35.3903 712.565 L29.9795 712.565 Q28.7381 709.351 28.1334 706.327 Q27.4968 703.303 27.4968 700.439 Q27.4968 692.704 31.5072 688.885 Q35.5176 685.065 43.6657 685.065 Z\" fill=\"#000000\" fill-rule=\"evenodd\" fill-opacity=\"1\" /><path clip-path=\"url(#clip990)\" d=\"M42.4881 643.37 L64.0042 643.37 L64.0042 649.227 L42.679 649.227 Q37.6183 649.227 35.1038 651.2 Q32.5894 653.173 32.5894 657.12 Q32.5894 661.862 35.6131 664.6 Q38.6368 667.337 43.8567 667.337 L64.0042 667.337 L64.0042 673.225 L28.3562 673.225 L28.3562 667.337 L33.8944 667.337 Q30.6797 665.236 29.0883 662.404 Q27.4968 659.539 27.4968 655.815 Q27.4968 649.672 31.3163 646.521 Q35.1038 643.37 42.4881 643.37 Z\" fill=\"#000000\" fill-rule=\"evenodd\" fill-opacity=\"1\" /><path clip-path=\"url(#clip990)\" d=\"M29.7248 606.035 L35.1993 606.035 Q33.8307 608.518 33.1623 611.032 Q32.4621 613.515 32.4621 616.061 Q32.4621 621.759 36.0905 624.91 Q39.6872 628.061 46.212 628.061 Q52.7369 628.061 56.3653 624.91 Q59.9619 621.759 59.9619 616.061 Q59.9619 613.515 59.2935 611.032 Q58.5933 608.518 57.2247 606.035 L62.6355 606.035 Q63.7814 608.486 64.3543 611.128 Q64.9272 613.738 64.9272 616.698 Q64.9272 624.75 59.8664 629.493 Q54.8057 634.235 46.212 634.235 Q37.491 634.235 32.4939 629.461 Q27.4968 624.655 27.4968 616.316 Q27.4968 613.61 28.0697 611.032 Q28.6108 608.454 29.7248 606.035 Z\" fill=\"#000000\" fill-rule=\"evenodd\" fill-opacity=\"1\" /><path clip-path=\"url(#clip990)\" d=\"M44.7161 565.358 L47.5806 565.358 L47.5806 592.285 Q53.6281 591.903 56.8109 588.657 Q59.9619 585.378 59.9619 579.554 Q59.9619 576.18 59.1344 573.029 Q58.3069 569.846 56.6518 566.727 L62.1899 566.727 Q63.5267 569.878 64.227 573.188 Q64.9272 576.498 64.9272 579.904 Q64.9272 588.434 59.9619 593.431 Q54.9967 598.396 46.5303 598.396 Q37.7774 598.396 32.6531 593.686 Q27.4968 588.943 27.4968 580.923 Q27.4968 573.729 32.1438 569.56 Q36.7589 565.358 44.7161 565.358 M42.9973 571.215 Q38.1912 571.278 35.3266 573.92 Q32.4621 576.53 32.4621 580.859 Q32.4621 585.76 35.2312 588.72 Q38.0002 591.649 43.0292 592.094 L42.9973 571.215 Z\" fill=\"#000000\" fill-rule=\"evenodd\" fill-opacity=\"1\" /><path clip-path=\"url(#clip990)\" d=\"M28.3562 535.026 L28.3562 529.169 L64.0042 529.169 L64.0042 535.026 L28.3562 535.026 M14.479 535.026 L14.479 529.169 L21.895 529.169 L21.895 535.026 L14.479 535.026 Z\" fill=\"#000000\" fill-rule=\"evenodd\" fill-opacity=\"1\" /><path clip-path=\"url(#clip990)\" d=\"M42.4881 487.283 L64.0042 487.283 L64.0042 493.139 L42.679 493.139 Q37.6183 493.139 35.1038 495.113 Q32.5894 497.086 32.5894 501.033 Q32.5894 505.775 35.6131 508.513 Q38.6368 511.25 43.8567 511.25 L64.0042 511.25 L64.0042 517.138 L28.3562 517.138 L28.3562 511.25 L33.8944 511.25 Q30.6797 509.149 29.0883 506.316 Q27.4968 503.452 27.4968 499.728 Q27.4968 493.585 31.3163 490.434 Q35.1038 487.283 42.4881 487.283 Z\" fill=\"#000000\" fill-rule=\"evenodd\" fill-opacity=\"1\" /><path clip-path=\"url(#clip990)\" d=\"M29.7248 449.948 L35.1993 449.948 Q33.8307 452.431 33.1623 454.945 Q32.4621 457.428 32.4621 459.974 Q32.4621 465.671 36.0905 468.822 Q39.6872 471.973 46.212 471.973 Q52.7369 471.973 56.3653 468.822 Q59.9619 465.671 59.9619 459.974 Q59.9619 457.428 59.2935 454.945 Q58.5933 452.431 57.2247 449.948 L62.6355 449.948 Q63.7814 452.399 64.3543 455.041 Q64.9272 457.651 64.9272 460.611 Q64.9272 468.663 59.8664 473.406 Q54.8057 478.148 46.212 478.148 Q37.491 478.148 32.4939 473.374 Q27.4968 468.568 27.4968 460.229 Q27.4968 457.523 28.0697 454.945 Q28.6108 452.367 29.7248 449.948 Z\" fill=\"#000000\" fill-rule=\"evenodd\" fill-opacity=\"1\" /><path clip-path=\"url(#clip990)\" d=\"M33.8307 419.106 Q33.2578 420.093 33.0032 421.271 Q32.7167 422.416 32.7167 423.817 Q32.7167 428.782 35.9632 431.456 Q39.1779 434.097 45.2253 434.097 L64.0042 434.097 L64.0042 439.986 L28.3562 439.986 L28.3562 434.097 L33.8944 434.097 Q30.6479 432.251 29.0883 429.291 Q27.4968 426.331 27.4968 422.098 Q27.4968 421.493 27.5923 420.761 Q27.656 420.029 27.8151 419.138 L33.8307 419.106 Z\" fill=\"#000000\" fill-rule=\"evenodd\" fill-opacity=\"1\" /><path clip-path=\"url(#clip990)\" d=\"M44.7161 383.904 L47.5806 383.904 L47.5806 410.831 Q53.6281 410.449 56.8109 407.202 Q59.9619 403.924 59.9619 398.099 Q59.9619 394.726 59.1344 391.575 Q58.3069 388.392 56.6518 385.273 L62.1899 385.273 Q63.5267 388.424 64.227 391.734 Q64.9272 395.044 64.9272 398.45 Q64.9272 406.98 59.9619 411.977 Q54.9967 416.942 46.5303 416.942 Q37.7774 416.942 32.6531 412.231 Q27.4968 407.489 27.4968 399.468 Q27.4968 392.275 32.1438 388.105 Q36.7589 383.904 44.7161 383.904 M42.9973 389.76 Q38.1912 389.824 35.3266 392.466 Q32.4621 395.076 32.4621 399.404 Q32.4621 404.306 35.2312 407.266 Q38.0002 410.194 43.0292 410.64 L42.9973 389.76 Z\" fill=\"#000000\" fill-rule=\"evenodd\" fill-opacity=\"1\" /><path clip-path=\"url(#clip990)\" d=\"M46.0847 358.091 Q46.0847 365.189 47.7079 367.926 Q49.3312 370.663 53.2461 370.663 Q56.3653 370.663 58.2114 368.626 Q60.0256 366.557 60.0256 363.024 Q60.0256 358.155 56.5881 355.226 Q53.1188 352.266 47.3897 352.266 L46.0847 352.266 L46.0847 358.091 M43.6657 346.41 L64.0042 346.41 L64.0042 352.266 L58.5933 352.266 Q61.8398 354.272 63.3994 357.263 Q64.9272 360.255 64.9272 364.584 Q64.9272 370.058 61.8716 373.305 Q58.7843 376.52 53.6281 376.52 Q47.6125 376.52 44.5569 372.509 Q41.5014 368.467 41.5014 360.478 L41.5014 352.266 L40.9285 352.266 Q36.8862 352.266 34.6901 354.94 Q32.4621 357.582 32.4621 362.388 Q32.4621 365.443 33.1941 368.34 Q33.9262 371.236 35.3903 373.91 L29.9795 373.91 Q28.7381 370.695 28.1334 367.671 Q27.4968 364.648 27.4968 361.783 Q27.4968 354.049 31.5072 350.229 Q35.5176 346.41 43.6657 346.41 Z\" fill=\"#000000\" fill-rule=\"evenodd\" fill-opacity=\"1\" /><path clip-path=\"url(#clip990)\" d=\"M29.4065 311.621 L34.9447 311.621 Q33.6716 314.104 33.035 316.778 Q32.3984 319.451 32.3984 322.316 Q32.3984 326.676 33.7352 328.872 Q35.072 331.037 37.7456 331.037 Q39.7826 331.037 40.9603 329.477 Q42.1061 327.917 43.1565 323.207 L43.6021 321.202 Q44.9389 314.963 47.3897 312.353 Q49.8086 309.712 54.1691 309.712 Q59.1344 309.712 62.0308 313.658 Q64.9272 317.573 64.9272 324.448 Q64.9272 327.313 64.3543 330.432 Q63.8132 333.519 62.6992 336.957 L56.6518 336.957 Q58.3387 333.71 59.198 330.559 Q60.0256 327.408 60.0256 324.321 Q60.0256 320.183 58.6251 317.955 Q57.1929 315.727 54.6147 315.727 Q52.2276 315.727 50.9545 317.35 Q49.6813 318.942 48.5037 324.385 L48.0262 326.422 Q46.8804 331.864 44.5251 334.283 Q42.138 336.702 38.0002 336.702 Q32.9713 336.702 30.2341 333.137 Q27.4968 329.573 27.4968 323.016 Q27.4968 319.769 27.9743 316.905 Q28.4517 314.04 29.4065 311.621 Z\" fill=\"#000000\" fill-rule=\"evenodd\" fill-opacity=\"1\" /><path clip-path=\"url(#clip990)\" d=\"M44.7161 269.894 L47.5806 269.894 L47.5806 296.821 Q53.6281 296.439 56.8109 293.193 Q59.9619 289.914 59.9619 284.09 Q59.9619 280.716 59.1344 277.565 Q58.3069 274.382 56.6518 271.263 L62.1899 271.263 Q63.5267 274.414 64.227 277.724 Q64.9272 281.034 64.9272 284.44 Q64.9272 292.97 59.9619 297.967 Q54.9967 302.932 46.5303 302.932 Q37.7774 302.932 32.6531 298.221 Q27.4968 293.479 27.4968 285.458 Q27.4968 278.265 32.1438 274.095 Q36.7589 269.894 44.7161 269.894 M42.9973 275.751 Q38.1912 275.814 35.3266 278.456 Q32.4621 281.066 32.4621 285.395 Q32.4621 290.296 35.2312 293.256 Q38.0002 296.184 43.0292 296.63 L42.9973 275.751 Z\" fill=\"#000000\" fill-rule=\"evenodd\" fill-opacity=\"1\" /><path clip-path=\"url(#clip990)\" d=\"M116.231 18.8205 L116.231 41.5461 L126.52 41.5461 Q132.232 41.5461 135.351 38.5889 Q138.47 35.6318 138.47 30.163 Q138.47 24.7348 135.351 21.7777 Q132.232 18.8205 126.52 18.8205 L116.231 18.8205 M108.048 12.096 L126.52 12.096 Q136.688 12.096 141.873 16.714 Q147.098 21.2916 147.098 30.163 Q147.098 39.1155 141.873 43.6931 Q136.688 48.2706 126.52 48.2706 L116.231 48.2706 L116.231 72.576 L108.048 72.576 L108.048 12.096 Z\" fill=\"#000000\" fill-rule=\"evenodd\" fill-opacity=\"1\" /><path clip-path=\"url(#clip990)\" d=\"M193.603 48.0275 L193.603 51.6733 L159.332 51.6733 Q159.818 59.3701 163.95 63.421 Q168.123 67.4314 175.536 67.4314 Q179.83 67.4314 183.84 66.3781 Q187.891 65.3249 191.861 63.2184 L191.861 70.267 Q187.851 71.9684 183.638 72.8596 Q179.425 73.7508 175.09 73.7508 Q164.234 73.7508 157.874 67.4314 Q151.554 61.1119 151.554 50.3365 Q151.554 39.1965 157.55 32.6746 Q163.586 26.1121 173.794 26.1121 Q182.949 26.1121 188.256 32.0264 Q193.603 37.9003 193.603 48.0275 M186.149 45.84 Q186.068 39.7232 182.706 36.0774 Q179.384 32.4315 173.875 32.4315 Q167.637 32.4315 163.869 35.9558 Q160.142 39.4801 159.575 45.8805 L186.149 45.84 Z\" fill=\"#000000\" fill-rule=\"evenodd\" fill-opacity=\"1\" /><path clip-path=\"url(#clip990)\" d=\"M232.127 34.1734 Q230.871 33.4443 229.372 33.1202 Q227.914 32.7556 226.132 32.7556 Q219.812 32.7556 216.409 36.8875 Q213.047 40.9789 213.047 48.6757 L213.047 72.576 L205.553 72.576 L205.553 27.2059 L213.047 27.2059 L213.047 34.2544 Q215.397 30.1225 219.164 28.1376 Q222.931 26.1121 228.319 26.1121 Q229.089 26.1121 230.02 26.2337 Q230.952 26.3147 232.086 26.5172 L232.127 34.1734 Z\" fill=\"#000000\" fill-rule=\"evenodd\" fill-opacity=\"1\" /><path clip-path=\"url(#clip990)\" d=\"M262.914 9.54393 L262.914 15.7418 L255.784 15.7418 Q251.774 15.7418 250.194 17.3622 Q248.655 18.9825 248.655 23.1955 L248.655 27.2059 L260.929 27.2059 L260.929 32.9987 L248.655 32.9987 L248.655 72.576 L241.16 72.576 L241.16 32.9987 L234.031 32.9987 L234.031 27.2059 L241.16 27.2059 L241.16 24.0462 Q241.16 16.471 244.685 13.0277 Q248.209 9.54393 255.865 9.54393 L262.914 9.54393 Z\" fill=\"#000000\" fill-rule=\"evenodd\" fill-opacity=\"1\" /><path clip-path=\"url(#clip990)\" d=\"M286.733 32.4315 Q280.738 32.4315 277.254 37.1306 Q273.77 41.7891 273.77 49.9314 Q273.77 58.0738 277.213 62.7728 Q280.697 67.4314 286.733 67.4314 Q292.688 67.4314 296.172 62.7323 Q299.655 58.0333 299.655 49.9314 Q299.655 41.8701 296.172 37.1711 Q292.688 32.4315 286.733 32.4315 M286.733 26.1121 Q296.455 26.1121 302.005 32.4315 Q307.555 38.7509 307.555 49.9314 Q307.555 61.0714 302.005 67.4314 Q296.455 73.7508 286.733 73.7508 Q276.97 73.7508 271.421 67.4314 Q265.911 61.0714 265.911 49.9314 Q265.911 38.7509 271.421 32.4315 Q276.97 26.1121 286.733 26.1121 Z\" fill=\"#000000\" fill-rule=\"evenodd\" fill-opacity=\"1\" /><path clip-path=\"url(#clip990)\" d=\"M346.2 34.1734 Q344.945 33.4443 343.446 33.1202 Q341.987 32.7556 340.205 32.7556 Q333.886 32.7556 330.483 36.8875 Q327.121 40.9789 327.121 48.6757 L327.121 72.576 L319.626 72.576 L319.626 27.2059 L327.121 27.2059 L327.121 34.2544 Q329.47 30.1225 333.237 28.1376 Q337.005 26.1121 342.393 26.1121 Q343.162 26.1121 344.094 26.2337 Q345.026 26.3147 346.16 26.5172 L346.2 34.1734 Z\" fill=\"#000000\" fill-rule=\"evenodd\" fill-opacity=\"1\" /><path clip-path=\"url(#clip990)\" d=\"M387.884 35.9153 Q390.679 30.8922 394.568 28.5022 Q398.457 26.1121 403.723 26.1121 Q410.812 26.1121 414.661 31.0947 Q418.509 36.0368 418.509 45.1919 L418.509 72.576 L411.015 72.576 L411.015 45.4349 Q411.015 38.913 408.706 35.7533 Q406.397 32.5936 401.657 32.5936 Q395.864 32.5936 392.502 36.4419 Q389.14 40.2903 389.14 46.9338 L389.14 72.576 L381.646 72.576 L381.646 45.4349 Q381.646 38.8725 379.337 35.7533 Q377.028 32.5936 372.207 32.5936 Q366.495 32.5936 363.133 36.4824 Q359.771 40.3308 359.771 46.9338 L359.771 72.576 L352.277 72.576 L352.277 27.2059 L359.771 27.2059 L359.771 34.2544 Q362.323 30.082 365.888 28.0971 Q369.453 26.1121 374.354 26.1121 Q379.296 26.1121 382.74 28.6237 Q386.223 31.1352 387.884 35.9153 Z\" fill=\"#000000\" fill-rule=\"evenodd\" fill-opacity=\"1\" /><path clip-path=\"url(#clip990)\" d=\"M453.995 49.7694 Q444.961 49.7694 441.478 51.8354 Q437.994 53.9013 437.994 58.8839 Q437.994 62.8538 440.586 65.2034 Q443.22 67.5124 447.716 67.5124 Q453.914 67.5124 457.641 63.1374 Q461.408 58.7219 461.408 51.4303 L461.408 49.7694 L453.995 49.7694 M468.862 46.6907 L468.862 72.576 L461.408 72.576 L461.408 65.6895 Q458.856 69.8214 455.048 71.8063 Q451.24 73.7508 445.731 73.7508 Q438.764 73.7508 434.632 69.8619 Q430.54 65.9325 430.54 59.3701 Q430.54 51.7138 435.644 47.825 Q440.789 43.9361 450.957 43.9361 L461.408 43.9361 L461.408 43.2069 Q461.408 38.0623 458.005 35.2672 Q454.643 32.4315 448.526 32.4315 Q444.637 32.4315 440.951 33.3632 Q437.265 34.295 433.862 36.1584 L433.862 29.2718 Q437.953 27.692 441.802 26.9223 Q445.65 26.1121 449.296 26.1121 Q459.14 26.1121 464.001 31.2163 Q468.862 36.3204 468.862 46.6907 Z\" fill=\"#000000\" fill-rule=\"evenodd\" fill-opacity=\"1\" /><path clip-path=\"url(#clip990)\" d=\"M521.929 45.1919 L521.929 72.576 L514.475 72.576 L514.475 45.4349 Q514.475 38.994 511.963 35.7938 Q509.452 32.5936 504.429 32.5936 Q498.393 32.5936 494.909 36.4419 Q491.425 40.2903 491.425 46.9338 L491.425 72.576 L483.931 72.576 L483.931 27.2059 L491.425 27.2059 L491.425 34.2544 Q494.099 30.163 497.704 28.1376 Q501.35 26.1121 506.09 26.1121 Q513.908 26.1121 517.918 30.9732 Q521.929 35.7938 521.929 45.1919 Z\" fill=\"#000000\" fill-rule=\"evenodd\" fill-opacity=\"1\" /><path clip-path=\"url(#clip990)\" d=\"M569.446 28.9478 L569.446 35.9153 Q566.286 34.1734 563.086 33.3227 Q559.926 32.4315 556.685 32.4315 Q549.434 32.4315 545.424 37.0496 Q541.413 41.6271 541.413 49.9314 Q541.413 58.2358 545.424 62.8538 Q549.434 67.4314 556.685 67.4314 Q559.926 67.4314 563.086 66.5807 Q566.286 65.6895 569.446 63.9476 L569.446 70.8341 Q566.327 72.2924 562.964 73.0216 Q559.643 73.7508 555.875 73.7508 Q545.626 73.7508 539.591 67.3098 Q533.555 60.8689 533.555 49.9314 Q533.555 38.832 539.631 32.472 Q545.748 26.1121 556.361 26.1121 Q559.805 26.1121 563.086 26.8413 Q566.367 27.5299 569.446 28.9478 Z\" fill=\"#000000\" fill-rule=\"evenodd\" fill-opacity=\"1\" /><path clip-path=\"url(#clip990)\" d=\"M621.216 48.0275 L621.216 51.6733 L586.946 51.6733 Q587.432 59.3701 591.564 63.421 Q595.736 67.4314 603.149 67.4314 Q607.443 67.4314 611.454 66.3781 Q615.504 65.3249 619.474 63.2184 L619.474 70.267 Q615.464 71.9684 611.251 72.8596 Q607.038 73.7508 602.704 73.7508 Q591.847 73.7508 585.487 67.4314 Q579.168 61.1119 579.168 50.3365 Q579.168 39.1965 585.163 32.6746 Q591.199 26.1121 601.407 26.1121 Q610.562 26.1121 615.869 32.0264 Q621.216 37.9003 621.216 48.0275 M613.763 45.84 Q613.682 39.7232 610.319 36.0774 Q606.998 32.4315 601.488 32.4315 Q595.25 32.4315 591.483 35.9558 Q587.756 39.4801 587.189 45.8805 L613.763 45.84 Z\" fill=\"#000000\" fill-rule=\"evenodd\" fill-opacity=\"1\" /><path clip-path=\"url(#clip990)\" d=\"M659.821 27.2059 L667.275 27.2059 L667.275 72.576 L659.821 72.576 L659.821 27.2059 M659.821 9.54393 L667.275 9.54393 L667.275 18.9825 L659.821 18.9825 L659.821 9.54393 Z\" fill=\"#000000\" fill-rule=\"evenodd\" fill-opacity=\"1\" /><path clip-path=\"url(#clip990)\" d=\"M720.585 45.1919 L720.585 72.576 L713.131 72.576 L713.131 45.4349 Q713.131 38.994 710.62 35.7938 Q708.108 32.5936 703.085 32.5936 Q697.049 32.5936 693.565 36.4419 Q690.082 40.2903 690.082 46.9338 L690.082 72.576 L682.587 72.576 L682.587 27.2059 L690.082 27.2059 L690.082 34.2544 Q692.755 30.163 696.361 28.1376 Q700.006 26.1121 704.746 26.1121 Q712.564 26.1121 716.575 30.9732 Q720.585 35.7938 720.585 45.1919 Z\" fill=\"#000000\" fill-rule=\"evenodd\" fill-opacity=\"1\" /><path clip-path=\"url(#clip990)\" d=\"M768.102 28.9478 L768.102 35.9153 Q764.942 34.1734 761.742 33.3227 Q758.582 32.4315 755.342 32.4315 Q748.091 32.4315 744.08 37.0496 Q740.07 41.6271 740.07 49.9314 Q740.07 58.2358 744.08 62.8538 Q748.091 67.4314 755.342 67.4314 Q758.582 67.4314 761.742 66.5807 Q764.942 65.6895 768.102 63.9476 L768.102 70.8341 Q764.983 72.2924 761.621 73.0216 Q758.299 73.7508 754.532 73.7508 Q744.283 73.7508 738.247 67.3098 Q732.211 60.8689 732.211 49.9314 Q732.211 38.832 738.287 32.472 Q744.404 26.1121 755.018 26.1121 Q758.461 26.1121 761.742 26.8413 Q765.023 27.5299 768.102 28.9478 Z\" fill=\"#000000\" fill-rule=\"evenodd\" fill-opacity=\"1\" /><path clip-path=\"url(#clip990)\" d=\"M807.355 34.1734 Q806.1 33.4443 804.601 33.1202 Q803.142 32.7556 801.36 32.7556 Q795.041 32.7556 791.638 36.8875 Q788.276 40.9789 788.276 48.6757 L788.276 72.576 L780.781 72.576 L780.781 27.2059 L788.276 27.2059 L788.276 34.2544 Q790.625 30.1225 794.392 28.1376 Q798.16 26.1121 803.547 26.1121 Q804.317 26.1121 805.249 26.2337 Q806.181 26.3147 807.315 26.5172 L807.355 34.1734 Z\" fill=\"#000000\" fill-rule=\"evenodd\" fill-opacity=\"1\" /><path clip-path=\"url(#clip990)\" d=\"M852.158 48.0275 L852.158 51.6733 L817.888 51.6733 Q818.374 59.3701 822.506 63.421 Q826.678 67.4314 834.091 67.4314 Q838.385 67.4314 842.396 66.3781 Q846.447 65.3249 850.416 63.2184 L850.416 70.267 Q846.406 71.9684 842.193 72.8596 Q837.98 73.7508 833.646 73.7508 Q822.789 73.7508 816.429 67.4314 Q810.11 61.1119 810.11 50.3365 Q810.11 39.1965 816.105 32.6746 Q822.141 26.1121 832.349 26.1121 Q841.504 26.1121 846.811 32.0264 Q852.158 37.9003 852.158 48.0275 M844.705 45.84 Q844.624 39.7232 841.261 36.0774 Q837.94 32.4315 832.43 32.4315 Q826.192 32.4315 822.425 35.9558 Q818.698 39.4801 818.131 45.8805 L844.705 45.84 Z\" fill=\"#000000\" fill-rule=\"evenodd\" fill-opacity=\"1\" /><path clip-path=\"url(#clip990)\" d=\"M885.011 49.7694 Q875.978 49.7694 872.494 51.8354 Q869.01 53.9013 869.01 58.8839 Q869.01 62.8538 871.603 65.2034 Q874.236 67.5124 878.732 67.5124 Q884.93 67.5124 888.657 63.1374 Q892.424 58.7219 892.424 51.4303 L892.424 49.7694 L885.011 49.7694 M899.878 46.6907 L899.878 72.576 L892.424 72.576 L892.424 65.6895 Q889.872 69.8214 886.064 71.8063 Q882.257 73.7508 876.747 73.7508 Q869.78 73.7508 865.648 69.8619 Q861.556 65.9325 861.556 59.3701 Q861.556 51.7138 866.661 47.825 Q871.805 43.9361 881.973 43.9361 L892.424 43.9361 L892.424 43.2069 Q892.424 38.0623 889.022 35.2672 Q885.659 32.4315 879.542 32.4315 Q875.654 32.4315 871.967 33.3632 Q868.281 34.295 864.878 36.1584 L864.878 29.2718 Q868.97 27.692 872.818 26.9223 Q876.666 26.1121 880.312 26.1121 Q890.156 26.1121 895.017 31.2163 Q899.878 36.3204 899.878 46.6907 Z\" fill=\"#000000\" fill-rule=\"evenodd\" fill-opacity=\"1\" /><path clip-path=\"url(#clip990)\" d=\"M944.154 28.5427 L944.154 35.5912 Q940.995 33.9709 937.592 33.1607 Q934.189 32.3505 930.543 32.3505 Q924.994 32.3505 922.198 34.0519 Q919.444 35.7533 919.444 39.156 Q919.444 41.7486 921.429 43.2475 Q923.414 44.7058 929.409 46.0426 L931.961 46.6097 Q939.901 48.3111 943.223 51.4303 Q946.585 54.509 946.585 60.0587 Q946.585 66.3781 941.562 70.0644 Q936.579 73.7508 927.829 73.7508 Q924.183 73.7508 920.214 73.0216 Q916.284 72.3329 911.909 70.9151 L911.909 63.2184 Q916.041 65.3654 920.051 66.4591 Q924.062 67.5124 927.991 67.5124 Q933.257 67.5124 936.093 65.73 Q938.929 63.9071 938.929 60.6258 Q938.929 57.5877 936.863 55.9673 Q934.837 54.3469 927.91 52.8481 L925.318 52.2405 Q918.391 50.7821 915.312 47.7845 Q912.233 44.7463 912.233 39.4801 Q912.233 33.0797 916.77 29.5959 Q921.307 26.1121 929.652 26.1121 Q933.784 26.1121 937.43 26.7198 Q941.076 27.3274 944.154 28.5427 Z\" fill=\"#000000\" fill-rule=\"evenodd\" fill-opacity=\"1\" /><path clip-path=\"url(#clip990)\" d=\"M997.262 48.0275 L997.262 51.6733 L962.991 51.6733 Q963.477 59.3701 967.609 63.421 Q971.782 67.4314 979.195 67.4314 Q983.489 67.4314 987.499 66.3781 Q991.55 65.3249 995.52 63.2184 L995.52 70.267 Q991.509 71.9684 987.296 72.8596 Q983.084 73.7508 978.749 73.7508 Q967.893 73.7508 961.533 67.4314 Q955.213 61.1119 955.213 50.3365 Q955.213 39.1965 961.209 32.6746 Q967.245 26.1121 977.453 26.1121 Q986.608 26.1121 991.915 32.0264 Q997.262 37.9003 997.262 48.0275 M989.808 45.84 Q989.727 39.7232 986.365 36.0774 Q983.043 32.4315 977.534 32.4315 Q971.295 32.4315 967.528 35.9558 Q963.801 39.4801 963.234 45.8805 L989.808 45.84 Z\" fill=\"#000000\" fill-rule=\"evenodd\" fill-opacity=\"1\" /><path clip-path=\"url(#clip990)\" d=\"M1058.84 9.54393 L1058.84 15.7418 L1051.71 15.7418 Q1047.7 15.7418 1046.12 17.3622 Q1044.58 18.9825 1044.58 23.1955 L1044.58 27.2059 L1056.85 27.2059 L1056.85 32.9987 L1044.58 32.9987 L1044.58 72.576 L1037.08 72.576 L1037.08 32.9987 L1029.95 32.9987 L1029.95 27.2059 L1037.08 27.2059 L1037.08 24.0462 Q1037.08 16.471 1040.61 13.0277 Q1044.13 9.54393 1051.79 9.54393 L1058.84 9.54393 Z\" fill=\"#000000\" fill-rule=\"evenodd\" fill-opacity=\"1\" /><path clip-path=\"url(#clip990)\" d=\"M1091.36 34.1734 Q1090.11 33.4443 1088.61 33.1202 Q1087.15 32.7556 1085.37 32.7556 Q1079.05 32.7556 1075.65 36.8875 Q1072.28 40.9789 1072.28 48.6757 L1072.28 72.576 L1064.79 72.576 L1064.79 27.2059 L1072.28 27.2059 L1072.28 34.2544 Q1074.63 30.1225 1078.4 28.1376 Q1082.17 26.1121 1087.56 26.1121 Q1088.33 26.1121 1089.26 26.2337 Q1090.19 26.3147 1091.32 26.5172 L1091.36 34.1734 Z\" fill=\"#000000\" fill-rule=\"evenodd\" fill-opacity=\"1\" /><path clip-path=\"url(#clip990)\" d=\"M1114.94 32.4315 Q1108.95 32.4315 1105.46 37.1306 Q1101.98 41.7891 1101.98 49.9314 Q1101.98 58.0738 1105.42 62.7728 Q1108.9 67.4314 1114.94 67.4314 Q1120.9 67.4314 1124.38 62.7323 Q1127.86 58.0333 1127.86 49.9314 Q1127.86 41.8701 1124.38 37.1711 Q1120.9 32.4315 1114.94 32.4315 M1114.94 26.1121 Q1124.66 26.1121 1130.21 32.4315 Q1135.76 38.7509 1135.76 49.9314 Q1135.76 61.0714 1130.21 67.4314 Q1124.66 73.7508 1114.94 73.7508 Q1105.18 73.7508 1099.63 67.4314 Q1094.12 61.0714 1094.12 49.9314 Q1094.12 38.7509 1099.63 32.4315 Q1105.18 26.1121 1114.94 26.1121 Z\" fill=\"#000000\" fill-rule=\"evenodd\" fill-opacity=\"1\" /><path clip-path=\"url(#clip990)\" d=\"M1183.44 35.9153 Q1186.24 30.8922 1190.13 28.5022 Q1194.01 26.1121 1199.28 26.1121 Q1206.37 26.1121 1210.22 31.0947 Q1214.07 36.0368 1214.07 45.1919 L1214.07 72.576 L1206.57 72.576 L1206.57 45.4349 Q1206.57 38.913 1204.26 35.7533 Q1201.95 32.5936 1197.21 32.5936 Q1191.42 32.5936 1188.06 36.4419 Q1184.7 40.2903 1184.7 46.9338 L1184.7 72.576 L1177.2 72.576 L1177.2 45.4349 Q1177.2 38.8725 1174.89 35.7533 Q1172.58 32.5936 1167.76 32.5936 Q1162.05 32.5936 1158.69 36.4824 Q1155.33 40.3308 1155.33 46.9338 L1155.33 72.576 L1147.83 72.576 L1147.83 27.2059 L1155.33 27.2059 L1155.33 34.2544 Q1157.88 30.082 1161.44 28.0971 Q1165.01 26.1121 1169.91 26.1121 Q1174.85 26.1121 1178.3 28.6237 Q1181.78 31.1352 1183.44 35.9153 Z\" fill=\"#000000\" fill-rule=\"evenodd\" fill-opacity=\"1\" /><path clip-path=\"url(#clip990)\" d=\"M1255.3 27.2059 L1262.76 27.2059 L1262.76 72.576 L1255.3 72.576 L1255.3 27.2059 M1255.3 9.54393 L1262.76 9.54393 L1262.76 18.9825 L1255.3 18.9825 L1255.3 9.54393 Z\" fill=\"#000000\" fill-rule=\"evenodd\" fill-opacity=\"1\" /><path clip-path=\"url(#clip990)\" d=\"M1316.07 45.1919 L1316.07 72.576 L1308.61 72.576 L1308.61 45.4349 Q1308.61 38.994 1306.1 35.7938 Q1303.59 32.5936 1298.57 32.5936 Q1292.53 32.5936 1289.05 36.4419 Q1285.56 40.2903 1285.56 46.9338 L1285.56 72.576 L1278.07 72.576 L1278.07 27.2059 L1285.56 27.2059 L1285.56 34.2544 Q1288.24 30.163 1291.84 28.1376 Q1295.49 26.1121 1300.23 26.1121 Q1308.05 26.1121 1312.06 30.9732 Q1316.07 35.7938 1316.07 45.1919 Z\" fill=\"#000000\" fill-rule=\"evenodd\" fill-opacity=\"1\" /><path clip-path=\"url(#clip990)\" d=\"M1338.31 14.324 L1338.31 27.2059 L1353.66 27.2059 L1353.66 32.9987 L1338.31 32.9987 L1338.31 57.6282 Q1338.31 63.1779 1339.81 64.7578 Q1341.35 66.3376 1346 66.3376 L1353.66 66.3376 L1353.66 72.576 L1346 72.576 Q1337.38 72.576 1334.09 69.3758 Q1330.81 66.1351 1330.81 57.6282 L1330.81 32.9987 L1325.34 32.9987 L1325.34 27.2059 L1330.81 27.2059 L1330.81 14.324 L1338.31 14.324 Z\" fill=\"#000000\" fill-rule=\"evenodd\" fill-opacity=\"1\" /><path clip-path=\"url(#clip990)\" d=\"M1402.27 48.0275 L1402.27 51.6733 L1368 51.6733 Q1368.49 59.3701 1372.62 63.421 Q1376.79 67.4314 1384.2 67.4314 Q1388.5 67.4314 1392.51 66.3781 Q1396.56 65.3249 1400.53 63.2184 L1400.53 70.267 Q1396.52 71.9684 1392.31 72.8596 Q1388.09 73.7508 1383.76 73.7508 Q1372.9 73.7508 1366.54 67.4314 Q1360.22 61.1119 1360.22 50.3365 Q1360.22 39.1965 1366.22 32.6746 Q1372.25 26.1121 1382.46 26.1121 Q1391.62 26.1121 1396.92 32.0264 Q1402.27 37.9003 1402.27 48.0275 M1394.82 45.84 Q1394.74 39.7232 1391.37 36.0774 Q1388.05 32.4315 1382.54 32.4315 Q1376.3 32.4315 1372.54 35.9558 Q1368.81 39.4801 1368.24 45.8805 L1394.82 45.84 Z\" fill=\"#000000\" fill-rule=\"evenodd\" fill-opacity=\"1\" /><path clip-path=\"url(#clip990)\" d=\"M1440.8 34.1734 Q1439.54 33.4443 1438.04 33.1202 Q1436.58 32.7556 1434.8 32.7556 Q1428.48 32.7556 1425.08 36.8875 Q1421.72 40.9789 1421.72 48.6757 L1421.72 72.576 L1414.22 72.576 L1414.22 27.2059 L1421.72 27.2059 L1421.72 34.2544 Q1424.06 30.1225 1427.83 28.1376 Q1431.6 26.1121 1436.99 26.1121 Q1437.76 26.1121 1438.69 26.2337 Q1439.62 26.3147 1440.75 26.5172 L1440.8 34.1734 Z\" fill=\"#000000\" fill-rule=\"evenodd\" fill-opacity=\"1\" /><path clip-path=\"url(#clip990)\" d=\"M1455.82 65.7705 L1455.82 89.8329 L1448.33 89.8329 L1448.33 27.2059 L1455.82 27.2059 L1455.82 34.0924 Q1458.17 30.0415 1461.74 28.0971 Q1465.34 26.1121 1470.33 26.1121 Q1478.59 26.1121 1483.73 32.6746 Q1488.92 39.2371 1488.92 49.9314 Q1488.92 60.6258 1483.73 67.1883 Q1478.59 73.7508 1470.33 73.7508 Q1465.34 73.7508 1461.74 71.8063 Q1458.17 69.8214 1455.82 65.7705 M1481.18 49.9314 Q1481.18 41.7081 1477.78 37.0496 Q1474.42 32.3505 1468.5 32.3505 Q1462.59 32.3505 1459.19 37.0496 Q1455.82 41.7081 1455.82 49.9314 Q1455.82 58.1548 1459.19 62.8538 Q1462.59 67.5124 1468.5 67.5124 Q1474.42 67.5124 1477.78 62.8538 Q1481.18 58.1548 1481.18 49.9314 Z\" fill=\"#000000\" fill-rule=\"evenodd\" fill-opacity=\"1\" /><path clip-path=\"url(#clip990)\" d=\"M1518.86 32.4315 Q1512.86 32.4315 1509.38 37.1306 Q1505.89 41.7891 1505.89 49.9314 Q1505.89 58.0738 1509.34 62.7728 Q1512.82 67.4314 1518.86 67.4314 Q1524.81 67.4314 1528.29 62.7323 Q1531.78 58.0333 1531.78 49.9314 Q1531.78 41.8701 1528.29 37.1711 Q1524.81 32.4315 1518.86 32.4315 M1518.86 26.1121 Q1528.58 26.1121 1534.13 32.4315 Q1539.68 38.7509 1539.68 49.9314 Q1539.68 61.0714 1534.13 67.4314 Q1528.58 73.7508 1518.86 73.7508 Q1509.09 73.7508 1503.54 67.4314 Q1498.03 61.0714 1498.03 49.9314 Q1498.03 38.7509 1503.54 32.4315 Q1509.09 26.1121 1518.86 26.1121 Z\" fill=\"#000000\" fill-rule=\"evenodd\" fill-opacity=\"1\" /><path clip-path=\"url(#clip990)\" d=\"M1552.03 9.54393 L1559.49 9.54393 L1559.49 72.576 L1552.03 72.576 L1552.03 9.54393 Z\" fill=\"#000000\" fill-rule=\"evenodd\" fill-opacity=\"1\" /><path clip-path=\"url(#clip990)\" d=\"M1595.7 49.7694 Q1586.67 49.7694 1583.18 51.8354 Q1579.7 53.9013 1579.7 58.8839 Q1579.7 62.8538 1582.29 65.2034 Q1584.93 67.5124 1589.42 67.5124 Q1595.62 67.5124 1599.35 63.1374 Q1603.11 58.7219 1603.11 51.4303 L1603.11 49.7694 L1595.7 49.7694 M1610.57 46.6907 L1610.57 72.576 L1603.11 72.576 L1603.11 65.6895 Q1600.56 69.8214 1596.76 71.8063 Q1592.95 73.7508 1587.44 73.7508 Q1580.47 73.7508 1576.34 69.8619 Q1572.25 65.9325 1572.25 59.3701 Q1572.25 51.7138 1577.35 47.825 Q1582.5 43.9361 1592.66 43.9361 L1603.11 43.9361 L1603.11 43.2069 Q1603.11 38.0623 1599.71 35.2672 Q1596.35 32.4315 1590.23 32.4315 Q1586.34 32.4315 1582.66 33.3632 Q1578.97 34.295 1575.57 36.1584 L1575.57 29.2718 Q1579.66 27.692 1583.51 26.9223 Q1587.36 26.1121 1591 26.1121 Q1600.85 26.1121 1605.71 31.2163 Q1610.57 36.3204 1610.57 46.6907 Z\" fill=\"#000000\" fill-rule=\"evenodd\" fill-opacity=\"1\" /><path clip-path=\"url(#clip990)\" d=\"M1633.29 14.324 L1633.29 27.2059 L1648.65 27.2059 L1648.65 32.9987 L1633.29 32.9987 L1633.29 57.6282 Q1633.29 63.1779 1634.79 64.7578 Q1636.33 66.3376 1640.99 66.3376 L1648.65 66.3376 L1648.65 72.576 L1640.99 72.576 Q1632.36 72.576 1629.08 69.3758 Q1625.8 66.1351 1625.8 57.6282 L1625.8 32.9987 L1620.33 32.9987 L1620.33 27.2059 L1625.8 27.2059 L1625.8 14.324 L1633.29 14.324 Z\" fill=\"#000000\" fill-rule=\"evenodd\" fill-opacity=\"1\" /><path clip-path=\"url(#clip990)\" d=\"M1658.45 27.2059 L1665.9 27.2059 L1665.9 72.576 L1658.45 72.576 L1658.45 27.2059 M1658.45 9.54393 L1665.9 9.54393 L1665.9 18.9825 L1658.45 18.9825 L1658.45 9.54393 Z\" fill=\"#000000\" fill-rule=\"evenodd\" fill-opacity=\"1\" /><path clip-path=\"url(#clip990)\" d=\"M1719.21 45.1919 L1719.21 72.576 L1711.76 72.576 L1711.76 45.4349 Q1711.76 38.994 1709.25 35.7938 Q1706.74 32.5936 1701.71 32.5936 Q1695.68 32.5936 1692.19 36.4419 Q1688.71 40.2903 1688.71 46.9338 L1688.71 72.576 L1681.22 72.576 L1681.22 27.2059 L1688.71 27.2059 L1688.71 34.2544 Q1691.38 30.163 1694.99 28.1376 Q1698.64 26.1121 1703.37 26.1121 Q1711.19 26.1121 1715.2 30.9732 Q1719.21 35.7938 1719.21 45.1919 Z\" fill=\"#000000\" fill-rule=\"evenodd\" fill-opacity=\"1\" /><path clip-path=\"url(#clip990)\" d=\"M1763.94 49.3643 Q1763.94 41.2625 1760.57 36.8065 Q1757.25 32.3505 1751.22 32.3505 Q1745.22 32.3505 1741.86 36.8065 Q1738.54 41.2625 1738.54 49.3643 Q1738.54 57.4256 1741.86 61.8816 Q1745.22 66.3376 1751.22 66.3376 Q1757.25 66.3376 1760.57 61.8816 Q1763.94 57.4256 1763.94 49.3643 M1771.39 66.9452 Q1771.39 78.5308 1766.24 84.1616 Q1761.1 89.8329 1750.49 89.8329 Q1746.56 89.8329 1743.07 89.2252 Q1739.59 88.6581 1736.31 87.4428 L1736.31 80.1917 Q1739.59 81.9741 1742.79 82.8248 Q1745.99 83.6755 1749.31 83.6755 Q1756.64 83.6755 1760.29 79.8271 Q1763.94 76.0193 1763.94 68.282 L1763.94 64.5957 Q1761.63 68.6061 1758.02 70.5911 Q1754.42 72.576 1749.39 72.576 Q1741.05 72.576 1735.94 66.2161 Q1730.84 59.8562 1730.84 49.3643 Q1730.84 38.832 1735.94 32.472 Q1741.05 26.1121 1749.39 26.1121 Q1754.42 26.1121 1758.02 28.0971 Q1761.63 30.082 1763.94 34.0924 L1763.94 27.2059 L1771.39 27.2059 L1771.39 66.9452 Z\" fill=\"#000000\" fill-rule=\"evenodd\" fill-opacity=\"1\" /><path clip-path=\"url(#clip990)\" d=\"M1833.73 49.7694 Q1824.7 49.7694 1821.22 51.8354 Q1817.73 53.9013 1817.73 58.8839 Q1817.73 62.8538 1820.32 65.2034 Q1822.96 67.5124 1827.45 67.5124 Q1833.65 67.5124 1837.38 63.1374 Q1841.15 58.7219 1841.15 51.4303 L1841.15 49.7694 L1833.73 49.7694 M1848.6 46.6907 L1848.6 72.576 L1841.15 72.576 L1841.15 65.6895 Q1838.59 69.8214 1834.79 71.8063 Q1830.98 73.7508 1825.47 73.7508 Q1818.5 73.7508 1814.37 69.8619 Q1810.28 65.9325 1810.28 59.3701 Q1810.28 51.7138 1815.38 47.825 Q1820.53 43.9361 1830.69 43.9361 L1841.15 43.9361 L1841.15 43.2069 Q1841.15 38.0623 1837.74 35.2672 Q1834.38 32.4315 1828.26 32.4315 Q1824.38 32.4315 1820.69 33.3632 Q1817 34.295 1813.6 36.1584 L1813.6 29.2718 Q1817.69 27.692 1821.54 26.9223 Q1825.39 26.1121 1829.03 26.1121 Q1838.88 26.1121 1843.74 31.2163 Q1848.6 36.3204 1848.6 46.6907 Z\" fill=\"#000000\" fill-rule=\"evenodd\" fill-opacity=\"1\" /><path clip-path=\"url(#clip990)\" d=\"M1920.18 49.3643 Q1920.18 41.2625 1916.82 36.8065 Q1913.5 32.3505 1907.46 32.3505 Q1901.46 32.3505 1898.1 36.8065 Q1894.78 41.2625 1894.78 49.3643 Q1894.78 57.4256 1898.1 61.8816 Q1901.46 66.3376 1907.46 66.3376 Q1913.5 66.3376 1916.82 61.8816 Q1920.18 57.4256 1920.18 49.3643 M1927.63 66.9452 Q1927.63 78.5308 1922.49 84.1616 Q1917.34 89.8329 1906.73 89.8329 Q1902.8 89.8329 1899.32 89.2252 Q1895.83 88.6581 1892.55 87.4428 L1892.55 80.1917 Q1895.83 81.9741 1899.03 82.8248 Q1902.23 83.6755 1905.56 83.6755 Q1912.89 83.6755 1916.53 79.8271 Q1920.18 76.0193 1920.18 68.282 L1920.18 64.5957 Q1917.87 68.6061 1914.26 70.5911 Q1910.66 72.576 1905.64 72.576 Q1897.29 72.576 1892.19 66.2161 Q1887.08 59.8562 1887.08 49.3643 Q1887.08 38.832 1892.19 32.472 Q1897.29 26.1121 1905.64 26.1121 Q1910.66 26.1121 1914.26 28.0971 Q1917.87 30.082 1920.18 34.0924 L1920.18 27.2059 L1927.63 27.2059 L1927.63 66.9452 Z\" fill=\"#000000\" fill-rule=\"evenodd\" fill-opacity=\"1\" /><path clip-path=\"url(#clip990)\" d=\"M1942.99 9.54393 L1950.44 9.54393 L1950.44 72.576 L1942.99 72.576 L1942.99 9.54393 Z\" fill=\"#000000\" fill-rule=\"evenodd\" fill-opacity=\"1\" /><path clip-path=\"url(#clip990)\" d=\"M1983.62 32.4315 Q1977.62 32.4315 1974.14 37.1306 Q1970.65 41.7891 1970.65 49.9314 Q1970.65 58.0738 1974.1 62.7728 Q1977.58 67.4314 1983.62 67.4314 Q1989.57 67.4314 1993.05 62.7323 Q1996.54 58.0333 1996.54 49.9314 Q1996.54 41.8701 1993.05 37.1711 Q1989.57 32.4315 1983.62 32.4315 M1983.62 26.1121 Q1993.34 26.1121 1998.89 32.4315 Q2004.44 38.7509 2004.44 49.9314 Q2004.44 61.0714 1998.89 67.4314 Q1993.34 73.7508 1983.62 73.7508 Q1973.85 73.7508 1968.3 67.4314 Q1962.79 61.0714 1962.79 49.9314 Q1962.79 38.7509 1968.3 32.4315 Q1973.85 26.1121 1983.62 26.1121 Z\" fill=\"#000000\" fill-rule=\"evenodd\" fill-opacity=\"1\" /><path clip-path=\"url(#clip990)\" d=\"M2049.36 49.9314 Q2049.36 41.7081 2045.96 37.0496 Q2042.6 32.3505 2036.68 32.3505 Q2030.77 32.3505 2027.37 37.0496 Q2024 41.7081 2024 49.9314 Q2024 58.1548 2027.37 62.8538 Q2030.77 67.5124 2036.68 67.5124 Q2042.6 67.5124 2045.96 62.8538 Q2049.36 58.1548 2049.36 49.9314 M2024 34.0924 Q2026.35 30.0415 2029.92 28.0971 Q2033.52 26.1121 2038.51 26.1121 Q2046.77 26.1121 2051.91 32.6746 Q2057.1 39.2371 2057.1 49.9314 Q2057.1 60.6258 2051.91 67.1883 Q2046.77 73.7508 2038.51 73.7508 Q2033.52 73.7508 2029.92 71.8063 Q2026.35 69.8214 2024 65.7705 L2024 72.576 L2016.51 72.576 L2016.51 9.54393 L2024 9.54393 L2024 34.0924 Z\" fill=\"#000000\" fill-rule=\"evenodd\" fill-opacity=\"1\" /><path clip-path=\"url(#clip990)\" d=\"M2090.07 49.7694 Q2081.04 49.7694 2077.56 51.8354 Q2074.07 53.9013 2074.07 58.8839 Q2074.07 62.8538 2076.67 65.2034 Q2079.3 67.5124 2083.8 67.5124 Q2089.99 67.5124 2093.72 63.1374 Q2097.49 58.7219 2097.49 51.4303 L2097.49 49.7694 L2090.07 49.7694 M2104.94 46.6907 L2104.94 72.576 L2097.49 72.576 L2097.49 65.6895 Q2094.94 69.8214 2091.13 71.8063 Q2087.32 73.7508 2081.81 73.7508 Q2074.84 73.7508 2070.71 69.8619 Q2066.62 65.9325 2066.62 59.3701 Q2066.62 51.7138 2071.72 47.825 Q2076.87 43.9361 2087.04 43.9361 L2097.49 43.9361 L2097.49 43.2069 Q2097.49 38.0623 2094.08 35.2672 Q2090.72 32.4315 2084.61 32.4315 Q2080.72 32.4315 2077.03 33.3632 Q2073.34 34.295 2069.94 36.1584 L2069.94 29.2718 Q2074.03 27.692 2077.88 26.9223 Q2081.73 26.1121 2085.38 26.1121 Q2095.22 26.1121 2100.08 31.2163 Q2104.94 36.3204 2104.94 46.6907 Z\" fill=\"#000000\" fill-rule=\"evenodd\" fill-opacity=\"1\" /><path clip-path=\"url(#clip990)\" d=\"M2120.29 9.54393 L2127.75 9.54393 L2127.75 72.576 L2120.29 72.576 L2120.29 9.54393 Z\" fill=\"#000000\" fill-rule=\"evenodd\" fill-opacity=\"1\" /><path clip-path=\"url(#clip990)\" d=\"M2164.37 27.2059 L2172.27 27.2059 L2186.45 65.2844 L2200.62 27.2059 L2208.52 27.2059 L2191.51 72.576 L2181.38 72.576 L2164.37 27.2059 Z\" fill=\"#000000\" fill-rule=\"evenodd\" fill-opacity=\"1\" /><path clip-path=\"url(#clip990)\" d=\"M2239.43 49.7694 Q2230.4 49.7694 2226.91 51.8354 Q2223.43 53.9013 2223.43 58.8839 Q2223.43 62.8538 2226.02 65.2034 Q2228.66 67.5124 2233.15 67.5124 Q2239.35 67.5124 2243.08 63.1374 Q2246.84 58.7219 2246.84 51.4303 L2246.84 49.7694 L2239.43 49.7694 M2254.3 46.6907 L2254.3 72.576 L2246.84 72.576 L2246.84 65.6895 Q2244.29 69.8214 2240.48 71.8063 Q2236.68 73.7508 2231.17 73.7508 Q2224.2 73.7508 2220.07 69.8619 Q2215.98 65.9325 2215.98 59.3701 Q2215.98 51.7138 2221.08 47.825 Q2226.23 43.9361 2236.39 43.9361 L2246.84 43.9361 L2246.84 43.2069 Q2246.84 38.0623 2243.44 35.2672 Q2240.08 32.4315 2233.96 32.4315 Q2230.07 32.4315 2226.39 33.3632 Q2222.7 34.295 2219.3 36.1584 L2219.3 29.2718 Q2223.39 27.692 2227.24 26.9223 Q2231.09 26.1121 2234.73 26.1121 Q2244.58 26.1121 2249.44 31.2163 Q2254.3 36.3204 2254.3 46.6907 Z\" fill=\"#000000\" fill-rule=\"evenodd\" fill-opacity=\"1\" /><path clip-path=\"url(#clip990)\" d=\"M2295.94 34.1734 Q2294.69 33.4443 2293.19 33.1202 Q2291.73 32.7556 2289.95 32.7556 Q2283.63 32.7556 2280.22 36.8875 Q2276.86 40.9789 2276.86 48.6757 L2276.86 72.576 L2269.37 72.576 L2269.37 27.2059 L2276.86 27.2059 L2276.86 34.2544 Q2279.21 30.1225 2282.98 28.1376 Q2286.75 26.1121 2292.13 26.1121 Q2292.9 26.1121 2293.83 26.2337 Q2294.77 26.3147 2295.9 26.5172 L2295.94 34.1734 Z\" fill=\"#000000\" fill-rule=\"evenodd\" fill-opacity=\"1\" /><path clip-path=\"url(#clip990)\" d=\"M2303.76 27.2059 L2311.21 27.2059 L2311.21 72.576 L2303.76 72.576 L2303.76 27.2059 M2303.76 9.54393 L2311.21 9.54393 L2311.21 18.9825 L2303.76 18.9825 L2303.76 9.54393 Z\" fill=\"#000000\" fill-rule=\"evenodd\" fill-opacity=\"1\" /><path clip-path=\"url(#clip990)\" d=\"M2347.43 49.7694 Q2338.39 49.7694 2334.91 51.8354 Q2331.43 53.9013 2331.43 58.8839 Q2331.43 62.8538 2334.02 65.2034 Q2336.65 67.5124 2341.15 67.5124 Q2347.35 67.5124 2351.07 63.1374 Q2354.84 58.7219 2354.84 51.4303 L2354.84 49.7694 L2347.43 49.7694 M2362.29 46.6907 L2362.29 72.576 L2354.84 72.576 L2354.84 65.6895 Q2352.29 69.8214 2348.48 71.8063 Q2344.67 73.7508 2339.16 73.7508 Q2332.2 73.7508 2328.06 69.8619 Q2323.97 65.9325 2323.97 59.3701 Q2323.97 51.7138 2329.08 47.825 Q2334.22 43.9361 2344.39 43.9361 L2354.84 43.9361 L2354.84 43.2069 Q2354.84 38.0623 2351.44 35.2672 Q2348.08 32.4315 2341.96 32.4315 Q2338.07 32.4315 2334.38 33.3632 Q2330.7 34.295 2327.3 36.1584 L2327.3 29.2718 Q2331.39 27.692 2335.23 26.9223 Q2339.08 26.1121 2342.73 26.1121 Q2352.57 26.1121 2357.43 31.2163 Q2362.29 36.3204 2362.29 46.6907 Z\" fill=\"#000000\" fill-rule=\"evenodd\" fill-opacity=\"1\" /><path clip-path=\"url(#clip990)\" d=\"M2410.22 49.9314 Q2410.22 41.7081 2406.81 37.0496 Q2403.45 32.3505 2397.54 32.3505 Q2391.62 32.3505 2388.22 37.0496 Q2384.86 41.7081 2384.86 49.9314 Q2384.86 58.1548 2388.22 62.8538 Q2391.62 67.5124 2397.54 67.5124 Q2403.45 67.5124 2406.81 62.8538 Q2410.22 58.1548 2410.22 49.9314 M2384.86 34.0924 Q2387.21 30.0415 2390.77 28.0971 Q2394.38 26.1121 2399.36 26.1121 Q2407.62 26.1121 2412.77 32.6746 Q2417.95 39.2371 2417.95 49.9314 Q2417.95 60.6258 2412.77 67.1883 Q2407.62 73.7508 2399.36 73.7508 Q2394.38 73.7508 2390.77 71.8063 Q2387.21 69.8214 2384.86 65.7705 L2384.86 72.576 L2377.36 72.576 L2377.36 9.54393 L2384.86 9.54393 L2384.86 34.0924 Z\" fill=\"#000000\" fill-rule=\"evenodd\" fill-opacity=\"1\" /><path clip-path=\"url(#clip990)\" d=\"M2430.31 9.54393 L2437.76 9.54393 L2437.76 72.576 L2430.31 72.576 L2430.31 9.54393 Z\" fill=\"#000000\" fill-rule=\"evenodd\" fill-opacity=\"1\" /><path clip-path=\"url(#clip990)\" d=\"M2492.17 48.0275 L2492.17 51.6733 L2457.9 51.6733 Q2458.38 59.3701 2462.51 63.421 Q2466.69 67.4314 2474.1 67.4314 Q2478.39 67.4314 2482.4 66.3781 Q2486.46 65.3249 2490.43 63.2184 L2490.43 70.267 Q2486.41 71.9684 2482.2 72.8596 Q2477.99 73.7508 2473.65 73.7508 Q2462.8 73.7508 2456.44 67.4314 Q2450.12 61.1119 2450.12 50.3365 Q2450.12 39.1965 2456.11 32.6746 Q2462.15 26.1121 2472.36 26.1121 Q2481.51 26.1121 2486.82 32.0264 Q2492.17 37.9003 2492.17 48.0275 M2484.71 45.84 Q2484.63 39.7232 2481.27 36.0774 Q2477.95 32.4315 2472.44 32.4315 Q2466.2 32.4315 2462.43 35.9558 Q2458.71 39.4801 2458.14 45.8805 L2484.71 45.84 Z\" fill=\"#000000\" fill-rule=\"evenodd\" fill-opacity=\"1\" /><polyline clip-path=\"url(#clip992)\" style=\"stroke:#009af9; stroke-linecap:butt; stroke-linejoin:round; stroke-width:4; stroke-opacity:1; fill:none\" points=\"\n",
       "  307.043,160.256 527.724,520.017 748.405,731.297 969.086,1099.13 1189.77,1167.94 1410.45,1185.33 1631.13,1250.55 1851.81,1289.45 2072.49,1350.33 2293.17,1386.4 \n",
       "  \n",
       "  \"/>\n",
       "<circle clip-path=\"url(#clip992)\" cx=\"307.043\" cy=\"160.256\" r=\"14\" fill=\"#e26f46\" fill-rule=\"evenodd\" fill-opacity=\"1\" stroke=\"#000000\" stroke-opacity=\"1\" stroke-width=\"3.2\"/>\n",
       "<circle clip-path=\"url(#clip992)\" cx=\"527.724\" cy=\"520.017\" r=\"14\" fill=\"#e26f46\" fill-rule=\"evenodd\" fill-opacity=\"1\" stroke=\"#000000\" stroke-opacity=\"1\" stroke-width=\"3.2\"/>\n",
       "<circle clip-path=\"url(#clip992)\" cx=\"748.405\" cy=\"731.297\" r=\"14\" fill=\"#e26f46\" fill-rule=\"evenodd\" fill-opacity=\"1\" stroke=\"#000000\" stroke-opacity=\"1\" stroke-width=\"3.2\"/>\n",
       "<circle clip-path=\"url(#clip992)\" cx=\"969.086\" cy=\"1099.13\" r=\"14\" fill=\"#e26f46\" fill-rule=\"evenodd\" fill-opacity=\"1\" stroke=\"#000000\" stroke-opacity=\"1\" stroke-width=\"3.2\"/>\n",
       "<circle clip-path=\"url(#clip992)\" cx=\"1189.77\" cy=\"1167.94\" r=\"14\" fill=\"#e26f46\" fill-rule=\"evenodd\" fill-opacity=\"1\" stroke=\"#000000\" stroke-opacity=\"1\" stroke-width=\"3.2\"/>\n",
       "<circle clip-path=\"url(#clip992)\" cx=\"1410.45\" cy=\"1185.33\" r=\"14\" fill=\"#e26f46\" fill-rule=\"evenodd\" fill-opacity=\"1\" stroke=\"#000000\" stroke-opacity=\"1\" stroke-width=\"3.2\"/>\n",
       "<circle clip-path=\"url(#clip992)\" cx=\"1631.13\" cy=\"1250.55\" r=\"14\" fill=\"#e26f46\" fill-rule=\"evenodd\" fill-opacity=\"1\" stroke=\"#000000\" stroke-opacity=\"1\" stroke-width=\"3.2\"/>\n",
       "<circle clip-path=\"url(#clip992)\" cx=\"1851.81\" cy=\"1289.45\" r=\"14\" fill=\"#e26f46\" fill-rule=\"evenodd\" fill-opacity=\"1\" stroke=\"#000000\" stroke-opacity=\"1\" stroke-width=\"3.2\"/>\n",
       "<circle clip-path=\"url(#clip992)\" cx=\"2072.49\" cy=\"1350.33\" r=\"14\" fill=\"#e26f46\" fill-rule=\"evenodd\" fill-opacity=\"1\" stroke=\"#000000\" stroke-opacity=\"1\" stroke-width=\"3.2\"/>\n",
       "<circle clip-path=\"url(#clip992)\" cx=\"2293.17\" cy=\"1386.4\" r=\"14\" fill=\"#e26f46\" fill-rule=\"evenodd\" fill-opacity=\"1\" stroke=\"#000000\" stroke-opacity=\"1\" stroke-width=\"3.2\"/>\n",
       "</svg>\n"
      ]
     },
     "execution_count": 37,
     "metadata": {},
     "output_type": "execute_result"
    }
   ],
   "source": [
    "plot([i for i in 1:10], store_ratios, legend=false)\n",
    "scatter!([i for i in 1:10], store_ratios)\n",
    "xlabel!(\"The log of the length of `foo`\")\n",
    "ylabel!(\"Factor of performance increase\")\n",
    "title!(\"Performance increase from interpolating a global variable\")"
   ]
  },
  {
   "cell_type": "markdown",
   "metadata": {},
   "source": [
    "## Performance tips -- type stability\n",
    "\n",
    "One way to optimize code in Julia is to ensure **type stability**. If the type(s) of some variables in a function are subject to change or ambiguity, the compiler cannot reason as well about those variables, and performance will take a hit. Conversely, we allow the compiler to optimize and generate more efficient machine code when we declare variables so that their types will be fixed throughout the function body.\n",
    "\n",
    "For example, let's say we had functions called `baz` and `bar` with the following definitions\n",
    "\n",
    "```julia\n",
    "function baz()\n",
    "    s = rand()\n",
    "    if s > 2/3\n",
    "        return .666667\n",
    "    elseif s > 1/3\n",
    "        return 1//3    \n",
    "    else\n",
    "        return 0    \n",
    "    end\n",
    "end\n",
    "```\n",
    "\n",
    "```julia\n",
    "function bar()\n",
    "    s = rand()\n",
    "    if s > 2/3\n",
    "        return .666667\n",
    "    elseif s > 1/3\n",
    "        return .3333333    \n",
    "    else\n",
    "        return 0.0    \n",
    "    end\n",
    "end\n",
    "```\n",
    "\n",
    "When I benchmark these via\n",
    "\n",
    "```julia\n",
    "using BenchmarkTools\n",
    "@benchmark baz()\n",
    "@benchmark bar()\n",
    "```\n",
    "\n",
    "I see that `bar` is almost three times as fast as `baz`! The reason is that `bar` is type stable while `baz` is not: the compiler can tell that `bar` will always return a `Float`, whereas `baz` could return a `Float`, an `Int`, or a `Rational`. When the compiler can tell what the types of outputs from a function, or variables declared *within a function* are without running the code, it can do much better.\n",
    "\n",
    "#### Exercise\n",
    "\n",
    "The following definition for `my_sum` is not type stable. \n",
    "\n",
    "```julia\n",
    "function my_sum(A)\n",
    "    output = 0\n",
    "    for x in A\n",
    "        output += x\n",
    "    end\n",
    "    return output\n",
    "end\n",
    "```\n",
    "\n",
    "Copy and execute the above code into a new cell. Benchmark it using `A = rand(10^3)`. Then write a new function called `my_sum2` with the same function body as `my_sum`. Update `my_sum2` to make it type stable, and benchmark it for a randomly populated array with 10^3 entries.\n",
    "\n",
    "How much does type stability impact performance? If you'd like, try this same exercise for multiple sizes of `A` to see if this changes your answer!\n",
    "\n",
    "* Hint : Try checking the type of A\n",
    "\n"
   ]
  },
  {
   "cell_type": "code",
   "execution_count": 38,
   "metadata": {},
   "outputs": [
    {
     "data": {
      "text/plain": [
       "baz (generic function with 1 method)"
      ]
     },
     "execution_count": 38,
     "metadata": {},
     "output_type": "execute_result"
    }
   ],
   "source": [
    "function baz()\n",
    "    s = rand()\n",
    "    if s > 2/3\n",
    "        return .666667\n",
    "    elseif s > 1/3\n",
    "        return 1//3    \n",
    "    else\n",
    "        return 0    \n",
    "    end\n",
    "end"
   ]
  },
  {
   "cell_type": "code",
   "execution_count": 39,
   "metadata": {},
   "outputs": [
    {
     "data": {
      "text/plain": [
       "bar (generic function with 1 method)"
      ]
     },
     "execution_count": 39,
     "metadata": {},
     "output_type": "execute_result"
    }
   ],
   "source": [
    "function bar()\n",
    "    s = rand()\n",
    "    if s > 2/3\n",
    "        return .666667\n",
    "    elseif s > 1/3\n",
    "        return .3333333    \n",
    "    else\n",
    "        return 0.0    \n",
    "    end\n",
    "end"
   ]
  },
  {
   "cell_type": "code",
   "execution_count": 40,
   "metadata": {},
   "outputs": [
    {
     "data": {
      "text/plain": [
       "BenchmarkTools.Trial: \n",
       "  memory estimate:  0 bytes\n",
       "  allocs estimate:  0\n",
       "  --------------\n",
       "  minimum time:     8.300 ns (0.00% GC)\n",
       "  median time:      9.300 ns (0.00% GC)\n",
       "  mean time:        10.623 ns (0.00% GC)\n",
       "  maximum time:     107.400 ns (0.00% GC)\n",
       "  --------------\n",
       "  samples:          10000\n",
       "  evals/sample:     1000"
      ]
     },
     "execution_count": 40,
     "metadata": {},
     "output_type": "execute_result"
    }
   ],
   "source": [
    "using BenchmarkTools\n"
   ]
  },
  {
   "cell_type": "code",
   "execution_count": 41,
   "metadata": {},
   "outputs": [
    {
     "data": {
      "text/plain": [
       "BenchmarkTools.Trial: \n",
       "  memory estimate:  0 bytes\n",
       "  allocs estimate:  0\n",
       "  --------------\n",
       "  minimum time:     22.846 ns (0.00% GC)\n",
       "  median time:      25.251 ns (0.00% GC)\n",
       "  mean time:        32.297 ns (0.00% GC)\n",
       "  maximum time:     790.782 ns (0.00% GC)\n",
       "  --------------\n",
       "  samples:          10000\n",
       "  evals/sample:     998"
      ]
     },
     "execution_count": 41,
     "metadata": {},
     "output_type": "execute_result"
    }
   ],
   "source": [
    "@benchmark baz()\n"
   ]
  },
  {
   "cell_type": "code",
   "execution_count": 42,
   "metadata": {},
   "outputs": [
    {
     "data": {
      "text/plain": [
       "BenchmarkTools.Trial: \n",
       "  memory estimate:  0 bytes\n",
       "  allocs estimate:  0\n",
       "  --------------\n",
       "  minimum time:     8.208 ns (0.00% GC)\n",
       "  median time:      9.209 ns (0.00% GC)\n",
       "  mean time:        11.999 ns (0.00% GC)\n",
       "  maximum time:     829.730 ns (0.00% GC)\n",
       "  --------------\n",
       "  samples:          10000\n",
       "  evals/sample:     999"
      ]
     },
     "execution_count": 42,
     "metadata": {},
     "output_type": "execute_result"
    }
   ],
   "source": [
    "@benchmark bar()"
   ]
  },
  {
   "cell_type": "code",
   "execution_count": 43,
   "metadata": {},
   "outputs": [
    {
     "data": {
      "text/plain": [
       "my_sum (generic function with 1 method)"
      ]
     },
     "execution_count": 43,
     "metadata": {},
     "output_type": "execute_result"
    }
   ],
   "source": [
    "function my_sum(A)\n",
    "    output = 0\n",
    "    for x in A\n",
    "        output += x\n",
    "    end\n",
    "    return output\n",
    "end"
   ]
  },
  {
   "cell_type": "code",
   "execution_count": 46,
   "metadata": {},
   "outputs": [],
   "source": [
    "A_e = rand(10^3);"
   ]
  },
  {
   "cell_type": "code",
   "execution_count": 47,
   "metadata": {},
   "outputs": [
    {
     "data": {
      "text/plain": [
       "BenchmarkTools.Trial: \n",
       "  memory estimate:  0 bytes\n",
       "  allocs estimate:  0\n",
       "  --------------\n",
       "  minimum time:     2.200 μs (0.00% GC)\n",
       "  median time:      2.267 μs (0.00% GC)\n",
       "  mean time:        2.558 μs (0.00% GC)\n",
       "  maximum time:     96.011 μs (0.00% GC)\n",
       "  --------------\n",
       "  samples:          10000\n",
       "  evals/sample:     9"
      ]
     },
     "execution_count": 47,
     "metadata": {},
     "output_type": "execute_result"
    }
   ],
   "source": [
    "@benchmark my_sum($A_e)"
   ]
  },
  {
   "cell_type": "code",
   "execution_count": 48,
   "metadata": {},
   "outputs": [
    {
     "data": {
      "text/plain": [
       "my_sum2 (generic function with 1 method)"
      ]
     },
     "execution_count": 48,
     "metadata": {},
     "output_type": "execute_result"
    }
   ],
   "source": [
    "function my_sum2(A)\n",
    "    output = zero(eltype(A))#0.0;\n",
    "    for x in A\n",
    "        output +=x\n",
    "    end\n",
    "    return output\n",
    "end"
   ]
  },
  {
   "cell_type": "code",
   "execution_count": 49,
   "metadata": {},
   "outputs": [
    {
     "data": {
      "text/plain": [
       "BenchmarkTools.Trial: \n",
       "  memory estimate:  0 bytes\n",
       "  allocs estimate:  0\n",
       "  --------------\n",
       "  minimum time:     1.070 μs (0.00% GC)\n",
       "  median time:      1.110 μs (0.00% GC)\n",
       "  mean time:        1.229 μs (0.00% GC)\n",
       "  maximum time:     8.660 μs (0.00% GC)\n",
       "  --------------\n",
       "  samples:          10000\n",
       "  evals/sample:     10"
      ]
     },
     "execution_count": 49,
     "metadata": {},
     "output_type": "execute_result"
    }
   ],
   "source": [
    "@benchmark my_sum2($A_e)"
   ]
  },
  {
   "cell_type": "markdown",
   "metadata": {},
   "source": [
    "#### Exercise\n",
    "\n",
    "Make the following code type stable. You'll know your efforts are paying off when you see a performance boost!\n",
    "\n",
    "```julia\n",
    "\"\"\"\n",
    "    my_sqrt(x)\n",
    "    \n",
    "Calculate the square root of `x` with Newton's method.\n",
    "\"\"\"\n",
    "function my_sqrt(x)\n",
    "    output = 1\n",
    "    for i in 1:1000\n",
    "        output = .5 * (output + x/output)\n",
    "    end\n",
    "    output\n",
    "end\n",
    "```"
   ]
  },
  {
   "cell_type": "code",
   "execution_count": 54,
   "metadata": {},
   "outputs": [
    {
     "data": {
      "text/plain": [
       "my_sqrt (generic function with 1 method)"
      ]
     },
     "execution_count": 54,
     "metadata": {},
     "output_type": "execute_result"
    }
   ],
   "source": []
  },
  {
   "cell_type": "code",
   "execution_count": 55,
   "metadata": {},
   "outputs": [
    {
     "data": {
      "text/plain": [
       "BenchmarkTools.Trial: \n",
       "  memory estimate:  0 bytes\n",
       "  allocs estimate:  0\n",
       "  --------------\n",
       "  minimum time:     72.300 μs (0.00% GC)\n",
       "  median time:      74.500 μs (0.00% GC)\n",
       "  mean time:        82.800 μs (0.00% GC)\n",
       "  maximum time:     912.400 μs (0.00% GC)\n",
       "  --------------\n",
       "  samples:          10000\n",
       "  evals/sample:     1"
      ]
     },
     "execution_count": 55,
     "metadata": {},
     "output_type": "execute_result"
    }
   ],
   "source": [
    "@benchmark my_sqrt(100)"
   ]
  },
  {
   "cell_type": "code",
   "execution_count": 56,
   "metadata": {},
   "outputs": [
    {
     "data": {
      "text/plain": [
       "my_sqrt2 (generic function with 1 method)"
      ]
     },
     "execution_count": 56,
     "metadata": {},
     "output_type": "execute_result"
    }
   ],
   "source": []
  },
  {
   "cell_type": "code",
   "execution_count": 57,
   "metadata": {},
   "outputs": [
    {
     "data": {
      "text/plain": [
       "BenchmarkTools.Trial: \n",
       "  memory estimate:  0 bytes\n",
       "  allocs estimate:  0\n",
       "  --------------\n",
       "  minimum time:     61.200 μs (0.00% GC)\n",
       "  median time:      63.100 μs (0.00% GC)\n",
       "  mean time:        69.907 μs (0.00% GC)\n",
       "  maximum time:     656.000 μs (0.00% GC)\n",
       "  --------------\n",
       "  samples:          10000\n",
       "  evals/sample:     1"
      ]
     },
     "execution_count": 57,
     "metadata": {},
     "output_type": "execute_result"
    }
   ],
   "source": [
    "@benchmark my_sqrt2(100)"
   ]
  },
  {
   "cell_type": "code",
   "execution_count": null,
   "metadata": {},
   "outputs": [],
   "source": []
  }
 ],
 "metadata": {
  "kernelspec": {
   "display_name": "Julia 1.6.1",
   "language": "julia",
   "name": "julia-1.6"
  },
  "language_info": {
   "file_extension": ".jl",
   "mimetype": "application/julia",
   "name": "julia",
   "version": "1.6.1"
  }
 },
 "nbformat": 4,
 "nbformat_minor": 2
}
