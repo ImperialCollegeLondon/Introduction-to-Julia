{
 "cells": [
  {
   "cell_type": "markdown",
   "metadata": {},
   "source": [
    "# Factorizations and other fun\n",
    "Based on work by Andreas Noack Jensen (MIT) (http://www.econ.ku.dk/phdstudent/noack/)\n",
    "\n",
    "## Outline\n",
    " - Factorizations\n",
    " - Special matrix structures\n",
    " - Generic linear algebra"
   ]
  },
  {
   "cell_type": "markdown",
   "metadata": {},
   "source": [
    "Before we get started, let's set up a linear system and use `LinearAlgebra` to bring in the factorizations and special matrix structures."
   ]
  },
  {
   "cell_type": "code",
   "execution_count": 1,
   "metadata": {},
   "outputs": [
    {
     "data": {
      "text/plain": [
       "3-element Vector{Float64}:\n",
       " 2.4144913860638684\n",
       " 0.5661071091682397\n",
       " 1.4246677780138677"
      ]
     },
     "execution_count": 1,
     "metadata": {},
     "output_type": "execute_result"
    }
   ],
   "source": [
    "using LinearAlgebra\n",
    "A = rand(3, 3)\n",
    "x = fill(1, (3,))\n",
    "b = A * x"
   ]
  },
  {
   "cell_type": "markdown",
   "metadata": {},
   "source": [
    "## Factorizations\n",
    "\n",
    "#### LU factorizations\n",
    "In Julia we can perform an LU factorization\n",
    "```julia\n",
    "PA = LU\n",
    "``` \n",
    "where `P` is a permutation matrix, `L` is lower triangular unit diagonal and `U` is upper triangular, using `lufact`.\n",
    "\n",
    "Julia allows computing the LU factorization and defines a composite factorization type for storing it."
   ]
  },
  {
   "cell_type": "code",
   "execution_count": 2,
   "metadata": {},
   "outputs": [
    {
     "data": {
      "text/plain": [
       "LU{Float64, Matrix{Float64}}\n",
       "L factor:\n",
       "3×3 Matrix{Float64}:\n",
       " 1.0        0.0       0.0\n",
       " 0.849324   1.0       0.0\n",
       " 0.0595205  0.760361  1.0\n",
       "U factor:\n",
       "3×3 Matrix{Float64}:\n",
       " 0.892925  0.339394   0.192349\n",
       " 0.0       0.562548   0.641939\n",
       " 0.0       0.0       -0.434535"
      ]
     },
     "execution_count": 2,
     "metadata": {},
     "output_type": "execute_result"
    }
   ],
   "source": [
    "Alu = lu(A)"
   ]
  },
  {
   "cell_type": "code",
   "execution_count": 3,
   "metadata": {},
   "outputs": [
    {
     "name": "stdout",
     "output_type": "stream",
     "text": [
      "search: \u001b[0m\u001b[1ml\u001b[22m\u001b[0m\u001b[1mu\u001b[22m \u001b[0m\u001b[1ml\u001b[22m\u001b[0m\u001b[1mu\u001b[22m! \u001b[0m\u001b[1mL\u001b[22m\u001b[0m\u001b[1mU\u001b[22m A\u001b[0m\u001b[1ml\u001b[22m\u001b[0m\u001b[1mu\u001b[22m f\u001b[0m\u001b[1ml\u001b[22m\u001b[0m\u001b[1mu\u001b[22msh va\u001b[0m\u001b[1ml\u001b[22m\u001b[0m\u001b[1mu\u001b[22mes inc\u001b[0m\u001b[1ml\u001b[22m\u001b[0m\u001b[1mu\u001b[22mde inc\u001b[0m\u001b[1ml\u001b[22m\u001b[0m\u001b[1mu\u001b[22mde_string inc\u001b[0m\u001b[1ml\u001b[22m\u001b[0m\u001b[1mu\u001b[22mde_dependency\n",
      "\n"
     ]
    },
    {
     "data": {
      "text/latex": [
       "\\begin{verbatim}\n",
       "lu(A, pivot=Val(true); check = true) -> F::LU\n",
       "\\end{verbatim}\n",
       "Compute the LU factorization of \\texttt{A}.\n",
       "\n",
       "When \\texttt{check = true}, an error is thrown if the decomposition fails. When \\texttt{check = false}, responsibility for checking the decomposition's validity (via \\href{@ref}{\\texttt{issuccess}}) lies with the user.\n",
       "\n",
       "In most cases, if \\texttt{A} is a subtype \\texttt{S} of \\texttt{AbstractMatrix\\{T\\}} with an element type \\texttt{T} supporting \\texttt{+}, \\texttt{-}, \\texttt{*} and \\texttt{/}, the return type is \\texttt{LU\\{T,S\\{T\\}\\}}. If pivoting is chosen (default) the element type should also support \\href{@ref}{\\texttt{abs}} and \\href{@ref}{\\texttt{<}}.\n",
       "\n",
       "The individual components of the factorization \\texttt{F} can be accessed via \\href{@ref}{\\texttt{getproperty}}:\n",
       "\n",
       "\\begin{tabular}\n",
       "{l | l}\n",
       "Component & Description \\\\\n",
       "\\hline\n",
       "\\texttt{F.L} & \\texttt{L} (lower triangular) part of \\texttt{LU} \\\\\n",
       "\\texttt{F.U} & \\texttt{U} (upper triangular) part of \\texttt{LU} \\\\\n",
       "\\texttt{F.p} & (right) permutation \\texttt{Vector} \\\\\n",
       "\\texttt{F.P} & (right) permutation \\texttt{Matrix} \\\\\n",
       "\\end{tabular}\n",
       "Iterating the factorization produces the components \\texttt{F.L}, \\texttt{F.U}, and \\texttt{F.p}.\n",
       "\n",
       "The relationship between \\texttt{F} and \\texttt{A} is\n",
       "\n",
       "\\texttt{F.L*F.U == A[F.p, :]}\n",
       "\n",
       "\\texttt{F} further supports the following functions:\n",
       "\n",
       "\\begin{tabular}\n",
       "{l | l | l}\n",
       "Supported function & \\texttt{LU} & \\texttt{LU\\{T,Tridiagonal\\{T\\}\\}} \\\\\n",
       "\\hline\n",
       "\\href{@ref}{\\texttt{/}} & ✓ &  \\\\\n",
       "\\href{@ref}{\\texttt{{\\textbackslash}}} & ✓ & ✓ \\\\\n",
       "\\href{@ref}{\\texttt{inv}} & ✓ & ✓ \\\\\n",
       "\\href{@ref}{\\texttt{det}} & ✓ & ✓ \\\\\n",
       "\\href{@ref}{\\texttt{logdet}} & ✓ & ✓ \\\\\n",
       "\\href{@ref}{\\texttt{logabsdet}} & ✓ & ✓ \\\\\n",
       "\\href{@ref}{\\texttt{size}} & ✓ & ✓ \\\\\n",
       "\\end{tabular}\n",
       "\\section{Examples}\n",
       "\\begin{verbatim}\n",
       "julia> A = [4 3; 6 3]\n",
       "2×2 Matrix{Int64}:\n",
       " 4  3\n",
       " 6  3\n",
       "\n",
       "julia> F = lu(A)\n",
       "LU{Float64, Matrix{Float64}}\n",
       "L factor:\n",
       "2×2 Matrix{Float64}:\n",
       " 1.0       0.0\n",
       " 0.666667  1.0\n",
       "U factor:\n",
       "2×2 Matrix{Float64}:\n",
       " 6.0  3.0\n",
       " 0.0  1.0\n",
       "\n",
       "julia> F.L * F.U == A[F.p, :]\n",
       "true\n",
       "\n",
       "julia> l, u, p = lu(A); # destructuring via iteration\n",
       "\n",
       "julia> l == F.L && u == F.U && p == F.p\n",
       "true\n",
       "\\end{verbatim}\n",
       "\\rule{\\textwidth}{1pt}\n",
       "\\begin{verbatim}\n",
       "lu(A::SparseMatrixCSC; check = true) -> F::UmfpackLU\n",
       "\\end{verbatim}\n",
       "Compute the LU factorization of a sparse matrix \\texttt{A}.\n",
       "\n",
       "For sparse \\texttt{A} with real or complex element type, the return type of \\texttt{F} is \\texttt{UmfpackLU\\{Tv, Ti\\}}, with \\texttt{Tv} = \\href{@ref}{\\texttt{Float64}} or \\texttt{ComplexF64} respectively and \\texttt{Ti} is an integer type (\\href{@ref}{\\texttt{Int32}} or \\href{@ref}{\\texttt{Int64}}).\n",
       "\n",
       "When \\texttt{check = true}, an error is thrown if the decomposition fails. When \\texttt{check = false}, responsibility for checking the decomposition's validity (via \\href{@ref}{\\texttt{issuccess}}) lies with the user.\n",
       "\n",
       "The individual components of the factorization \\texttt{F} can be accessed by indexing:\n",
       "\n",
       "\\begin{tabular}\n",
       "{l | l}\n",
       "Component & Description \\\\\n",
       "\\hline\n",
       "\\texttt{L} & \\texttt{L} (lower triangular) part of \\texttt{LU} \\\\\n",
       "\\texttt{U} & \\texttt{U} (upper triangular) part of \\texttt{LU} \\\\\n",
       "\\texttt{p} & right permutation \\texttt{Vector} \\\\\n",
       "\\texttt{q} & left permutation \\texttt{Vector} \\\\\n",
       "\\texttt{Rs} & \\texttt{Vector} of scaling factors \\\\\n",
       "\\texttt{:} & \\texttt{(L,U,p,q,Rs)} components \\\\\n",
       "\\end{tabular}\n",
       "The relation between \\texttt{F} and \\texttt{A} is\n",
       "\n",
       "\\texttt{F.L*F.U == (F.Rs .* A)[F.p, F.q]}\n",
       "\n",
       "\\texttt{F} further supports the following functions:\n",
       "\n",
       "\\begin{itemize}\n",
       "\\item \\href{@ref}{\\texttt{{\\textbackslash}}}\n",
       "\n",
       "\n",
       "\\item \\href{@ref}{\\texttt{cond}}\n",
       "\n",
       "\n",
       "\\item \\href{@ref}{\\texttt{det}}\n",
       "\n",
       "\\end{itemize}\n",
       "\\begin{quote}\n",
       "\\textbf{note}\n",
       "\n",
       "Note\n",
       "\n",
       "\\texttt{lu(A::SparseMatrixCSC)} uses the UMFPACK library that is part of SuiteSparse. As this library only supports sparse matrices with \\href{@ref}{\\texttt{Float64}} or \\texttt{ComplexF64} elements, \\texttt{lu} converts \\texttt{A} into a copy that is of type \\texttt{SparseMatrixCSC\\{Float64\\}} or \\texttt{SparseMatrixCSC\\{ComplexF64\\}} as appropriate.\n",
       "\n",
       "\\end{quote}\n"
      ],
      "text/markdown": [
       "```\n",
       "lu(A, pivot=Val(true); check = true) -> F::LU\n",
       "```\n",
       "\n",
       "Compute the LU factorization of `A`.\n",
       "\n",
       "When `check = true`, an error is thrown if the decomposition fails. When `check = false`, responsibility for checking the decomposition's validity (via [`issuccess`](@ref)) lies with the user.\n",
       "\n",
       "In most cases, if `A` is a subtype `S` of `AbstractMatrix{T}` with an element type `T` supporting `+`, `-`, `*` and `/`, the return type is `LU{T,S{T}}`. If pivoting is chosen (default) the element type should also support [`abs`](@ref) and [`<`](@ref).\n",
       "\n",
       "The individual components of the factorization `F` can be accessed via [`getproperty`](@ref):\n",
       "\n",
       "| Component | Description                         |\n",
       "|:--------- |:----------------------------------- |\n",
       "| `F.L`     | `L` (lower triangular) part of `LU` |\n",
       "| `F.U`     | `U` (upper triangular) part of `LU` |\n",
       "| `F.p`     | (right) permutation `Vector`        |\n",
       "| `F.P`     | (right) permutation `Matrix`        |\n",
       "\n",
       "Iterating the factorization produces the components `F.L`, `F.U`, and `F.p`.\n",
       "\n",
       "The relationship between `F` and `A` is\n",
       "\n",
       "`F.L*F.U == A[F.p, :]`\n",
       "\n",
       "`F` further supports the following functions:\n",
       "\n",
       "| Supported function  | `LU` | `LU{T,Tridiagonal{T}}` |\n",
       "|:------------------- |:---- |:---------------------- |\n",
       "| [`/`](@ref)         | ✓    |                        |\n",
       "| [`\\`](@ref)         | ✓    | ✓                      |\n",
       "| [`inv`](@ref)       | ✓    | ✓                      |\n",
       "| [`det`](@ref)       | ✓    | ✓                      |\n",
       "| [`logdet`](@ref)    | ✓    | ✓                      |\n",
       "| [`logabsdet`](@ref) | ✓    | ✓                      |\n",
       "| [`size`](@ref)      | ✓    | ✓                      |\n",
       "\n",
       "# Examples\n",
       "\n",
       "```jldoctest\n",
       "julia> A = [4 3; 6 3]\n",
       "2×2 Matrix{Int64}:\n",
       " 4  3\n",
       " 6  3\n",
       "\n",
       "julia> F = lu(A)\n",
       "LU{Float64, Matrix{Float64}}\n",
       "L factor:\n",
       "2×2 Matrix{Float64}:\n",
       " 1.0       0.0\n",
       " 0.666667  1.0\n",
       "U factor:\n",
       "2×2 Matrix{Float64}:\n",
       " 6.0  3.0\n",
       " 0.0  1.0\n",
       "\n",
       "julia> F.L * F.U == A[F.p, :]\n",
       "true\n",
       "\n",
       "julia> l, u, p = lu(A); # destructuring via iteration\n",
       "\n",
       "julia> l == F.L && u == F.U && p == F.p\n",
       "true\n",
       "```\n",
       "\n",
       "---\n",
       "\n",
       "```\n",
       "lu(A::SparseMatrixCSC; check = true) -> F::UmfpackLU\n",
       "```\n",
       "\n",
       "Compute the LU factorization of a sparse matrix `A`.\n",
       "\n",
       "For sparse `A` with real or complex element type, the return type of `F` is `UmfpackLU{Tv, Ti}`, with `Tv` = [`Float64`](@ref) or `ComplexF64` respectively and `Ti` is an integer type ([`Int32`](@ref) or [`Int64`](@ref)).\n",
       "\n",
       "When `check = true`, an error is thrown if the decomposition fails. When `check = false`, responsibility for checking the decomposition's validity (via [`issuccess`](@ref)) lies with the user.\n",
       "\n",
       "The individual components of the factorization `F` can be accessed by indexing:\n",
       "\n",
       "| Component | Description                         |\n",
       "|:--------- |:----------------------------------- |\n",
       "| `L`       | `L` (lower triangular) part of `LU` |\n",
       "| `U`       | `U` (upper triangular) part of `LU` |\n",
       "| `p`       | right permutation `Vector`          |\n",
       "| `q`       | left permutation `Vector`           |\n",
       "| `Rs`      | `Vector` of scaling factors         |\n",
       "| `:`       | `(L,U,p,q,Rs)` components           |\n",
       "\n",
       "The relation between `F` and `A` is\n",
       "\n",
       "`F.L*F.U == (F.Rs .* A)[F.p, F.q]`\n",
       "\n",
       "`F` further supports the following functions:\n",
       "\n",
       "  * [`\\`](@ref)\n",
       "  * [`cond`](@ref)\n",
       "  * [`det`](@ref)\n",
       "\n",
       "!!! note\n",
       "    `lu(A::SparseMatrixCSC)` uses the UMFPACK library that is part of SuiteSparse. As this library only supports sparse matrices with [`Float64`](@ref) or `ComplexF64` elements, `lu` converts `A` into a copy that is of type `SparseMatrixCSC{Float64}` or `SparseMatrixCSC{ComplexF64}` as appropriate.\n",
       "\n"
      ],
      "text/plain": [
       "\u001b[36m  lu(A, pivot=Val(true); check = true) -> F::LU\u001b[39m\n",
       "\n",
       "  Compute the LU factorization of \u001b[36mA\u001b[39m.\n",
       "\n",
       "  When \u001b[36mcheck = true\u001b[39m, an error is thrown if the decomposition fails. When \u001b[36mcheck\n",
       "  = false\u001b[39m, responsibility for checking the decomposition's validity (via\n",
       "  \u001b[36missuccess\u001b[39m) lies with the user.\n",
       "\n",
       "  In most cases, if \u001b[36mA\u001b[39m is a subtype \u001b[36mS\u001b[39m of \u001b[36mAbstractMatrix{T}\u001b[39m with an element type\n",
       "  \u001b[36mT\u001b[39m supporting \u001b[36m+\u001b[39m, \u001b[36m-\u001b[39m, \u001b[36m*\u001b[39m and \u001b[36m/\u001b[39m, the return type is \u001b[36mLU{T,S{T}}\u001b[39m. If pivoting is\n",
       "  chosen (default) the element type should also support \u001b[36mabs\u001b[39m and \u001b[36m<\u001b[39m.\n",
       "\n",
       "  The individual components of the factorization \u001b[36mF\u001b[39m can be accessed via\n",
       "  \u001b[36mgetproperty\u001b[39m:\n",
       "\n",
       "  Component Description                    \n",
       "  ––––––––– –––––––––––––––––––––––––––––––\n",
       "  \u001b[36mF.L\u001b[39m       \u001b[36mL\u001b[39m (lower triangular) part of \u001b[36mLU\u001b[39m\n",
       "  \u001b[36mF.U\u001b[39m       \u001b[36mU\u001b[39m (upper triangular) part of \u001b[36mLU\u001b[39m\n",
       "  \u001b[36mF.p\u001b[39m       (right) permutation \u001b[36mVector\u001b[39m     \n",
       "  \u001b[36mF.P\u001b[39m       (right) permutation \u001b[36mMatrix\u001b[39m     \n",
       "\n",
       "  Iterating the factorization produces the components \u001b[36mF.L\u001b[39m, \u001b[36mF.U\u001b[39m, and \u001b[36mF.p\u001b[39m.\n",
       "\n",
       "  The relationship between \u001b[36mF\u001b[39m and \u001b[36mA\u001b[39m is\n",
       "\n",
       "  \u001b[36mF.L*F.U == A[F.p, :]\u001b[39m\n",
       "\n",
       "  \u001b[36mF\u001b[39m further supports the following functions:\n",
       "\n",
       "  Supported function \u001b[36mLU\u001b[39m \u001b[36mLU{T,Tridiagonal{T}}\u001b[39m\n",
       "  –––––––––––––––––– –– ––––––––––––––––––––\n",
       "  \u001b[36m/\u001b[39m                  ✓                      \n",
       "  \u001b[36m\\\u001b[39m                  ✓  ✓                   \n",
       "  \u001b[36minv\u001b[39m                ✓  ✓                   \n",
       "  \u001b[36mdet\u001b[39m                ✓  ✓                   \n",
       "  \u001b[36mlogdet\u001b[39m             ✓  ✓                   \n",
       "  \u001b[36mlogabsdet\u001b[39m          ✓  ✓                   \n",
       "  \u001b[36msize\u001b[39m               ✓  ✓                   \n",
       "\n",
       "\u001b[1m  Examples\u001b[22m\n",
       "\u001b[1m  ≡≡≡≡≡≡≡≡≡≡\u001b[22m\n",
       "\n",
       "\u001b[36m  julia> A = [4 3; 6 3]\u001b[39m\n",
       "\u001b[36m  2×2 Matrix{Int64}:\u001b[39m\n",
       "\u001b[36m   4  3\u001b[39m\n",
       "\u001b[36m   6  3\u001b[39m\n",
       "\u001b[36m  \u001b[39m\n",
       "\u001b[36m  julia> F = lu(A)\u001b[39m\n",
       "\u001b[36m  LU{Float64, Matrix{Float64}}\u001b[39m\n",
       "\u001b[36m  L factor:\u001b[39m\n",
       "\u001b[36m  2×2 Matrix{Float64}:\u001b[39m\n",
       "\u001b[36m   1.0       0.0\u001b[39m\n",
       "\u001b[36m   0.666667  1.0\u001b[39m\n",
       "\u001b[36m  U factor:\u001b[39m\n",
       "\u001b[36m  2×2 Matrix{Float64}:\u001b[39m\n",
       "\u001b[36m   6.0  3.0\u001b[39m\n",
       "\u001b[36m   0.0  1.0\u001b[39m\n",
       "\u001b[36m  \u001b[39m\n",
       "\u001b[36m  julia> F.L * F.U == A[F.p, :]\u001b[39m\n",
       "\u001b[36m  true\u001b[39m\n",
       "\u001b[36m  \u001b[39m\n",
       "\u001b[36m  julia> l, u, p = lu(A); # destructuring via iteration\u001b[39m\n",
       "\u001b[36m  \u001b[39m\n",
       "\u001b[36m  julia> l == F.L && u == F.U && p == F.p\u001b[39m\n",
       "\u001b[36m  true\u001b[39m\n",
       "\n",
       "  ────────────────────────────────────────────────────────────────────────────\n",
       "\n",
       "\u001b[36m  lu(A::SparseMatrixCSC; check = true) -> F::UmfpackLU\u001b[39m\n",
       "\n",
       "  Compute the LU factorization of a sparse matrix \u001b[36mA\u001b[39m.\n",
       "\n",
       "  For sparse \u001b[36mA\u001b[39m with real or complex element type, the return type of \u001b[36mF\u001b[39m is\n",
       "  \u001b[36mUmfpackLU{Tv, Ti}\u001b[39m, with \u001b[36mTv\u001b[39m = \u001b[36mFloat64\u001b[39m or \u001b[36mComplexF64\u001b[39m respectively and \u001b[36mTi\u001b[39m is an\n",
       "  integer type (\u001b[36mInt32\u001b[39m or \u001b[36mInt64\u001b[39m).\n",
       "\n",
       "  When \u001b[36mcheck = true\u001b[39m, an error is thrown if the decomposition fails. When \u001b[36mcheck\n",
       "  = false\u001b[39m, responsibility for checking the decomposition's validity (via\n",
       "  \u001b[36missuccess\u001b[39m) lies with the user.\n",
       "\n",
       "  The individual components of the factorization \u001b[36mF\u001b[39m can be accessed by\n",
       "  indexing:\n",
       "\n",
       "  Component Description                    \n",
       "  ––––––––– –––––––––––––––––––––––––––––––\n",
       "  \u001b[36mL\u001b[39m         \u001b[36mL\u001b[39m (lower triangular) part of \u001b[36mLU\u001b[39m\n",
       "  \u001b[36mU\u001b[39m         \u001b[36mU\u001b[39m (upper triangular) part of \u001b[36mLU\u001b[39m\n",
       "  \u001b[36mp\u001b[39m         right permutation \u001b[36mVector\u001b[39m       \n",
       "  \u001b[36mq\u001b[39m         left permutation \u001b[36mVector\u001b[39m        \n",
       "  \u001b[36mRs\u001b[39m        \u001b[36mVector\u001b[39m of scaling factors      \n",
       "  \u001b[36m:\u001b[39m         \u001b[36m(L,U,p,q,Rs)\u001b[39m components        \n",
       "\n",
       "  The relation between \u001b[36mF\u001b[39m and \u001b[36mA\u001b[39m is\n",
       "\n",
       "  \u001b[36mF.L*F.U == (F.Rs .* A)[F.p, F.q]\u001b[39m\n",
       "\n",
       "  \u001b[36mF\u001b[39m further supports the following functions:\n",
       "\n",
       "    •  \u001b[36m\\\u001b[39m\n",
       "\n",
       "    •  \u001b[36mcond\u001b[39m\n",
       "\n",
       "    •  \u001b[36mdet\u001b[39m\n",
       "\n",
       "\u001b[36m\u001b[1m  │ \u001b[22m\u001b[39m\u001b[36m\u001b[1mNote\u001b[22m\u001b[39m\n",
       "\u001b[36m\u001b[1m  │\u001b[22m\u001b[39m\n",
       "\u001b[36m\u001b[1m  │\u001b[22m\u001b[39m  \u001b[36mlu(A::SparseMatrixCSC)\u001b[39m uses the UMFPACK library that is part of\n",
       "\u001b[36m\u001b[1m  │\u001b[22m\u001b[39m  SuiteSparse. As this library only supports sparse matrices with\n",
       "\u001b[36m\u001b[1m  │\u001b[22m\u001b[39m  \u001b[36mFloat64\u001b[39m or \u001b[36mComplexF64\u001b[39m elements, \u001b[36mlu\u001b[39m converts \u001b[36mA\u001b[39m into a copy that is\n",
       "\u001b[36m\u001b[1m  │\u001b[22m\u001b[39m  of type \u001b[36mSparseMatrixCSC{Float64}\u001b[39m or \u001b[36mSparseMatrixCSC{ComplexF64}\u001b[39m as\n",
       "\u001b[36m\u001b[1m  │\u001b[22m\u001b[39m  appropriate."
      ]
     },
     "execution_count": 3,
     "metadata": {},
     "output_type": "execute_result"
    }
   ],
   "source": [
    "?lu"
   ]
  },
  {
   "cell_type": "code",
   "execution_count": 4,
   "metadata": {},
   "outputs": [
    {
     "data": {
      "text/plain": [
       "LU{Float64, Matrix{Float64}}"
      ]
     },
     "execution_count": 4,
     "metadata": {},
     "output_type": "execute_result"
    }
   ],
   "source": [
    "typeof(Alu)"
   ]
  },
  {
   "cell_type": "markdown",
   "metadata": {},
   "source": [
    "The different parts of the factorization can be extracted by accessing their special properties"
   ]
  },
  {
   "cell_type": "code",
   "execution_count": 5,
   "metadata": {},
   "outputs": [
    {
     "data": {
      "text/plain": [
       "3×3 Matrix{Float64}:\n",
       " 0.0  0.0  1.0\n",
       " 1.0  0.0  0.0\n",
       " 0.0  1.0  0.0"
      ]
     },
     "execution_count": 5,
     "metadata": {},
     "output_type": "execute_result"
    }
   ],
   "source": [
    "Alu.P"
   ]
  },
  {
   "cell_type": "code",
   "execution_count": 6,
   "metadata": {},
   "outputs": [
    {
     "data": {
      "text/plain": [
       "3×3 Matrix{Float64}:\n",
       " 1.0        0.0       0.0\n",
       " 0.849324   1.0       0.0\n",
       " 0.0595205  0.760361  1.0"
      ]
     },
     "execution_count": 6,
     "metadata": {},
     "output_type": "execute_result"
    }
   ],
   "source": [
    "Alu.L"
   ]
  },
  {
   "cell_type": "code",
   "execution_count": 7,
   "metadata": {},
   "outputs": [
    {
     "data": {
      "text/plain": [
       "3×3 Matrix{Float64}:\n",
       " 0.892925  0.339394   0.192349\n",
       " 0.0       0.562548   0.641939\n",
       " 0.0       0.0       -0.434535"
      ]
     },
     "execution_count": 7,
     "metadata": {},
     "output_type": "execute_result"
    }
   ],
   "source": [
    "Alu.U"
   ]
  },
  {
   "cell_type": "markdown",
   "metadata": {},
   "source": [
    "Julia can dispatch methods on factorization objects.\n",
    "\n",
    "For example, we can solve the linear system using either the original matrix or the factorization object."
   ]
  },
  {
   "cell_type": "code",
   "execution_count": 8,
   "metadata": {},
   "outputs": [
    {
     "data": {
      "text/plain": [
       "3-element Vector{Float64}:\n",
       " 1.0\n",
       " 1.0000000000000002\n",
       " 0.9999999999999999"
      ]
     },
     "execution_count": 8,
     "metadata": {},
     "output_type": "execute_result"
    }
   ],
   "source": [
    "A\\b"
   ]
  },
  {
   "cell_type": "code",
   "execution_count": 9,
   "metadata": {},
   "outputs": [
    {
     "data": {
      "text/plain": [
       "3-element Vector{Float64}:\n",
       " 1.0\n",
       " 1.0000000000000002\n",
       " 0.9999999999999999"
      ]
     },
     "execution_count": 9,
     "metadata": {},
     "output_type": "execute_result"
    }
   ],
   "source": [
    "Alu\\b"
   ]
  },
  {
   "cell_type": "markdown",
   "metadata": {},
   "source": [
    "Similarly, we can calculate the determinant of `A` using either `A` or the factorization object"
   ]
  },
  {
   "cell_type": "code",
   "execution_count": 10,
   "metadata": {},
   "outputs": [
    {
     "data": {
      "text/plain": [
       "true"
      ]
     },
     "execution_count": 10,
     "metadata": {},
     "output_type": "execute_result"
    }
   ],
   "source": [
    "det(A) ≈ det(Alu)"
   ]
  },
  {
   "cell_type": "markdown",
   "metadata": {},
   "source": [
    "#### QR factorizations\n",
    "\n",
    "In Julia we can perform a QR factorization\n",
    "```\n",
    "A=QR\n",
    "``` \n",
    "\n",
    "where `Q` is unitary/orthogonal and `R` is upper triangular, using `qrfact`. "
   ]
  },
  {
   "cell_type": "code",
   "execution_count": 11,
   "metadata": {},
   "outputs": [
    {
     "data": {
      "text/plain": [
       "LinearAlgebra.QRCompactWY{Float64, Matrix{Float64}}\n",
       "Q factor:\n",
       "3×3 LinearAlgebra.QRCompactWYQ{Float64, Matrix{Float64}}:\n",
       " -0.646684   -0.530068  -0.548477\n",
       " -0.0453195  -0.691099   0.721338\n",
       " -0.76141     0.491334   0.422901\n",
       "R factor:\n",
       "3×3 Matrix{Float64}:\n",
       " -1.17273  -0.828919  -0.670181\n",
       "  0.0      -0.593799  -0.377294\n",
       "  0.0       0.0       -0.313446"
      ]
     },
     "execution_count": 11,
     "metadata": {},
     "output_type": "execute_result"
    }
   ],
   "source": [
    "Aqr = qr(A)"
   ]
  },
  {
   "cell_type": "markdown",
   "metadata": {},
   "source": [
    "Similarly to the LU factorization, the matrices `Q` and `R` can be extracted from the QR factorization object via"
   ]
  },
  {
   "cell_type": "code",
   "execution_count": 12,
   "metadata": {},
   "outputs": [
    {
     "data": {
      "text/plain": [
       "3×3 LinearAlgebra.QRCompactWYQ{Float64, Matrix{Float64}}:\n",
       " -0.646684   -0.530068  -0.548477\n",
       " -0.0453195  -0.691099   0.721338\n",
       " -0.76141     0.491334   0.422901"
      ]
     },
     "execution_count": 12,
     "metadata": {},
     "output_type": "execute_result"
    }
   ],
   "source": [
    "Aqr.Q"
   ]
  },
  {
   "cell_type": "code",
   "execution_count": 13,
   "metadata": {},
   "outputs": [
    {
     "data": {
      "text/plain": [
       "3×3 Matrix{Float64}:\n",
       " -1.17273  -0.828919  -0.670181\n",
       "  0.0      -0.593799  -0.377294\n",
       "  0.0       0.0       -0.313446"
      ]
     },
     "execution_count": 13,
     "metadata": {},
     "output_type": "execute_result"
    }
   ],
   "source": [
    "Aqr.R"
   ]
  },
  {
   "cell_type": "markdown",
   "metadata": {},
   "source": [
    "#### Eigendecompositions"
   ]
  },
  {
   "cell_type": "markdown",
   "metadata": {},
   "source": [
    "The results from eigendecompositions, singular value decompositions, Hessenberg factorizations, and Schur decompositions are all stored in `Factorization` types.\n",
    "\n",
    "The eigendecomposition can be computed"
   ]
  },
  {
   "cell_type": "code",
   "execution_count": 14,
   "metadata": {},
   "outputs": [
    {
     "data": {
      "text/plain": [
       "Eigen{Float64, Float64, Matrix{Float64}, Vector{Float64}}\n",
       "values:\n",
       "3-element Vector{Float64}:\n",
       " -0.8661200527230175\n",
       "  0.5051105382017589\n",
       "  3.1583542071600093\n",
       "vectors:\n",
       "3×3 Matrix{Float64}:\n",
       " -0.608061   0.240596  -0.756555\n",
       "  0.132285  -0.908943  -0.395378\n",
       "  0.782792   0.340494  -0.520865"
      ]
     },
     "execution_count": 14,
     "metadata": {},
     "output_type": "execute_result"
    }
   ],
   "source": [
    "Asym = A + A'\n",
    "AsymEig = eigen(Asym)"
   ]
  },
  {
   "cell_type": "markdown",
   "metadata": {},
   "source": [
    "The values and the vectors can be extracted from the Eigen type by special indexing"
   ]
  },
  {
   "cell_type": "code",
   "execution_count": 15,
   "metadata": {},
   "outputs": [
    {
     "data": {
      "text/plain": [
       "3-element Vector{Float64}:\n",
       " -0.8661200527230175\n",
       "  0.5051105382017589\n",
       "  3.1583542071600093"
      ]
     },
     "execution_count": 15,
     "metadata": {},
     "output_type": "execute_result"
    }
   ],
   "source": [
    "AsymEig.values"
   ]
  },
  {
   "cell_type": "code",
   "execution_count": 16,
   "metadata": {},
   "outputs": [
    {
     "data": {
      "text/plain": [
       "3×3 Matrix{Float64}:\n",
       " -0.608061   0.240596  -0.756555\n",
       "  0.132285  -0.908943  -0.395378\n",
       "  0.782792   0.340494  -0.520865"
      ]
     },
     "execution_count": 16,
     "metadata": {},
     "output_type": "execute_result"
    }
   ],
   "source": [
    "AsymEig.vectors"
   ]
  },
  {
   "cell_type": "markdown",
   "metadata": {},
   "source": [
    "Once again, when the factorization is stored in a type, we can dispatch on it and write specialized methods that exploit the properties of the factorization, e.g. that $A^{-1}=(V\\Lambda V^{-1})^{-1}=V\\Lambda^{-1}V^{-1}$."
   ]
  },
  {
   "cell_type": "code",
   "execution_count": 17,
   "metadata": {},
   "outputs": [
    {
     "data": {
      "text/plain": [
       "3×3 Matrix{Float64}:\n",
       "  1.0           5.55112e-16  -4.82947e-15\n",
       " -3.10862e-15   1.0           3.21965e-15\n",
       " -2.33147e-15  -4.996e-16     1.0"
      ]
     },
     "execution_count": 17,
     "metadata": {},
     "output_type": "execute_result"
    }
   ],
   "source": [
    "inv(AsymEig)*Asym"
   ]
  },
  {
   "cell_type": "markdown",
   "metadata": {},
   "source": [
    "## Special matrix structures\n",
    "Matrix structure is very important in linear algebra. To see *how* important it is, let's work with a larger linear system"
   ]
  },
  {
   "cell_type": "code",
   "execution_count": 18,
   "metadata": {},
   "outputs": [],
   "source": [
    "n = 1000\n",
    "A = randn(n,n);"
   ]
  },
  {
   "cell_type": "markdown",
   "metadata": {},
   "source": [
    "Julia can often infer special matrix structure"
   ]
  },
  {
   "cell_type": "code",
   "execution_count": 19,
   "metadata": {},
   "outputs": [
    {
     "data": {
      "text/plain": [
       "true"
      ]
     },
     "execution_count": 19,
     "metadata": {},
     "output_type": "execute_result"
    }
   ],
   "source": [
    "Asym = A + A'\n",
    "issymmetric(Asym)"
   ]
  },
  {
   "cell_type": "markdown",
   "metadata": {},
   "source": [
    "but sometimes floating point error might get in the way."
   ]
  },
  {
   "cell_type": "code",
   "execution_count": 20,
   "metadata": {},
   "outputs": [
    {
     "data": {
      "text/plain": [
       "0.1584748734438246"
      ]
     },
     "execution_count": 20,
     "metadata": {},
     "output_type": "execute_result"
    }
   ],
   "source": [
    "Asym_noisy = copy(Asym)\n",
    "Asym_noisy[1,2] += 5eps()"
   ]
  },
  {
   "cell_type": "code",
   "execution_count": 21,
   "metadata": {},
   "outputs": [
    {
     "data": {
      "text/plain": [
       "false"
      ]
     },
     "execution_count": 21,
     "metadata": {},
     "output_type": "execute_result"
    }
   ],
   "source": [
    "issymmetric(Asym_noisy)"
   ]
  },
  {
   "cell_type": "markdown",
   "metadata": {},
   "source": [
    "Luckily we can declare structure explicitly with, for example, `Diagonal`, `Triangular`, `Symmetric`, `Hermitian`, `Tridiagonal` and `SymTridiagonal`."
   ]
  },
  {
   "cell_type": "code",
   "execution_count": 22,
   "metadata": {},
   "outputs": [],
   "source": [
    "Asym_explicit = Symmetric(Asym_noisy);"
   ]
  },
  {
   "cell_type": "markdown",
   "metadata": {},
   "source": [
    "Let's compare how long it takes Julia to compute the eigenvalues of `Asym`, `Asym_noisy`, and `Asym_explicit`"
   ]
  },
  {
   "cell_type": "code",
   "execution_count": 23,
   "metadata": {},
   "outputs": [
    {
     "name": "stdout",
     "output_type": "stream",
     "text": [
      "  0.513415 seconds (133.94 k allocations: 15.454 MiB, 40.65% compilation time)\n"
     ]
    }
   ],
   "source": [
    "@time eigvals(Asym);"
   ]
  },
  {
   "cell_type": "code",
   "execution_count": 24,
   "metadata": {},
   "outputs": [
    {
     "name": "stdout",
     "output_type": "stream",
     "text": [
      "  1.076996 seconds (13 allocations: 7.920 MiB)\n"
     ]
    }
   ],
   "source": [
    "@time eigvals(Asym_noisy);"
   ]
  },
  {
   "cell_type": "code",
   "execution_count": 25,
   "metadata": {},
   "outputs": [
    {
     "name": "stdout",
     "output_type": "stream",
     "text": [
      "  0.303316 seconds (5.88 k allocations: 8.358 MiB, 2.25% compilation time)\n"
     ]
    }
   ],
   "source": [
    "@time eigvals(Asym_explicit);"
   ]
  },
  {
   "cell_type": "code",
   "execution_count": 26,
   "metadata": {},
   "outputs": [],
   "source": [
    "using BenchmarkTools  \n"
   ]
  },
  {
   "cell_type": "code",
   "execution_count": 27,
   "metadata": {},
   "outputs": [
    {
     "data": {
      "text/plain": [
       "BenchmarkTools.Trial: \n",
       "  memory estimate:  7.99 MiB\n",
       "  allocs estimate:  11\n",
       "  --------------\n",
       "  minimum time:     275.317 ms (0.00% GC)\n",
       "  median time:      286.685 ms (0.00% GC)\n",
       "  mean time:        290.249 ms (0.26% GC)\n",
       "  maximum time:     311.106 ms (1.34% GC)\n",
       "  --------------\n",
       "  samples:          18\n",
       "  evals/sample:     1"
      ]
     },
     "execution_count": 27,
     "metadata": {},
     "output_type": "execute_result"
    }
   ],
   "source": [
    "@benchmark eigvals($Asym)"
   ]
  },
  {
   "cell_type": "code",
   "execution_count": 28,
   "metadata": {},
   "outputs": [
    {
     "data": {
      "text/plain": [
       "BenchmarkTools.Trial: \n",
       "  memory estimate:  7.99 MiB\n",
       "  allocs estimate:  11\n",
       "  --------------\n",
       "  minimum time:     264.918 ms (0.00% GC)\n",
       "  median time:      290.508 ms (0.00% GC)\n",
       "  mean time:        305.677 ms (0.15% GC)\n",
       "  maximum time:     402.673 ms (0.00% GC)\n",
       "  --------------\n",
       "  samples:          17\n",
       "  evals/sample:     1"
      ]
     },
     "execution_count": 28,
     "metadata": {},
     "output_type": "execute_result"
    }
   ],
   "source": []
  },
  {
   "cell_type": "code",
   "execution_count": 29,
   "metadata": {},
   "outputs": [
    {
     "data": {
      "text/plain": [
       "BenchmarkTools.Trial: \n",
       "  memory estimate:  7.92 MiB\n",
       "  allocs estimate:  13\n",
       "  --------------\n",
       "  minimum time:     1.099 s (0.00% GC)\n",
       "  median time:      1.128 s (0.00% GC)\n",
       "  mean time:        1.124 s (0.00% GC)\n",
       "  maximum time:     1.149 s (0.00% GC)\n",
       "  --------------\n",
       "  samples:          5\n",
       "  evals/sample:     1"
      ]
     },
     "execution_count": 29,
     "metadata": {},
     "output_type": "execute_result"
    }
   ],
   "source": [
    "@benchmark eigvals($Asym_noisy)"
   ]
  },
  {
   "cell_type": "code",
   "execution_count": 30,
   "metadata": {},
   "outputs": [
    {
     "data": {
      "text/plain": [
       "BenchmarkTools.Trial: \n",
       "  memory estimate:  7.99 MiB\n",
       "  allocs estimate:  11\n",
       "  --------------\n",
       "  minimum time:     271.133 ms (0.00% GC)\n",
       "  median time:      279.637 ms (0.00% GC)\n",
       "  mean time:        281.405 ms (0.26% GC)\n",
       "  maximum time:     298.937 ms (0.00% GC)\n",
       "  --------------\n",
       "  samples:          18\n",
       "  evals/sample:     1"
      ]
     },
     "execution_count": 30,
     "metadata": {},
     "output_type": "execute_result"
    }
   ],
   "source": [
    "@benchmark eigvals($Asym_explicit)"
   ]
  },
  {
   "cell_type": "markdown",
   "metadata": {},
   "source": [
    "In this example, using `Symmetric()` on `Asym_noisy` made our calculations about `5x` more efficient :)"
   ]
  },
  {
   "cell_type": "code",
   "execution_count": null,
   "metadata": {},
   "outputs": [],
   "source": []
  },
  {
   "cell_type": "markdown",
   "metadata": {},
   "source": [
    "#### A big problem\n",
    "Using the `Tridiagonal` and `SymTridiagonal` types to store tridiagonal matrices makes it possible to work with potentially very large tridiagonal problems. The following problem would not be possible to solve on a laptop if the matrix had to be stored as a (dense) `Matrix` type."
   ]
  },
  {
   "cell_type": "code",
   "execution_count": 31,
   "metadata": {},
   "outputs": [
    {
     "name": "stdout",
     "output_type": "stream",
     "text": [
      "  0.894352 seconds (782.01 k allocations: 226.927 MiB, 4.01% gc time, 28.55% compilation time)\n"
     ]
    },
    {
     "data": {
      "text/plain": [
       "6.111489202404375"
      ]
     },
     "execution_count": 31,
     "metadata": {},
     "output_type": "execute_result"
    }
   ],
   "source": [
    "n = 1_000_000;\n",
    "A = SymTridiagonal(randn(n), randn(n-1));\n",
    "@time eigmax(A)"
   ]
  },
  {
   "cell_type": "markdown",
   "metadata": {},
   "source": [
    "## Generic linear algebra\n",
    "The usual way of adding support for numerical linear algebra is by wrapping BLAS and LAPACK subroutines. For matrices with elements of `Float32`, `Float64`, `Complex{Float32}` or `Complex{Float64}` this is also what Julia does.\n",
    "\n",
    "However, Julia also supports generic linear algebra, allowing you to, for example, work with matrices and vectors of rational numbers."
   ]
  },
  {
   "cell_type": "markdown",
   "metadata": {},
   "source": [
    "#### Rational numbers\n",
    "Julia has rational numbers built in. To construct a rational number, use double forward slashes:"
   ]
  },
  {
   "cell_type": "code",
   "execution_count": 32,
   "metadata": {},
   "outputs": [
    {
     "data": {
      "text/plain": [
       "1//2"
      ]
     },
     "execution_count": 32,
     "metadata": {},
     "output_type": "execute_result"
    }
   ],
   "source": [
    "1//2"
   ]
  },
  {
   "cell_type": "markdown",
   "metadata": {},
   "source": [
    "#### Example: Rational linear system of equations\n",
    "The following example shows how linear system of equations with rational elements can be solved without promoting to floating point element types. Overflow can easily become a problem when working with rational numbers so we use `BigInt`s."
   ]
  },
  {
   "cell_type": "code",
   "execution_count": 33,
   "metadata": {},
   "outputs": [
    {
     "data": {
      "text/plain": [
       "3×3 Matrix{Rational{BigInt}}:\n",
       " 7//10  1//5  4//5\n",
       " 4//5   1//5  9//10\n",
       " 2//5   1//5  1//10"
      ]
     },
     "execution_count": 33,
     "metadata": {},
     "output_type": "execute_result"
    }
   ],
   "source": [
    "Arational = Matrix{Rational{BigInt}}(rand(1:10, 3, 3))/10"
   ]
  },
  {
   "cell_type": "code",
   "execution_count": 34,
   "metadata": {},
   "outputs": [
    {
     "data": {
      "text/plain": [
       "3-element Vector{Rational{BigInt}}:\n",
       " 17//10\n",
       " 19//10\n",
       "  7//10"
      ]
     },
     "execution_count": 34,
     "metadata": {},
     "output_type": "execute_result"
    }
   ],
   "source": [
    "x = fill(1, 3)\n",
    "b = Arational*x"
   ]
  },
  {
   "cell_type": "code",
   "execution_count": 35,
   "metadata": {},
   "outputs": [
    {
     "data": {
      "text/plain": [
       "3-element Vector{Rational{BigInt}}:\n",
       " 1//1\n",
       " 1//1\n",
       " 1//1"
      ]
     },
     "execution_count": 35,
     "metadata": {},
     "output_type": "execute_result"
    }
   ],
   "source": [
    "Arational\\b"
   ]
  },
  {
   "cell_type": "code",
   "execution_count": 36,
   "metadata": {},
   "outputs": [
    {
     "data": {
      "text/plain": [
       "LU{Rational{BigInt}, Matrix{Rational{BigInt}}}\n",
       "L factor:\n",
       "3×3 Matrix{Rational{BigInt}}:\n",
       " 1//1  0//1  0//1\n",
       " 1//2  1//1  0//1\n",
       " 7//8  1//4  1//1\n",
       "U factor:\n",
       "3×3 Matrix{Rational{BigInt}}:\n",
       " 4//5  1//5    9//10\n",
       " 0//1  1//10  -7//20\n",
       " 0//1  0//1    1//10"
      ]
     },
     "execution_count": 36,
     "metadata": {},
     "output_type": "execute_result"
    }
   ],
   "source": [
    "lu(Arational)"
   ]
  },
  {
   "cell_type": "markdown",
   "metadata": {},
   "source": [
    "### Exercises\n",
    "\n",
    "#### 11.1\n",
    "What are the eigenvalues of matrix A?\n",
    "\n",
    "```\n",
    "A =\n",
    "[\n",
    " 140   97   74  168  131\n",
    "  97  106   89  131   36\n",
    "  74   89  152  144   71\n",
    " 168  131  144   54  142\n",
    " 131   36   71  142   36\n",
    "]\n",
    "```\n",
    "and assign it a variable `A_eigv`"
   ]
  },
  {
   "cell_type": "code",
   "execution_count": 37,
   "metadata": {},
   "outputs": [],
   "source": [
    "using LinearAlgebra"
   ]
  },
  {
   "cell_type": "code",
   "execution_count": null,
   "metadata": {},
   "outputs": [],
   "source": []
  },
  {
   "cell_type": "code",
   "execution_count": 38,
   "metadata": {
    "deletable": false,
    "editable": false,
    "hide_input": true,
    "nbgrader": {
     "checksum": "f9f16fdef201ed372323a291f1dd1346",
     "grade": true,
     "grade_id": "cell-4d5f60c8a814c789",
     "locked": true,
     "points": 0,
     "schema_version": 1,
     "solution": false
    }
   },
   "outputs": [
    {
     "ename": "LoadError",
     "evalue": "UndefVarError: A_eigv not defined",
     "output_type": "error",
     "traceback": [
      "UndefVarError: A_eigv not defined",
      "",
      "Stacktrace:",
      " [1] top-level scope",
      "   @ In[38]:1",
      " [2] eval",
      "   @ .\\boot.jl:360 [inlined]",
      " [3] include_string(mapexpr::typeof(REPL.softscope), mod::Module, code::String, filename::String)",
      "   @ Base .\\loading.jl:1094"
     ]
    }
   ],
   "source": [
    "@assert A_eigv ≈ [-128.49322764802145, -55.887784553056875, 42.7521672793189, 87.16111477514521, 542.4677301466143]"
   ]
  },
  {
   "cell_type": "markdown",
   "metadata": {},
   "source": [
    "#### 11.2 \n",
    "Create a `Diagonal` matrix from the eigenvalues of `A`."
   ]
  },
  {
   "cell_type": "code",
   "execution_count": null,
   "metadata": {},
   "outputs": [],
   "source": []
  },
  {
   "cell_type": "code",
   "execution_count": 39,
   "metadata": {
    "deletable": false,
    "editable": false,
    "hide_input": true,
    "nbgrader": {
     "checksum": "3ca676f6282c1a7c214ab2cb9f9b322d",
     "grade": true,
     "grade_id": "cell-3b000a3710c9c263",
     "locked": true,
     "points": 1,
     "schema_version": 1,
     "solution": false
    }
   },
   "outputs": [
    {
     "ename": "LoadError",
     "evalue": "UndefVarError: A_diag not defined",
     "output_type": "error",
     "traceback": [
      "UndefVarError: A_diag not defined",
      "",
      "Stacktrace:",
      " [1] top-level scope",
      "   @ In[39]:1",
      " [2] eval",
      "   @ .\\boot.jl:360 [inlined]",
      " [3] include_string(mapexpr::typeof(REPL.softscope), mod::Module, code::String, filename::String)",
      "   @ Base .\\loading.jl:1094"
     ]
    }
   ],
   "source": [
    "@assert isapprox(A_diag, [-128.493    0.0      0.0      0.0       0.0;\n",
    "    0.0    -55.8878   0.0      0.0       0.0;\n",
    "    0.0      0.0     42.7522   0.0       0.0;\n",
    "    0.0      0.0      0.0     87.1611    0.0;\n",
    "    0.0 0.0      0.0      0.0     542.468], atol = 0.001)"
   ]
  },
  {
   "cell_type": "markdown",
   "metadata": {},
   "source": [
    "#### 11.3 \n",
    "Create a `LowerTriangular` matrix from `A` and store it in `A_lowertri`"
   ]
  },
  {
   "cell_type": "code",
   "execution_count": null,
   "metadata": {},
   "outputs": [],
   "source": []
  },
  {
   "cell_type": "code",
   "execution_count": 40,
   "metadata": {
    "deletable": false,
    "editable": false,
    "hide_input": true,
    "nbgrader": {
     "checksum": "b3b1a272343a05082f378a5e1aa3426d",
     "grade": true,
     "grade_id": "cell-b76cee2b4a8777da",
     "locked": true,
     "points": 0,
     "schema_version": 1,
     "solution": false
    }
   },
   "outputs": [
    {
     "ename": "LoadError",
     "evalue": "UndefVarError: A_lowertri not defined",
     "output_type": "error",
     "traceback": [
      "UndefVarError: A_lowertri not defined",
      "",
      "Stacktrace:",
      " [1] top-level scope",
      "   @ In[40]:1",
      " [2] eval",
      "   @ .\\boot.jl:360 [inlined]",
      " [3] include_string(mapexpr::typeof(REPL.softscope), mod::Module, code::String, filename::String)",
      "   @ Base .\\loading.jl:1094"
     ]
    }
   ],
   "source": [
    "@assert A_lowertri ==  [140    0    0    0   0;\n",
    "  97  106    0    0   0;\n",
    "  74   89  152    0   0;\n",
    " 168  131  144   54   0;\n",
    " 131   36   71  142  36]"
   ]
  }
 ],
 "metadata": {
  "kernelspec": {
   "display_name": "Julia 1.6.1",
   "language": "julia",
   "name": "julia-1.6"
  },
  "language": "Julia",
  "language_info": {
   "file_extension": ".jl",
   "mimetype": "application/julia",
   "name": "julia",
   "version": "1.6.1"
  }
 },
 "nbformat": 4,
 "nbformat_minor": 1
}
