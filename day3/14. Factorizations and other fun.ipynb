{
 "cells": [
  {
   "cell_type": "markdown",
   "metadata": {},
   "source": [
    "# Factorizations and other fun\n",
    "Based on work by Andreas Noack Jensen (MIT) (http://www.econ.ku.dk/phdstudent/noack/)\n",
    "\n",
    "## Outline\n",
    " - Factorizations\n",
    " - Special matrix structures\n",
    " - Generic linear algebra"
   ]
  },
  {
   "cell_type": "markdown",
   "metadata": {},
   "source": [
    "Before we get started, let's set up a linear system and use `LinearAlgebra` to bring in the factorizations and special matrix structures."
   ]
  },
  {
   "cell_type": "code",
   "execution_count": 1,
   "metadata": {},
   "outputs": [
    {
     "data": {
      "text/plain": [
       "3-element Vector{Float64}:\n",
       " 1.6170120247910962\n",
       " 1.6644545921552723\n",
       " 0.5894827313316517"
      ]
     },
     "execution_count": 1,
     "metadata": {},
     "output_type": "execute_result"
    }
   ],
   "source": [
    "using LinearAlgebra\n",
    "A = rand(3, 3)\n",
    "x = fill(1, (3,))\n",
    "b = A * x"
   ]
  },
  {
   "cell_type": "markdown",
   "metadata": {},
   "source": [
    "## Factorizations\n",
    "\n",
    "#### LU factorizations\n",
    "In Julia we can perform an LU factorization\n",
    "```julia\n",
    "PA = LU\n",
    "``` \n",
    "where `P` is a permutation matrix, `L` is lower triangular unit diagonal and `U` is upper triangular, using `lufact`.\n",
    "\n",
    "Julia allows computing the LU factorization and defines a composite factorization type for storing it."
   ]
  },
  {
   "cell_type": "code",
   "execution_count": 2,
   "metadata": {},
   "outputs": [
    {
     "data": {
      "text/plain": [
       "LU{Float64, Matrix{Float64}}\n",
       "L factor:\n",
       "3×3 Matrix{Float64}:\n",
       " 1.0       0.0       0.0\n",
       " 0.124045  1.0       0.0\n",
       " 0.127652  0.281901  1.0\n",
       "U factor:\n",
       "3×3 Matrix{Float64}:\n",
       " 0.302203  0.42203    0.940222\n",
       " 0.0       0.694737   0.715808\n",
       " 0.0       0.0       -0.0206226"
      ]
     },
     "execution_count": 2,
     "metadata": {},
     "output_type": "execute_result"
    }
   ],
   "source": [
    "Alu = lu(A)"
   ]
  },
  {
   "cell_type": "code",
   "execution_count": 3,
   "metadata": {},
   "outputs": [
    {
     "name": "stdout",
     "output_type": "stream",
     "text": [
      "search: \u001b[0m\u001b[1ml\u001b[22m\u001b[0m\u001b[1mu\u001b[22m \u001b[0m\u001b[1ml\u001b[22m\u001b[0m\u001b[1mu\u001b[22m! \u001b[0m\u001b[1mL\u001b[22m\u001b[0m\u001b[1mU\u001b[22m A\u001b[0m\u001b[1ml\u001b[22m\u001b[0m\u001b[1mu\u001b[22m f\u001b[0m\u001b[1ml\u001b[22m\u001b[0m\u001b[1mu\u001b[22msh va\u001b[0m\u001b[1ml\u001b[22m\u001b[0m\u001b[1mu\u001b[22mes inc\u001b[0m\u001b[1ml\u001b[22m\u001b[0m\u001b[1mu\u001b[22mde inc\u001b[0m\u001b[1ml\u001b[22m\u001b[0m\u001b[1mu\u001b[22mde_string inc\u001b[0m\u001b[1ml\u001b[22m\u001b[0m\u001b[1mu\u001b[22mde_dependency\n",
      "\n"
     ]
    },
    {
     "data": {
      "text/latex": [
       "\\begin{verbatim}\n",
       "lu(A, pivot=Val(true); check = true) -> F::LU\n",
       "\\end{verbatim}\n",
       "Compute the LU factorization of \\texttt{A}.\n",
       "\n",
       "When \\texttt{check = true}, an error is thrown if the decomposition fails. When \\texttt{check = false}, responsibility for checking the decomposition's validity (via \\href{@ref}{\\texttt{issuccess}}) lies with the user.\n",
       "\n",
       "In most cases, if \\texttt{A} is a subtype \\texttt{S} of \\texttt{AbstractMatrix\\{T\\}} with an element type \\texttt{T} supporting \\texttt{+}, \\texttt{-}, \\texttt{*} and \\texttt{/}, the return type is \\texttt{LU\\{T,S\\{T\\}\\}}. If pivoting is chosen (default) the element type should also support \\href{@ref}{\\texttt{abs}} and \\href{@ref}{\\texttt{<}}.\n",
       "\n",
       "The individual components of the factorization \\texttt{F} can be accessed via \\href{@ref}{\\texttt{getproperty}}:\n",
       "\n",
       "\\begin{tabular}\n",
       "{l | l}\n",
       "Component & Description \\\\\n",
       "\\hline\n",
       "\\texttt{F.L} & \\texttt{L} (lower triangular) part of \\texttt{LU} \\\\\n",
       "\\texttt{F.U} & \\texttt{U} (upper triangular) part of \\texttt{LU} \\\\\n",
       "\\texttt{F.p} & (right) permutation \\texttt{Vector} \\\\\n",
       "\\texttt{F.P} & (right) permutation \\texttt{Matrix} \\\\\n",
       "\\end{tabular}\n",
       "Iterating the factorization produces the components \\texttt{F.L}, \\texttt{F.U}, and \\texttt{F.p}.\n",
       "\n",
       "The relationship between \\texttt{F} and \\texttt{A} is\n",
       "\n",
       "\\texttt{F.L*F.U == A[F.p, :]}\n",
       "\n",
       "\\texttt{F} further supports the following functions:\n",
       "\n",
       "\\begin{tabular}\n",
       "{l | l | l}\n",
       "Supported function & \\texttt{LU} & \\texttt{LU\\{T,Tridiagonal\\{T\\}\\}} \\\\\n",
       "\\hline\n",
       "\\href{@ref}{\\texttt{/}} & ✓ &  \\\\\n",
       "\\href{@ref}{\\texttt{{\\textbackslash}}} & ✓ & ✓ \\\\\n",
       "\\href{@ref}{\\texttt{inv}} & ✓ & ✓ \\\\\n",
       "\\href{@ref}{\\texttt{det}} & ✓ & ✓ \\\\\n",
       "\\href{@ref}{\\texttt{logdet}} & ✓ & ✓ \\\\\n",
       "\\href{@ref}{\\texttt{logabsdet}} & ✓ & ✓ \\\\\n",
       "\\href{@ref}{\\texttt{size}} & ✓ & ✓ \\\\\n",
       "\\end{tabular}\n",
       "\\section{Examples}\n",
       "\\begin{verbatim}\n",
       "julia> A = [4 3; 6 3]\n",
       "2×2 Matrix{Int64}:\n",
       " 4  3\n",
       " 6  3\n",
       "\n",
       "julia> F = lu(A)\n",
       "LU{Float64, Matrix{Float64}}\n",
       "L factor:\n",
       "2×2 Matrix{Float64}:\n",
       " 1.0       0.0\n",
       " 0.666667  1.0\n",
       "U factor:\n",
       "2×2 Matrix{Float64}:\n",
       " 6.0  3.0\n",
       " 0.0  1.0\n",
       "\n",
       "julia> F.L * F.U == A[F.p, :]\n",
       "true\n",
       "\n",
       "julia> l, u, p = lu(A); # destructuring via iteration\n",
       "\n",
       "julia> l == F.L && u == F.U && p == F.p\n",
       "true\n",
       "\\end{verbatim}\n",
       "\\rule{\\textwidth}{1pt}\n",
       "\\begin{verbatim}\n",
       "lu(A::SparseMatrixCSC; check = true) -> F::UmfpackLU\n",
       "\\end{verbatim}\n",
       "Compute the LU factorization of a sparse matrix \\texttt{A}.\n",
       "\n",
       "For sparse \\texttt{A} with real or complex element type, the return type of \\texttt{F} is \\texttt{UmfpackLU\\{Tv, Ti\\}}, with \\texttt{Tv} = \\href{@ref}{\\texttt{Float64}} or \\texttt{ComplexF64} respectively and \\texttt{Ti} is an integer type (\\href{@ref}{\\texttt{Int32}} or \\href{@ref}{\\texttt{Int64}}).\n",
       "\n",
       "When \\texttt{check = true}, an error is thrown if the decomposition fails. When \\texttt{check = false}, responsibility for checking the decomposition's validity (via \\href{@ref}{\\texttt{issuccess}}) lies with the user.\n",
       "\n",
       "The individual components of the factorization \\texttt{F} can be accessed by indexing:\n",
       "\n",
       "\\begin{tabular}\n",
       "{l | l}\n",
       "Component & Description \\\\\n",
       "\\hline\n",
       "\\texttt{L} & \\texttt{L} (lower triangular) part of \\texttt{LU} \\\\\n",
       "\\texttt{U} & \\texttt{U} (upper triangular) part of \\texttt{LU} \\\\\n",
       "\\texttt{p} & right permutation \\texttt{Vector} \\\\\n",
       "\\texttt{q} & left permutation \\texttt{Vector} \\\\\n",
       "\\texttt{Rs} & \\texttt{Vector} of scaling factors \\\\\n",
       "\\texttt{:} & \\texttt{(L,U,p,q,Rs)} components \\\\\n",
       "\\end{tabular}\n",
       "The relation between \\texttt{F} and \\texttt{A} is\n",
       "\n",
       "\\texttt{F.L*F.U == (F.Rs .* A)[F.p, F.q]}\n",
       "\n",
       "\\texttt{F} further supports the following functions:\n",
       "\n",
       "\\begin{itemize}\n",
       "\\item \\href{@ref}{\\texttt{{\\textbackslash}}}\n",
       "\n",
       "\n",
       "\\item \\href{@ref}{\\texttt{cond}}\n",
       "\n",
       "\n",
       "\\item \\href{@ref}{\\texttt{det}}\n",
       "\n",
       "\\end{itemize}\n",
       "\\begin{quote}\n",
       "\\textbf{note}\n",
       "\n",
       "Note\n",
       "\n",
       "\\texttt{lu(A::SparseMatrixCSC)} uses the UMFPACK library that is part of SuiteSparse. As this library only supports sparse matrices with \\href{@ref}{\\texttt{Float64}} or \\texttt{ComplexF64} elements, \\texttt{lu} converts \\texttt{A} into a copy that is of type \\texttt{SparseMatrixCSC\\{Float64\\}} or \\texttt{SparseMatrixCSC\\{ComplexF64\\}} as appropriate.\n",
       "\n",
       "\\end{quote}\n"
      ],
      "text/markdown": [
       "```\n",
       "lu(A, pivot=Val(true); check = true) -> F::LU\n",
       "```\n",
       "\n",
       "Compute the LU factorization of `A`.\n",
       "\n",
       "When `check = true`, an error is thrown if the decomposition fails. When `check = false`, responsibility for checking the decomposition's validity (via [`issuccess`](@ref)) lies with the user.\n",
       "\n",
       "In most cases, if `A` is a subtype `S` of `AbstractMatrix{T}` with an element type `T` supporting `+`, `-`, `*` and `/`, the return type is `LU{T,S{T}}`. If pivoting is chosen (default) the element type should also support [`abs`](@ref) and [`<`](@ref).\n",
       "\n",
       "The individual components of the factorization `F` can be accessed via [`getproperty`](@ref):\n",
       "\n",
       "| Component | Description                         |\n",
       "|:--------- |:----------------------------------- |\n",
       "| `F.L`     | `L` (lower triangular) part of `LU` |\n",
       "| `F.U`     | `U` (upper triangular) part of `LU` |\n",
       "| `F.p`     | (right) permutation `Vector`        |\n",
       "| `F.P`     | (right) permutation `Matrix`        |\n",
       "\n",
       "Iterating the factorization produces the components `F.L`, `F.U`, and `F.p`.\n",
       "\n",
       "The relationship between `F` and `A` is\n",
       "\n",
       "`F.L*F.U == A[F.p, :]`\n",
       "\n",
       "`F` further supports the following functions:\n",
       "\n",
       "| Supported function  | `LU` | `LU{T,Tridiagonal{T}}` |\n",
       "|:------------------- |:---- |:---------------------- |\n",
       "| [`/`](@ref)         | ✓    |                        |\n",
       "| [`\\`](@ref)         | ✓    | ✓                      |\n",
       "| [`inv`](@ref)       | ✓    | ✓                      |\n",
       "| [`det`](@ref)       | ✓    | ✓                      |\n",
       "| [`logdet`](@ref)    | ✓    | ✓                      |\n",
       "| [`logabsdet`](@ref) | ✓    | ✓                      |\n",
       "| [`size`](@ref)      | ✓    | ✓                      |\n",
       "\n",
       "# Examples\n",
       "\n",
       "```jldoctest\n",
       "julia> A = [4 3; 6 3]\n",
       "2×2 Matrix{Int64}:\n",
       " 4  3\n",
       " 6  3\n",
       "\n",
       "julia> F = lu(A)\n",
       "LU{Float64, Matrix{Float64}}\n",
       "L factor:\n",
       "2×2 Matrix{Float64}:\n",
       " 1.0       0.0\n",
       " 0.666667  1.0\n",
       "U factor:\n",
       "2×2 Matrix{Float64}:\n",
       " 6.0  3.0\n",
       " 0.0  1.0\n",
       "\n",
       "julia> F.L * F.U == A[F.p, :]\n",
       "true\n",
       "\n",
       "julia> l, u, p = lu(A); # destructuring via iteration\n",
       "\n",
       "julia> l == F.L && u == F.U && p == F.p\n",
       "true\n",
       "```\n",
       "\n",
       "---\n",
       "\n",
       "```\n",
       "lu(A::SparseMatrixCSC; check = true) -> F::UmfpackLU\n",
       "```\n",
       "\n",
       "Compute the LU factorization of a sparse matrix `A`.\n",
       "\n",
       "For sparse `A` with real or complex element type, the return type of `F` is `UmfpackLU{Tv, Ti}`, with `Tv` = [`Float64`](@ref) or `ComplexF64` respectively and `Ti` is an integer type ([`Int32`](@ref) or [`Int64`](@ref)).\n",
       "\n",
       "When `check = true`, an error is thrown if the decomposition fails. When `check = false`, responsibility for checking the decomposition's validity (via [`issuccess`](@ref)) lies with the user.\n",
       "\n",
       "The individual components of the factorization `F` can be accessed by indexing:\n",
       "\n",
       "| Component | Description                         |\n",
       "|:--------- |:----------------------------------- |\n",
       "| `L`       | `L` (lower triangular) part of `LU` |\n",
       "| `U`       | `U` (upper triangular) part of `LU` |\n",
       "| `p`       | right permutation `Vector`          |\n",
       "| `q`       | left permutation `Vector`           |\n",
       "| `Rs`      | `Vector` of scaling factors         |\n",
       "| `:`       | `(L,U,p,q,Rs)` components           |\n",
       "\n",
       "The relation between `F` and `A` is\n",
       "\n",
       "`F.L*F.U == (F.Rs .* A)[F.p, F.q]`\n",
       "\n",
       "`F` further supports the following functions:\n",
       "\n",
       "  * [`\\`](@ref)\n",
       "  * [`cond`](@ref)\n",
       "  * [`det`](@ref)\n",
       "\n",
       "!!! note\n",
       "    `lu(A::SparseMatrixCSC)` uses the UMFPACK library that is part of SuiteSparse. As this library only supports sparse matrices with [`Float64`](@ref) or `ComplexF64` elements, `lu` converts `A` into a copy that is of type `SparseMatrixCSC{Float64}` or `SparseMatrixCSC{ComplexF64}` as appropriate.\n",
       "\n"
      ],
      "text/plain": [
       "\u001b[36m  lu(A, pivot=Val(true); check = true) -> F::LU\u001b[39m\n",
       "\n",
       "  Compute the LU factorization of \u001b[36mA\u001b[39m.\n",
       "\n",
       "  When \u001b[36mcheck = true\u001b[39m, an error is thrown if the decomposition fails. When \u001b[36mcheck\n",
       "  = false\u001b[39m, responsibility for checking the decomposition's validity (via\n",
       "  \u001b[36missuccess\u001b[39m) lies with the user.\n",
       "\n",
       "  In most cases, if \u001b[36mA\u001b[39m is a subtype \u001b[36mS\u001b[39m of \u001b[36mAbstractMatrix{T}\u001b[39m with an element type\n",
       "  \u001b[36mT\u001b[39m supporting \u001b[36m+\u001b[39m, \u001b[36m-\u001b[39m, \u001b[36m*\u001b[39m and \u001b[36m/\u001b[39m, the return type is \u001b[36mLU{T,S{T}}\u001b[39m. If pivoting is\n",
       "  chosen (default) the element type should also support \u001b[36mabs\u001b[39m and \u001b[36m<\u001b[39m.\n",
       "\n",
       "  The individual components of the factorization \u001b[36mF\u001b[39m can be accessed via\n",
       "  \u001b[36mgetproperty\u001b[39m:\n",
       "\n",
       "  Component Description                    \n",
       "  ––––––––– –––––––––––––––––––––––––––––––\n",
       "  \u001b[36mF.L\u001b[39m       \u001b[36mL\u001b[39m (lower triangular) part of \u001b[36mLU\u001b[39m\n",
       "  \u001b[36mF.U\u001b[39m       \u001b[36mU\u001b[39m (upper triangular) part of \u001b[36mLU\u001b[39m\n",
       "  \u001b[36mF.p\u001b[39m       (right) permutation \u001b[36mVector\u001b[39m     \n",
       "  \u001b[36mF.P\u001b[39m       (right) permutation \u001b[36mMatrix\u001b[39m     \n",
       "\n",
       "  Iterating the factorization produces the components \u001b[36mF.L\u001b[39m, \u001b[36mF.U\u001b[39m, and \u001b[36mF.p\u001b[39m.\n",
       "\n",
       "  The relationship between \u001b[36mF\u001b[39m and \u001b[36mA\u001b[39m is\n",
       "\n",
       "  \u001b[36mF.L*F.U == A[F.p, :]\u001b[39m\n",
       "\n",
       "  \u001b[36mF\u001b[39m further supports the following functions:\n",
       "\n",
       "  Supported function \u001b[36mLU\u001b[39m \u001b[36mLU{T,Tridiagonal{T}}\u001b[39m\n",
       "  –––––––––––––––––– –– ––––––––––––––––––––\n",
       "  \u001b[36m/\u001b[39m                  ✓                      \n",
       "  \u001b[36m\\\u001b[39m                  ✓  ✓                   \n",
       "  \u001b[36minv\u001b[39m                ✓  ✓                   \n",
       "  \u001b[36mdet\u001b[39m                ✓  ✓                   \n",
       "  \u001b[36mlogdet\u001b[39m             ✓  ✓                   \n",
       "  \u001b[36mlogabsdet\u001b[39m          ✓  ✓                   \n",
       "  \u001b[36msize\u001b[39m               ✓  ✓                   \n",
       "\n",
       "\u001b[1m  Examples\u001b[22m\n",
       "\u001b[1m  ≡≡≡≡≡≡≡≡≡≡\u001b[22m\n",
       "\n",
       "\u001b[36m  julia> A = [4 3; 6 3]\u001b[39m\n",
       "\u001b[36m  2×2 Matrix{Int64}:\u001b[39m\n",
       "\u001b[36m   4  3\u001b[39m\n",
       "\u001b[36m   6  3\u001b[39m\n",
       "\u001b[36m  \u001b[39m\n",
       "\u001b[36m  julia> F = lu(A)\u001b[39m\n",
       "\u001b[36m  LU{Float64, Matrix{Float64}}\u001b[39m\n",
       "\u001b[36m  L factor:\u001b[39m\n",
       "\u001b[36m  2×2 Matrix{Float64}:\u001b[39m\n",
       "\u001b[36m   1.0       0.0\u001b[39m\n",
       "\u001b[36m   0.666667  1.0\u001b[39m\n",
       "\u001b[36m  U factor:\u001b[39m\n",
       "\u001b[36m  2×2 Matrix{Float64}:\u001b[39m\n",
       "\u001b[36m   6.0  3.0\u001b[39m\n",
       "\u001b[36m   0.0  1.0\u001b[39m\n",
       "\u001b[36m  \u001b[39m\n",
       "\u001b[36m  julia> F.L * F.U == A[F.p, :]\u001b[39m\n",
       "\u001b[36m  true\u001b[39m\n",
       "\u001b[36m  \u001b[39m\n",
       "\u001b[36m  julia> l, u, p = lu(A); # destructuring via iteration\u001b[39m\n",
       "\u001b[36m  \u001b[39m\n",
       "\u001b[36m  julia> l == F.L && u == F.U && p == F.p\u001b[39m\n",
       "\u001b[36m  true\u001b[39m\n",
       "\n",
       "  ────────────────────────────────────────────────────────────────────────────\n",
       "\n",
       "\u001b[36m  lu(A::SparseMatrixCSC; check = true) -> F::UmfpackLU\u001b[39m\n",
       "\n",
       "  Compute the LU factorization of a sparse matrix \u001b[36mA\u001b[39m.\n",
       "\n",
       "  For sparse \u001b[36mA\u001b[39m with real or complex element type, the return type of \u001b[36mF\u001b[39m is\n",
       "  \u001b[36mUmfpackLU{Tv, Ti}\u001b[39m, with \u001b[36mTv\u001b[39m = \u001b[36mFloat64\u001b[39m or \u001b[36mComplexF64\u001b[39m respectively and \u001b[36mTi\u001b[39m is an\n",
       "  integer type (\u001b[36mInt32\u001b[39m or \u001b[36mInt64\u001b[39m).\n",
       "\n",
       "  When \u001b[36mcheck = true\u001b[39m, an error is thrown if the decomposition fails. When \u001b[36mcheck\n",
       "  = false\u001b[39m, responsibility for checking the decomposition's validity (via\n",
       "  \u001b[36missuccess\u001b[39m) lies with the user.\n",
       "\n",
       "  The individual components of the factorization \u001b[36mF\u001b[39m can be accessed by\n",
       "  indexing:\n",
       "\n",
       "  Component Description                    \n",
       "  ––––––––– –––––––––––––––––––––––––––––––\n",
       "  \u001b[36mL\u001b[39m         \u001b[36mL\u001b[39m (lower triangular) part of \u001b[36mLU\u001b[39m\n",
       "  \u001b[36mU\u001b[39m         \u001b[36mU\u001b[39m (upper triangular) part of \u001b[36mLU\u001b[39m\n",
       "  \u001b[36mp\u001b[39m         right permutation \u001b[36mVector\u001b[39m       \n",
       "  \u001b[36mq\u001b[39m         left permutation \u001b[36mVector\u001b[39m        \n",
       "  \u001b[36mRs\u001b[39m        \u001b[36mVector\u001b[39m of scaling factors      \n",
       "  \u001b[36m:\u001b[39m         \u001b[36m(L,U,p,q,Rs)\u001b[39m components        \n",
       "\n",
       "  The relation between \u001b[36mF\u001b[39m and \u001b[36mA\u001b[39m is\n",
       "\n",
       "  \u001b[36mF.L*F.U == (F.Rs .* A)[F.p, F.q]\u001b[39m\n",
       "\n",
       "  \u001b[36mF\u001b[39m further supports the following functions:\n",
       "\n",
       "    •  \u001b[36m\\\u001b[39m\n",
       "\n",
       "    •  \u001b[36mcond\u001b[39m\n",
       "\n",
       "    •  \u001b[36mdet\u001b[39m\n",
       "\n",
       "\u001b[36m\u001b[1m  │ \u001b[22m\u001b[39m\u001b[36m\u001b[1mNote\u001b[22m\u001b[39m\n",
       "\u001b[36m\u001b[1m  │\u001b[22m\u001b[39m\n",
       "\u001b[36m\u001b[1m  │\u001b[22m\u001b[39m  \u001b[36mlu(A::SparseMatrixCSC)\u001b[39m uses the UMFPACK library that is part of\n",
       "\u001b[36m\u001b[1m  │\u001b[22m\u001b[39m  SuiteSparse. As this library only supports sparse matrices with\n",
       "\u001b[36m\u001b[1m  │\u001b[22m\u001b[39m  \u001b[36mFloat64\u001b[39m or \u001b[36mComplexF64\u001b[39m elements, \u001b[36mlu\u001b[39m converts \u001b[36mA\u001b[39m into a copy that is\n",
       "\u001b[36m\u001b[1m  │\u001b[22m\u001b[39m  of type \u001b[36mSparseMatrixCSC{Float64}\u001b[39m or \u001b[36mSparseMatrixCSC{ComplexF64}\u001b[39m as\n",
       "\u001b[36m\u001b[1m  │\u001b[22m\u001b[39m  appropriate."
      ]
     },
     "execution_count": 3,
     "metadata": {},
     "output_type": "execute_result"
    }
   ],
   "source": [
    "?lu"
   ]
  },
  {
   "cell_type": "code",
   "execution_count": 4,
   "metadata": {},
   "outputs": [
    {
     "data": {
      "text/plain": [
       "LU{Float64, Matrix{Float64}}"
      ]
     },
     "execution_count": 4,
     "metadata": {},
     "output_type": "execute_result"
    }
   ],
   "source": [
    "typeof(Alu)"
   ]
  },
  {
   "cell_type": "markdown",
   "metadata": {},
   "source": [
    "The different parts of the factorization can be extracted by accessing their special properties"
   ]
  },
  {
   "cell_type": "code",
   "execution_count": 5,
   "metadata": {},
   "outputs": [
    {
     "data": {
      "text/plain": [
       "3×3 Matrix{Float64}:\n",
       " 0.0  1.0  0.0\n",
       " 1.0  0.0  0.0\n",
       " 0.0  0.0  1.0"
      ]
     },
     "execution_count": 5,
     "metadata": {},
     "output_type": "execute_result"
    }
   ],
   "source": [
    "Alu.P"
   ]
  },
  {
   "cell_type": "code",
   "execution_count": 6,
   "metadata": {},
   "outputs": [
    {
     "data": {
      "text/plain": [
       "3×3 Matrix{Float64}:\n",
       " 1.0       0.0       0.0\n",
       " 0.124045  1.0       0.0\n",
       " 0.127652  0.281901  1.0"
      ]
     },
     "execution_count": 6,
     "metadata": {},
     "output_type": "execute_result"
    }
   ],
   "source": [
    "Alu.L"
   ]
  },
  {
   "cell_type": "code",
   "execution_count": 7,
   "metadata": {},
   "outputs": [
    {
     "data": {
      "text/plain": [
       "3×3 Matrix{Float64}:\n",
       " 0.302203  0.42203    0.940222\n",
       " 0.0       0.694737   0.715808\n",
       " 0.0       0.0       -0.0206226"
      ]
     },
     "execution_count": 7,
     "metadata": {},
     "output_type": "execute_result"
    }
   ],
   "source": [
    "Alu.U"
   ]
  },
  {
   "cell_type": "markdown",
   "metadata": {},
   "source": [
    "Julia can dispatch methods on factorization objects.\n",
    "\n",
    "For example, we can solve the linear system using either the original matrix or the factorization object."
   ]
  },
  {
   "cell_type": "code",
   "execution_count": 8,
   "metadata": {},
   "outputs": [
    {
     "data": {
      "text/plain": [
       "3-element Vector{Float64}:\n",
       " 1.0\n",
       " 1.0\n",
       " 1.0"
      ]
     },
     "execution_count": 8,
     "metadata": {},
     "output_type": "execute_result"
    }
   ],
   "source": [
    "A\\b"
   ]
  },
  {
   "cell_type": "code",
   "execution_count": 9,
   "metadata": {},
   "outputs": [
    {
     "data": {
      "text/plain": [
       "3-element Vector{Float64}:\n",
       " 1.0\n",
       " 1.0\n",
       " 1.0"
      ]
     },
     "execution_count": 9,
     "metadata": {},
     "output_type": "execute_result"
    }
   ],
   "source": [
    "Alu\\b"
   ]
  },
  {
   "cell_type": "markdown",
   "metadata": {},
   "source": [
    "Similarly, we can calculate the determinant of `A` using either `A` or the factorization object"
   ]
  },
  {
   "cell_type": "code",
   "execution_count": 10,
   "metadata": {},
   "outputs": [
    {
     "data": {
      "text/plain": [
       "true"
      ]
     },
     "execution_count": 10,
     "metadata": {},
     "output_type": "execute_result"
    }
   ],
   "source": [
    "det(A) ≈ det(Alu)"
   ]
  },
  {
   "cell_type": "markdown",
   "metadata": {},
   "source": [
    "#### QR factorizations\n",
    "\n",
    "In Julia we can perform a QR factorization\n",
    "```\n",
    "A=QR\n",
    "``` \n",
    "\n",
    "where `Q` is unitary/orthogonal and `R` is upper triangular, using `qrfact`. "
   ]
  },
  {
   "cell_type": "code",
   "execution_count": 11,
   "metadata": {},
   "outputs": [
    {
     "data": {
      "text/plain": [
       "LinearAlgebra.QRCompactWY{Float64, Matrix{Float64}}\n",
       "Q factor:\n",
       "3×3 LinearAlgebra.QRCompactWYQ{Float64, Matrix{Float64}}:\n",
       " -0.122125   0.955012  -0.270253\n",
       " -0.984526  -0.151044  -0.0888543\n",
       " -0.125677   0.25522    0.95868\n",
       "R factor:\n",
       "3×3 Matrix{Float64}:\n",
       " -0.306952  -0.538122  -1.06519\n",
       "  0.0        0.713466   0.729843\n",
       "  0.0        0.0       -0.0197705"
      ]
     },
     "execution_count": 11,
     "metadata": {},
     "output_type": "execute_result"
    }
   ],
   "source": [
    "Aqr = qr(A)"
   ]
  },
  {
   "cell_type": "code",
   "execution_count": 12,
   "metadata": {},
   "outputs": [
    {
     "name": "stdout",
     "output_type": "stream",
     "text": [
      "search: \u001b[0m\u001b[1mq\u001b[22m\u001b[0m\u001b[1mr\u001b[22m \u001b[0m\u001b[1mq\u001b[22m\u001b[0m\u001b[1mr\u001b[22m! \u001b[0m\u001b[1mQ\u001b[22m\u001b[0m\u001b[1mR\u001b[22m \u001b[0m\u001b[1mQ\u001b[22m\u001b[0m\u001b[1mR\u001b[22mPivoted A\u001b[0m\u001b[1mq\u001b[22m\u001b[0m\u001b[1mr\u001b[22m s\u001b[0m\u001b[1mq\u001b[22m\u001b[0m\u001b[1mr\u001b[22mt is\u001b[0m\u001b[1mq\u001b[22m\u001b[0m\u001b[1mr\u001b[22mt \u001b[0m\u001b[1mQ\u001b[22muickSo\u001b[0m\u001b[1mr\u001b[22mt Partial\u001b[0m\u001b[1mQ\u001b[22muickSo\u001b[0m\u001b[1mr\u001b[22mt\n",
      "\n"
     ]
    },
    {
     "data": {
      "text/latex": [
       "\\begin{verbatim}\n",
       "qr(A, pivot=Val(false); blocksize) -> F\n",
       "\\end{verbatim}\n",
       "Compute the QR factorization of the matrix \\texttt{A}: an orthogonal (or unitary if \\texttt{A} is complex-valued) matrix \\texttt{Q}, and an upper triangular matrix \\texttt{R} such that\n",
       "\n",
       "$$A = Q R$$\n",
       "The returned object \\texttt{F} stores the factorization in a packed format:\n",
       "\n",
       "\\begin{itemize}\n",
       "\\item if \\texttt{pivot == Val(true)} then \\texttt{F} is a \\href{@ref}{\\texttt{QRPivoted}} object,\n",
       "\n",
       "\n",
       "\\item otherwise if the element type of \\texttt{A} is a BLAS type (\\href{@ref}{\\texttt{Float32}}, \\href{@ref}{\\texttt{Float64}}, \\texttt{ComplexF32} or \\texttt{ComplexF64}), then \\texttt{F} is a \\href{@ref}{\\texttt{QRCompactWY}} object,\n",
       "\n",
       "\n",
       "\\item otherwise \\texttt{F} is a \\href{@ref}{\\texttt{QR}} object.\n",
       "\n",
       "\\end{itemize}\n",
       "The individual components of the decomposition \\texttt{F} can be retrieved via property accessors:\n",
       "\n",
       "\\begin{itemize}\n",
       "\\item \\texttt{F.Q}: the orthogonal/unitary matrix \\texttt{Q}\n",
       "\n",
       "\n",
       "\\item \\texttt{F.R}: the upper triangular matrix \\texttt{R}\n",
       "\n",
       "\n",
       "\\item \\texttt{F.p}: the permutation vector of the pivot (\\href{@ref}{\\texttt{QRPivoted}} only)\n",
       "\n",
       "\n",
       "\\item \\texttt{F.P}: the permutation matrix of the pivot (\\href{@ref}{\\texttt{QRPivoted}} only)\n",
       "\n",
       "\\end{itemize}\n",
       "Iterating the decomposition produces the components \\texttt{Q}, \\texttt{R}, and if extant \\texttt{p}.\n",
       "\n",
       "The following functions are available for the \\texttt{QR} objects: \\href{@ref}{\\texttt{inv}}, \\href{@ref}{\\texttt{size}}, and \\href{@ref}{\\texttt{{\\textbackslash}}}. When \\texttt{A} is rectangular, \\texttt{{\\textbackslash}} will return a least squares solution and if the solution is not unique, the one with smallest norm is returned. When \\texttt{A} is not full rank, factorization with (column) pivoting is required to obtain a minimum norm solution.\n",
       "\n",
       "Multiplication with respect to either full/square or non-full/square \\texttt{Q} is allowed, i.e. both \\texttt{F.Q*F.R} and \\texttt{F.Q*A} are supported. A \\texttt{Q} matrix can be converted into a regular matrix with \\href{@ref}{\\texttt{Matrix}}.  This operation returns the \"thin\" Q factor, i.e., if \\texttt{A} is \\texttt{m}×\\texttt{n} with \\texttt{m>=n}, then \\texttt{Matrix(F.Q)} yields an \\texttt{m}×\\texttt{n} matrix with orthonormal columns.  To retrieve the \"full\" Q factor, an \\texttt{m}×\\texttt{m} orthogonal matrix, use \\texttt{F.Q*Matrix(I,m,m)}.  If \\texttt{m<=n}, then \\texttt{Matrix(F.Q)} yields an \\texttt{m}×\\texttt{m} orthogonal matrix.\n",
       "\n",
       "The block size for QR decomposition can be specified by keyword argument \\texttt{blocksize :: Integer} when \\texttt{pivot == Val(false)} and \\texttt{A isa StridedMatrix\\{<:BlasFloat\\}}. It is ignored when \\texttt{blocksize > minimum(size(A))}.  See \\href{@ref}{\\texttt{QRCompactWY}}.\n",
       "\n",
       "\\begin{quote}\n",
       "\\textbf{compat}\n",
       "\n",
       "Julia 1.4\n",
       "\n",
       "The \\texttt{blocksize} keyword argument requires Julia 1.4 or later.\n",
       "\n",
       "\\end{quote}\n",
       "\\section{Examples}\n",
       "\\begin{verbatim}\n",
       "julia> A = [3.0 -6.0; 4.0 -8.0; 0.0 1.0]\n",
       "3×2 Matrix{Float64}:\n",
       " 3.0  -6.0\n",
       " 4.0  -8.0\n",
       " 0.0   1.0\n",
       "\n",
       "julia> F = qr(A)\n",
       "LinearAlgebra.QRCompactWY{Float64, Matrix{Float64}}\n",
       "Q factor:\n",
       "3×3 LinearAlgebra.QRCompactWYQ{Float64, Matrix{Float64}}:\n",
       " -0.6   0.0   0.8\n",
       " -0.8   0.0  -0.6\n",
       "  0.0  -1.0   0.0\n",
       "R factor:\n",
       "2×2 Matrix{Float64}:\n",
       " -5.0  10.0\n",
       "  0.0  -1.0\n",
       "\n",
       "julia> F.Q * F.R == A\n",
       "true\n",
       "\\end{verbatim}\n",
       "\\begin{quote}\n",
       "\\textbf{note}\n",
       "\n",
       "Note\n",
       "\n",
       "\\texttt{qr} returns multiple types because LAPACK uses several representations that minimize the memory storage requirements of products of Householder elementary reflectors, so that the \\texttt{Q} and \\texttt{R} matrices can be stored compactly rather as two separate dense matrices.\n",
       "\n",
       "\\end{quote}\n",
       "\\rule{\\textwidth}{1pt}\n",
       "\\begin{verbatim}\n",
       "qr(A::SparseMatrixCSC; tol=_default_tol(A), ordering=ORDERING_DEFAULT) -> QRSparse\n",
       "\\end{verbatim}\n",
       "Compute the \\texttt{QR} factorization of a sparse matrix \\texttt{A}. Fill-reducing row and column permutations are used such that \\texttt{F.R = F.Q'*A[F.prow,F.pcol]}. The main application of this type is to solve least squares or underdetermined problems with \\href{@ref}{\\texttt{{\\textbackslash}}}. The function calls the C library SPQR.\n",
       "\n",
       "\\begin{quote}\n",
       "\\textbf{note}\n",
       "\n",
       "Note\n",
       "\n",
       "\\texttt{qr(A::SparseMatrixCSC)} uses the SPQR library that is part of SuiteSparse. As this library only supports sparse matrices with \\href{@ref}{\\texttt{Float64}} or \\texttt{ComplexF64} elements, as of Julia v1.4 \\texttt{qr} converts \\texttt{A} into a copy that is of type \\texttt{SparseMatrixCSC\\{Float64\\}} or \\texttt{SparseMatrixCSC\\{ComplexF64\\}} as appropriate.\n",
       "\n",
       "\\end{quote}\n",
       "\\section{Examples}\n",
       "\\begin{verbatim}\n",
       "julia> A = sparse([1,2,3,4], [1,1,2,2], [1.0,1.0,1.0,1.0])\n",
       "4×2 SparseMatrixCSC{Float64, Int64} with 4 stored entries:\n",
       " 1.0   ⋅\n",
       " 1.0   ⋅\n",
       "  ⋅   1.0\n",
       "  ⋅   1.0\n",
       "\n",
       "julia> qr(A)\n",
       "SuiteSparse.SPQR.QRSparse{Float64, Int64}\n",
       "Q factor:\n",
       "4×4 SuiteSparse.SPQR.QRSparseQ{Float64, Int64}:\n",
       " -0.707107   0.0        0.0       -0.707107\n",
       "  0.0       -0.707107  -0.707107   0.0\n",
       "  0.0       -0.707107   0.707107   0.0\n",
       " -0.707107   0.0        0.0        0.707107\n",
       "R factor:\n",
       "2×2 SparseMatrixCSC{Float64, Int64} with 2 stored entries:\n",
       " -1.41421    ⋅\n",
       "   ⋅       -1.41421\n",
       "Row permutation:\n",
       "4-element Vector{Int64}:\n",
       " 1\n",
       " 3\n",
       " 4\n",
       " 2\n",
       "Column permutation:\n",
       "2-element Vector{Int64}:\n",
       " 1\n",
       " 2\n",
       "\\end{verbatim}\n"
      ],
      "text/markdown": [
       "```\n",
       "qr(A, pivot=Val(false); blocksize) -> F\n",
       "```\n",
       "\n",
       "Compute the QR factorization of the matrix `A`: an orthogonal (or unitary if `A` is complex-valued) matrix `Q`, and an upper triangular matrix `R` such that\n",
       "\n",
       "$$\n",
       "A = Q R\n",
       "$$\n",
       "\n",
       "The returned object `F` stores the factorization in a packed format:\n",
       "\n",
       "  * if `pivot == Val(true)` then `F` is a [`QRPivoted`](@ref) object,\n",
       "  * otherwise if the element type of `A` is a BLAS type ([`Float32`](@ref), [`Float64`](@ref), `ComplexF32` or `ComplexF64`), then `F` is a [`QRCompactWY`](@ref) object,\n",
       "  * otherwise `F` is a [`QR`](@ref) object.\n",
       "\n",
       "The individual components of the decomposition `F` can be retrieved via property accessors:\n",
       "\n",
       "  * `F.Q`: the orthogonal/unitary matrix `Q`\n",
       "  * `F.R`: the upper triangular matrix `R`\n",
       "  * `F.p`: the permutation vector of the pivot ([`QRPivoted`](@ref) only)\n",
       "  * `F.P`: the permutation matrix of the pivot ([`QRPivoted`](@ref) only)\n",
       "\n",
       "Iterating the decomposition produces the components `Q`, `R`, and if extant `p`.\n",
       "\n",
       "The following functions are available for the `QR` objects: [`inv`](@ref), [`size`](@ref), and [`\\`](@ref). When `A` is rectangular, `\\` will return a least squares solution and if the solution is not unique, the one with smallest norm is returned. When `A` is not full rank, factorization with (column) pivoting is required to obtain a minimum norm solution.\n",
       "\n",
       "Multiplication with respect to either full/square or non-full/square `Q` is allowed, i.e. both `F.Q*F.R` and `F.Q*A` are supported. A `Q` matrix can be converted into a regular matrix with [`Matrix`](@ref).  This operation returns the \"thin\" Q factor, i.e., if `A` is `m`×`n` with `m>=n`, then `Matrix(F.Q)` yields an `m`×`n` matrix with orthonormal columns.  To retrieve the \"full\" Q factor, an `m`×`m` orthogonal matrix, use `F.Q*Matrix(I,m,m)`.  If `m<=n`, then `Matrix(F.Q)` yields an `m`×`m` orthogonal matrix.\n",
       "\n",
       "The block size for QR decomposition can be specified by keyword argument `blocksize :: Integer` when `pivot == Val(false)` and `A isa StridedMatrix{<:BlasFloat}`. It is ignored when `blocksize > minimum(size(A))`.  See [`QRCompactWY`](@ref).\n",
       "\n",
       "!!! compat \"Julia 1.4\"\n",
       "    The `blocksize` keyword argument requires Julia 1.4 or later.\n",
       "\n",
       "\n",
       "# Examples\n",
       "\n",
       "```jldoctest\n",
       "julia> A = [3.0 -6.0; 4.0 -8.0; 0.0 1.0]\n",
       "3×2 Matrix{Float64}:\n",
       " 3.0  -6.0\n",
       " 4.0  -8.0\n",
       " 0.0   1.0\n",
       "\n",
       "julia> F = qr(A)\n",
       "LinearAlgebra.QRCompactWY{Float64, Matrix{Float64}}\n",
       "Q factor:\n",
       "3×3 LinearAlgebra.QRCompactWYQ{Float64, Matrix{Float64}}:\n",
       " -0.6   0.0   0.8\n",
       " -0.8   0.0  -0.6\n",
       "  0.0  -1.0   0.0\n",
       "R factor:\n",
       "2×2 Matrix{Float64}:\n",
       " -5.0  10.0\n",
       "  0.0  -1.0\n",
       "\n",
       "julia> F.Q * F.R == A\n",
       "true\n",
       "```\n",
       "\n",
       "!!! note\n",
       "    `qr` returns multiple types because LAPACK uses several representations that minimize the memory storage requirements of products of Householder elementary reflectors, so that the `Q` and `R` matrices can be stored compactly rather as two separate dense matrices.\n",
       "\n",
       "\n",
       "---\n",
       "\n",
       "```\n",
       "qr(A::SparseMatrixCSC; tol=_default_tol(A), ordering=ORDERING_DEFAULT) -> QRSparse\n",
       "```\n",
       "\n",
       "Compute the `QR` factorization of a sparse matrix `A`. Fill-reducing row and column permutations are used such that `F.R = F.Q'*A[F.prow,F.pcol]`. The main application of this type is to solve least squares or underdetermined problems with [`\\`](@ref). The function calls the C library SPQR.\n",
       "\n",
       "!!! note\n",
       "    `qr(A::SparseMatrixCSC)` uses the SPQR library that is part of SuiteSparse. As this library only supports sparse matrices with [`Float64`](@ref) or `ComplexF64` elements, as of Julia v1.4 `qr` converts `A` into a copy that is of type `SparseMatrixCSC{Float64}` or `SparseMatrixCSC{ComplexF64}` as appropriate.\n",
       "\n",
       "\n",
       "# Examples\n",
       "\n",
       "```jldoctest\n",
       "julia> A = sparse([1,2,3,4], [1,1,2,2], [1.0,1.0,1.0,1.0])\n",
       "4×2 SparseMatrixCSC{Float64, Int64} with 4 stored entries:\n",
       " 1.0   ⋅\n",
       " 1.0   ⋅\n",
       "  ⋅   1.0\n",
       "  ⋅   1.0\n",
       "\n",
       "julia> qr(A)\n",
       "SuiteSparse.SPQR.QRSparse{Float64, Int64}\n",
       "Q factor:\n",
       "4×4 SuiteSparse.SPQR.QRSparseQ{Float64, Int64}:\n",
       " -0.707107   0.0        0.0       -0.707107\n",
       "  0.0       -0.707107  -0.707107   0.0\n",
       "  0.0       -0.707107   0.707107   0.0\n",
       " -0.707107   0.0        0.0        0.707107\n",
       "R factor:\n",
       "2×2 SparseMatrixCSC{Float64, Int64} with 2 stored entries:\n",
       " -1.41421    ⋅\n",
       "   ⋅       -1.41421\n",
       "Row permutation:\n",
       "4-element Vector{Int64}:\n",
       " 1\n",
       " 3\n",
       " 4\n",
       " 2\n",
       "Column permutation:\n",
       "2-element Vector{Int64}:\n",
       " 1\n",
       " 2\n",
       "```\n"
      ],
      "text/plain": [
       "\u001b[36m  qr(A, pivot=Val(false); blocksize) -> F\u001b[39m\n",
       "\n",
       "  Compute the QR factorization of the matrix \u001b[36mA\u001b[39m: an orthogonal (or unitary if \u001b[36mA\u001b[39m\n",
       "  is complex-valued) matrix \u001b[36mQ\u001b[39m, and an upper triangular matrix \u001b[36mR\u001b[39m such that\n",
       "\n",
       "\u001b[35m  A = Q R\u001b[39m\n",
       "\n",
       "  The returned object \u001b[36mF\u001b[39m stores the factorization in a packed format:\n",
       "\n",
       "    •  if \u001b[36mpivot == Val(true)\u001b[39m then \u001b[36mF\u001b[39m is a \u001b[36mQRPivoted\u001b[39m object,\n",
       "\n",
       "    •  otherwise if the element type of \u001b[36mA\u001b[39m is a BLAS type (\u001b[36mFloat32\u001b[39m,\n",
       "       \u001b[36mFloat64\u001b[39m, \u001b[36mComplexF32\u001b[39m or \u001b[36mComplexF64\u001b[39m), then \u001b[36mF\u001b[39m is a \u001b[36mQRCompactWY\u001b[39m\n",
       "       object,\n",
       "\n",
       "    •  otherwise \u001b[36mF\u001b[39m is a \u001b[36mQR\u001b[39m object.\n",
       "\n",
       "  The individual components of the decomposition \u001b[36mF\u001b[39m can be retrieved via\n",
       "  property accessors:\n",
       "\n",
       "    •  \u001b[36mF.Q\u001b[39m: the orthogonal/unitary matrix \u001b[36mQ\u001b[39m\n",
       "\n",
       "    •  \u001b[36mF.R\u001b[39m: the upper triangular matrix \u001b[36mR\u001b[39m\n",
       "\n",
       "    •  \u001b[36mF.p\u001b[39m: the permutation vector of the pivot (\u001b[36mQRPivoted\u001b[39m only)\n",
       "\n",
       "    •  \u001b[36mF.P\u001b[39m: the permutation matrix of the pivot (\u001b[36mQRPivoted\u001b[39m only)\n",
       "\n",
       "  Iterating the decomposition produces the components \u001b[36mQ\u001b[39m, \u001b[36mR\u001b[39m, and if extant \u001b[36mp\u001b[39m.\n",
       "\n",
       "  The following functions are available for the \u001b[36mQR\u001b[39m objects: \u001b[36minv\u001b[39m, \u001b[36msize\u001b[39m, and \u001b[36m\\\u001b[39m.\n",
       "  When \u001b[36mA\u001b[39m is rectangular, \u001b[36m\\\u001b[39m will return a least squares solution and if the\n",
       "  solution is not unique, the one with smallest norm is returned. When \u001b[36mA\u001b[39m is\n",
       "  not full rank, factorization with (column) pivoting is required to obtain a\n",
       "  minimum norm solution.\n",
       "\n",
       "  Multiplication with respect to either full/square or non-full/square \u001b[36mQ\u001b[39m is\n",
       "  allowed, i.e. both \u001b[36mF.Q*F.R\u001b[39m and \u001b[36mF.Q*A\u001b[39m are supported. A \u001b[36mQ\u001b[39m matrix can be\n",
       "  converted into a regular matrix with \u001b[36mMatrix\u001b[39m. This operation returns the\n",
       "  \"thin\" Q factor, i.e., if \u001b[36mA\u001b[39m is \u001b[36mm\u001b[39m×\u001b[36mn\u001b[39m with \u001b[36mm>=n\u001b[39m, then \u001b[36mMatrix(F.Q)\u001b[39m yields an \u001b[36mm\u001b[39m×\u001b[36mn\u001b[39m\n",
       "  matrix with orthonormal columns. To retrieve the \"full\" Q factor, an \u001b[36mm\u001b[39m×\u001b[36mm\u001b[39m\n",
       "  orthogonal matrix, use \u001b[36mF.Q*Matrix(I,m,m)\u001b[39m. If \u001b[36mm<=n\u001b[39m, then \u001b[36mMatrix(F.Q)\u001b[39m yields\n",
       "  an \u001b[36mm\u001b[39m×\u001b[36mm\u001b[39m orthogonal matrix.\n",
       "\n",
       "  The block size for QR decomposition can be specified by keyword argument\n",
       "  \u001b[36mblocksize :: Integer\u001b[39m when \u001b[36mpivot == Val(false)\u001b[39m and \u001b[36mA isa\n",
       "  StridedMatrix{<:BlasFloat}\u001b[39m. It is ignored when \u001b[36mblocksize > minimum(size(A))\u001b[39m.\n",
       "  See \u001b[36mQRCompactWY\u001b[39m.\n",
       "\n",
       "\u001b[39m\u001b[1m  │ \u001b[22m\u001b[39m\u001b[1mJulia 1.4\u001b[22m\n",
       "\u001b[39m\u001b[1m  │\u001b[22m\n",
       "\u001b[39m\u001b[1m  │\u001b[22m  The \u001b[36mblocksize\u001b[39m keyword argument requires Julia 1.4 or later.\n",
       "\n",
       "\u001b[1m  Examples\u001b[22m\n",
       "\u001b[1m  ≡≡≡≡≡≡≡≡≡≡\u001b[22m\n",
       "\n",
       "\u001b[36m  julia> A = [3.0 -6.0; 4.0 -8.0; 0.0 1.0]\u001b[39m\n",
       "\u001b[36m  3×2 Matrix{Float64}:\u001b[39m\n",
       "\u001b[36m   3.0  -6.0\u001b[39m\n",
       "\u001b[36m   4.0  -8.0\u001b[39m\n",
       "\u001b[36m   0.0   1.0\u001b[39m\n",
       "\u001b[36m  \u001b[39m\n",
       "\u001b[36m  julia> F = qr(A)\u001b[39m\n",
       "\u001b[36m  LinearAlgebra.QRCompactWY{Float64, Matrix{Float64}}\u001b[39m\n",
       "\u001b[36m  Q factor:\u001b[39m\n",
       "\u001b[36m  3×3 LinearAlgebra.QRCompactWYQ{Float64, Matrix{Float64}}:\u001b[39m\n",
       "\u001b[36m   -0.6   0.0   0.8\u001b[39m\n",
       "\u001b[36m   -0.8   0.0  -0.6\u001b[39m\n",
       "\u001b[36m    0.0  -1.0   0.0\u001b[39m\n",
       "\u001b[36m  R factor:\u001b[39m\n",
       "\u001b[36m  2×2 Matrix{Float64}:\u001b[39m\n",
       "\u001b[36m   -5.0  10.0\u001b[39m\n",
       "\u001b[36m    0.0  -1.0\u001b[39m\n",
       "\u001b[36m  \u001b[39m\n",
       "\u001b[36m  julia> F.Q * F.R == A\u001b[39m\n",
       "\u001b[36m  true\u001b[39m\n",
       "\n",
       "\u001b[36m\u001b[1m  │ \u001b[22m\u001b[39m\u001b[36m\u001b[1mNote\u001b[22m\u001b[39m\n",
       "\u001b[36m\u001b[1m  │\u001b[22m\u001b[39m\n",
       "\u001b[36m\u001b[1m  │\u001b[22m\u001b[39m  \u001b[36mqr\u001b[39m returns multiple types because LAPACK uses several\n",
       "\u001b[36m\u001b[1m  │\u001b[22m\u001b[39m  representations that minimize the memory storage requirements of\n",
       "\u001b[36m\u001b[1m  │\u001b[22m\u001b[39m  products of Householder elementary reflectors, so that the \u001b[36mQ\u001b[39m and \u001b[36mR\u001b[39m\n",
       "\u001b[36m\u001b[1m  │\u001b[22m\u001b[39m  matrices can be stored compactly rather as two separate dense\n",
       "\u001b[36m\u001b[1m  │\u001b[22m\u001b[39m  matrices.\n",
       "\n",
       "  ────────────────────────────────────────────────────────────────────────────\n",
       "\n",
       "\u001b[36m  qr(A::SparseMatrixCSC; tol=_default_tol(A), ordering=ORDERING_DEFAULT) -> QRSparse\u001b[39m\n",
       "\n",
       "  Compute the \u001b[36mQR\u001b[39m factorization of a sparse matrix \u001b[36mA\u001b[39m. Fill-reducing row and\n",
       "  column permutations are used such that \u001b[36mF.R = F.Q'*A[F.prow,F.pcol]\u001b[39m. The main\n",
       "  application of this type is to solve least squares or underdetermined\n",
       "  problems with \u001b[36m\\\u001b[39m. The function calls the C library SPQR.\n",
       "\n",
       "\u001b[36m\u001b[1m  │ \u001b[22m\u001b[39m\u001b[36m\u001b[1mNote\u001b[22m\u001b[39m\n",
       "\u001b[36m\u001b[1m  │\u001b[22m\u001b[39m\n",
       "\u001b[36m\u001b[1m  │\u001b[22m\u001b[39m  \u001b[36mqr(A::SparseMatrixCSC)\u001b[39m uses the SPQR library that is part of\n",
       "\u001b[36m\u001b[1m  │\u001b[22m\u001b[39m  SuiteSparse. As this library only supports sparse matrices with\n",
       "\u001b[36m\u001b[1m  │\u001b[22m\u001b[39m  \u001b[36mFloat64\u001b[39m or \u001b[36mComplexF64\u001b[39m elements, as of Julia v1.4 \u001b[36mqr\u001b[39m converts \u001b[36mA\u001b[39m\n",
       "\u001b[36m\u001b[1m  │\u001b[22m\u001b[39m  into a copy that is of type \u001b[36mSparseMatrixCSC{Float64}\u001b[39m or\n",
       "\u001b[36m\u001b[1m  │\u001b[22m\u001b[39m  \u001b[36mSparseMatrixCSC{ComplexF64}\u001b[39m as appropriate.\n",
       "\n",
       "\u001b[1m  Examples\u001b[22m\n",
       "\u001b[1m  ≡≡≡≡≡≡≡≡≡≡\u001b[22m\n",
       "\n",
       "\u001b[36m  julia> A = sparse([1,2,3,4], [1,1,2,2], [1.0,1.0,1.0,1.0])\u001b[39m\n",
       "\u001b[36m  4×2 SparseMatrixCSC{Float64, Int64} with 4 stored entries:\u001b[39m\n",
       "\u001b[36m   1.0   ⋅\u001b[39m\n",
       "\u001b[36m   1.0   ⋅\u001b[39m\n",
       "\u001b[36m    ⋅   1.0\u001b[39m\n",
       "\u001b[36m    ⋅   1.0\u001b[39m\n",
       "\u001b[36m  \u001b[39m\n",
       "\u001b[36m  julia> qr(A)\u001b[39m\n",
       "\u001b[36m  SuiteSparse.SPQR.QRSparse{Float64, Int64}\u001b[39m\n",
       "\u001b[36m  Q factor:\u001b[39m\n",
       "\u001b[36m  4×4 SuiteSparse.SPQR.QRSparseQ{Float64, Int64}:\u001b[39m\n",
       "\u001b[36m   -0.707107   0.0        0.0       -0.707107\u001b[39m\n",
       "\u001b[36m    0.0       -0.707107  -0.707107   0.0\u001b[39m\n",
       "\u001b[36m    0.0       -0.707107   0.707107   0.0\u001b[39m\n",
       "\u001b[36m   -0.707107   0.0        0.0        0.707107\u001b[39m\n",
       "\u001b[36m  R factor:\u001b[39m\n",
       "\u001b[36m  2×2 SparseMatrixCSC{Float64, Int64} with 2 stored entries:\u001b[39m\n",
       "\u001b[36m   -1.41421    ⋅\u001b[39m\n",
       "\u001b[36m     ⋅       -1.41421\u001b[39m\n",
       "\u001b[36m  Row permutation:\u001b[39m\n",
       "\u001b[36m  4-element Vector{Int64}:\u001b[39m\n",
       "\u001b[36m   1\u001b[39m\n",
       "\u001b[36m   3\u001b[39m\n",
       "\u001b[36m   4\u001b[39m\n",
       "\u001b[36m   2\u001b[39m\n",
       "\u001b[36m  Column permutation:\u001b[39m\n",
       "\u001b[36m  2-element Vector{Int64}:\u001b[39m\n",
       "\u001b[36m   1\u001b[39m\n",
       "\u001b[36m   2\u001b[39m"
      ]
     },
     "execution_count": 12,
     "metadata": {},
     "output_type": "execute_result"
    }
   ],
   "source": [
    "?qr"
   ]
  },
  {
   "cell_type": "markdown",
   "metadata": {},
   "source": [
    "Similarly to the LU factorization, the matrices `Q` and `R` can be extracted from the QR factorization object via"
   ]
  },
  {
   "cell_type": "code",
   "execution_count": 13,
   "metadata": {},
   "outputs": [
    {
     "data": {
      "text/plain": [
       "3×3 LinearAlgebra.QRCompactWYQ{Float64, Matrix{Float64}}:\n",
       " -0.122125   0.955012  -0.270253\n",
       " -0.984526  -0.151044  -0.0888543\n",
       " -0.125677   0.25522    0.95868"
      ]
     },
     "execution_count": 13,
     "metadata": {},
     "output_type": "execute_result"
    }
   ],
   "source": [
    "Aqr.Q"
   ]
  },
  {
   "cell_type": "code",
   "execution_count": 14,
   "metadata": {},
   "outputs": [
    {
     "data": {
      "text/plain": [
       "3×3 Matrix{Float64}:\n",
       " -0.306952  -0.538122  -1.06519\n",
       "  0.0        0.713466   0.729843\n",
       "  0.0        0.0       -0.0197705"
      ]
     },
     "execution_count": 14,
     "metadata": {},
     "output_type": "execute_result"
    }
   ],
   "source": [
    "Aqr.R"
   ]
  },
  {
   "cell_type": "markdown",
   "metadata": {},
   "source": [
    "#### Eigendecompositions"
   ]
  },
  {
   "cell_type": "markdown",
   "metadata": {},
   "source": [
    "The results from eigendecompositions, singular value decompositions, Hessenberg factorizations, and Schur decompositions are all stored in `Factorization` types.\n",
    "\n",
    "The eigendecomposition can be computed"
   ]
  },
  {
   "cell_type": "code",
   "execution_count": 15,
   "metadata": {},
   "outputs": [
    {
     "data": {
      "text/plain": [
       "Eigen{Float64, Float64, Matrix{Float64}, Vector{Float64}}\n",
       "values:\n",
       "3-element Vector{Float64}:\n",
       " -0.6616442806377435\n",
       " -0.4595332606156878\n",
       "  2.6425825943260914\n",
       "vectors:\n",
       "3×3 Matrix{Float64}:\n",
       "  0.854193  -0.224749  -0.468873\n",
       " -0.508131  -0.552044  -0.661097\n",
       " -0.110258   0.802954  -0.585755"
      ]
     },
     "execution_count": 15,
     "metadata": {},
     "output_type": "execute_result"
    }
   ],
   "source": [
    "Asym = A + A'\n",
    "AsymEig = eigen(Asym)"
   ]
  },
  {
   "cell_type": "markdown",
   "metadata": {},
   "source": [
    "The values and the vectors can be extracted from the Eigen type by special indexing"
   ]
  },
  {
   "cell_type": "code",
   "execution_count": 16,
   "metadata": {},
   "outputs": [
    {
     "data": {
      "text/plain": [
       "3-element Vector{Float64}:\n",
       " -0.6616442806377435\n",
       " -0.4595332606156878\n",
       "  2.6425825943260914"
      ]
     },
     "execution_count": 16,
     "metadata": {},
     "output_type": "execute_result"
    }
   ],
   "source": [
    "AsymEig.values"
   ]
  },
  {
   "cell_type": "code",
   "execution_count": 17,
   "metadata": {},
   "outputs": [
    {
     "data": {
      "text/plain": [
       "3×3 Matrix{Float64}:\n",
       "  0.854193  -0.224749  -0.468873\n",
       " -0.508131  -0.552044  -0.661097\n",
       " -0.110258   0.802954  -0.585755"
      ]
     },
     "execution_count": 17,
     "metadata": {},
     "output_type": "execute_result"
    }
   ],
   "source": [
    "AsymEig.vectors"
   ]
  },
  {
   "cell_type": "markdown",
   "metadata": {},
   "source": [
    "Once again, when the factorization is stored in a type, we can dispatch on it and write specialized methods that exploit the properties of the factorization, e.g. that $A^{-1}=(V\\Lambda V^{-1})^{-1}=V\\Lambda^{-1}V^{-1}$."
   ]
  },
  {
   "cell_type": "code",
   "execution_count": 18,
   "metadata": {},
   "outputs": [
    {
     "data": {
      "text/plain": [
       "3×3 Matrix{Float64}:\n",
       "  1.0          9.99201e-16  9.4369e-16\n",
       "  6.66134e-16  1.0          1.22125e-15\n",
       " -2.22045e-16  4.44089e-16  1.0"
      ]
     },
     "execution_count": 18,
     "metadata": {},
     "output_type": "execute_result"
    }
   ],
   "source": [
    "inv(AsymEig)*Asym"
   ]
  },
  {
   "cell_type": "markdown",
   "metadata": {},
   "source": [
    "## Special matrix structures\n",
    "Matrix structure is very important in linear algebra. To see *how* important it is, let's work with a larger linear system"
   ]
  },
  {
   "cell_type": "code",
   "execution_count": 19,
   "metadata": {},
   "outputs": [],
   "source": [
    "n = 1000\n",
    "A = randn(n,n);"
   ]
  },
  {
   "cell_type": "markdown",
   "metadata": {},
   "source": [
    "Julia can often infer special matrix structure"
   ]
  },
  {
   "cell_type": "code",
   "execution_count": 20,
   "metadata": {},
   "outputs": [
    {
     "data": {
      "text/plain": [
       "true"
      ]
     },
     "execution_count": 20,
     "metadata": {},
     "output_type": "execute_result"
    }
   ],
   "source": [
    "Asym = A + A'\n",
    "issymmetric(Asym)"
   ]
  },
  {
   "cell_type": "markdown",
   "metadata": {},
   "source": [
    "but sometimes floating point error might get in the way."
   ]
  },
  {
   "cell_type": "code",
   "execution_count": 21,
   "metadata": {},
   "outputs": [
    {
     "data": {
      "text/plain": [
       "-1.7806400370270028"
      ]
     },
     "execution_count": 21,
     "metadata": {},
     "output_type": "execute_result"
    }
   ],
   "source": [
    "Asym_noisy = copy(Asym)\n",
    "Asym_noisy[1,2] += 5eps()"
   ]
  },
  {
   "cell_type": "code",
   "execution_count": 22,
   "metadata": {},
   "outputs": [
    {
     "data": {
      "text/plain": [
       "false"
      ]
     },
     "execution_count": 22,
     "metadata": {},
     "output_type": "execute_result"
    }
   ],
   "source": [
    "issymmetric(Asym_noisy)"
   ]
  },
  {
   "cell_type": "markdown",
   "metadata": {},
   "source": [
    "Luckily we can declare structure explicitly with, for example, `Diagonal`, `Triangular`, `Symmetric`, `Hermitian`, `Tridiagonal` and `SymTridiagonal`."
   ]
  },
  {
   "cell_type": "code",
   "execution_count": 23,
   "metadata": {},
   "outputs": [],
   "source": [
    "Asym_explicit = Symmetric(Asym_noisy);"
   ]
  },
  {
   "cell_type": "markdown",
   "metadata": {},
   "source": [
    "Let's compare how long it takes Julia to compute the eigenvalues of `Asym`, `Asym_noisy`, and `Asym_explicit`"
   ]
  },
  {
   "cell_type": "code",
   "execution_count": 24,
   "metadata": {},
   "outputs": [
    {
     "name": "stdout",
     "output_type": "stream",
     "text": [
      "  0.460447 seconds (133.94 k allocations: 15.454 MiB, 3.51% gc time, 36.15% compilation time)\n"
     ]
    }
   ],
   "source": [
    "@time eigvals(Asym);"
   ]
  },
  {
   "cell_type": "code",
   "execution_count": 25,
   "metadata": {},
   "outputs": [
    {
     "name": "stdout",
     "output_type": "stream",
     "text": [
      "  1.064262 seconds (13 allocations: 7.920 MiB)\n"
     ]
    }
   ],
   "source": [
    "@time eigvals(Asym_noisy);"
   ]
  },
  {
   "cell_type": "code",
   "execution_count": 26,
   "metadata": {},
   "outputs": [
    {
     "name": "stdout",
     "output_type": "stream",
     "text": [
      "  0.293277 seconds (5.88 k allocations: 8.358 MiB, 3.56% compilation time)\n"
     ]
    }
   ],
   "source": [
    "@time eigvals(Asym_explicit);"
   ]
  },
  {
   "cell_type": "code",
   "execution_count": 27,
   "metadata": {},
   "outputs": [],
   "source": [
    "using BenchmarkTools  \n"
   ]
  },
  {
   "cell_type": "code",
   "execution_count": 28,
   "metadata": {},
   "outputs": [
    {
     "data": {
      "text/plain": [
       "BenchmarkTools.Trial: \n",
       "  memory estimate:  7.99 MiB\n",
       "  allocs estimate:  11\n",
       "  --------------\n",
       "  minimum time:     265.792 ms (0.00% GC)\n",
       "  median time:      275.191 ms (0.00% GC)\n",
       "  mean time:        274.591 ms (0.31% GC)\n",
       "  maximum time:     283.508 ms (0.00% GC)\n",
       "  --------------\n",
       "  samples:          19\n",
       "  evals/sample:     1"
      ]
     },
     "execution_count": 28,
     "metadata": {},
     "output_type": "execute_result"
    }
   ],
   "source": [
    "@benchmark eigvals($Asym)"
   ]
  },
  {
   "cell_type": "code",
   "execution_count": 29,
   "metadata": {},
   "outputs": [
    {
     "data": {
      "text/plain": [
       "BenchmarkTools.Trial: \n",
       "  memory estimate:  7.92 MiB\n",
       "  allocs estimate:  13\n",
       "  --------------\n",
       "  minimum time:     1.049 s (0.00% GC)\n",
       "  median time:      1.056 s (0.00% GC)\n",
       "  mean time:        1.068 s (0.00% GC)\n",
       "  maximum time:     1.112 s (0.00% GC)\n",
       "  --------------\n",
       "  samples:          5\n",
       "  evals/sample:     1"
      ]
     },
     "execution_count": 29,
     "metadata": {},
     "output_type": "execute_result"
    }
   ],
   "source": [
    "@benchmark eigvals($Asym_noisy)"
   ]
  },
  {
   "cell_type": "code",
   "execution_count": 30,
   "metadata": {},
   "outputs": [
    {
     "data": {
      "text/plain": [
       "BenchmarkTools.Trial: \n",
       "  memory estimate:  7.99 MiB\n",
       "  allocs estimate:  11\n",
       "  --------------\n",
       "  minimum time:     264.836 ms (0.00% GC)\n",
       "  median time:      271.155 ms (0.00% GC)\n",
       "  mean time:        271.757 ms (0.26% GC)\n",
       "  maximum time:     278.987 ms (0.00% GC)\n",
       "  --------------\n",
       "  samples:          19\n",
       "  evals/sample:     1"
      ]
     },
     "execution_count": 30,
     "metadata": {},
     "output_type": "execute_result"
    }
   ],
   "source": [
    "@benchmark eigvals($Asym_explicit)"
   ]
  },
  {
   "cell_type": "markdown",
   "metadata": {},
   "source": [
    "In this example, using `Symmetric()` on `Asym_noisy` made our calculations about `5x` more efficient :)"
   ]
  },
  {
   "cell_type": "code",
   "execution_count": null,
   "metadata": {},
   "outputs": [],
   "source": []
  },
  {
   "cell_type": "markdown",
   "metadata": {},
   "source": [
    "#### A big problem\n",
    "Using the `Tridiagonal` and `SymTridiagonal` types to store tridiagonal matrices makes it possible to work with potentially very large tridiagonal problems. The following problem would not be possible to solve on a laptop if the matrix had to be stored as a (dense) `Matrix` type."
   ]
  },
  {
   "cell_type": "code",
   "execution_count": 31,
   "metadata": {},
   "outputs": [
    {
     "name": "stdout",
     "output_type": "stream",
     "text": [
      "  0.819444 seconds (782.01 k allocations: 226.927 MiB, 2.45% gc time, 28.81% compilation time)\n"
     ]
    },
    {
     "data": {
      "text/plain": [
       "6.19877544505124"
      ]
     },
     "execution_count": 31,
     "metadata": {},
     "output_type": "execute_result"
    }
   ],
   "source": [
    "n = 1_000_000;\n",
    "A = SymTridiagonal(randn(n), randn(n-1));\n",
    "@time eigmax(A)"
   ]
  },
  {
   "cell_type": "markdown",
   "metadata": {},
   "source": [
    "## Generic linear algebra\n",
    "The usual way of adding support for numerical linear algebra is by wrapping BLAS and LAPACK subroutines. For matrices with elements of `Float32`, `Float64`, `Complex{Float32}` or `Complex{Float64}` this is also what Julia does.\n",
    "\n",
    "However, Julia also supports generic linear algebra, allowing you to, for example, work with matrices and vectors of rational numbers."
   ]
  },
  {
   "cell_type": "markdown",
   "metadata": {},
   "source": [
    "#### Rational numbers\n",
    "Julia has rational numbers built in. To construct a rational number, use double forward slashes:"
   ]
  },
  {
   "cell_type": "code",
   "execution_count": 32,
   "metadata": {},
   "outputs": [
    {
     "data": {
      "text/plain": [
       "1//2"
      ]
     },
     "execution_count": 32,
     "metadata": {},
     "output_type": "execute_result"
    }
   ],
   "source": [
    "1//2"
   ]
  },
  {
   "cell_type": "markdown",
   "metadata": {},
   "source": [
    "#### Example: Rational linear system of equations\n",
    "The following example shows how linear system of equations with rational elements can be solved without promoting to floating point element types. Overflow can easily become a problem when working with rational numbers so we use `BigInt`s."
   ]
  },
  {
   "cell_type": "code",
   "execution_count": 33,
   "metadata": {},
   "outputs": [
    {
     "data": {
      "text/plain": [
       "3×3 Matrix{Rational{BigInt}}:\n",
       " 2//5  1//1  2//5\n",
       " 1//1  1//1  7//10\n",
       " 2//5  4//5  2//5"
      ]
     },
     "execution_count": 33,
     "metadata": {},
     "output_type": "execute_result"
    }
   ],
   "source": [
    "Arational = Matrix{Rational{BigInt}}(rand(1:10, 3, 3))/10"
   ]
  },
  {
   "cell_type": "code",
   "execution_count": 34,
   "metadata": {},
   "outputs": [
    {
     "data": {
      "text/plain": [
       "3-element Vector{Rational{BigInt}}:\n",
       "  9//5\n",
       " 27//10\n",
       "  8//5"
      ]
     },
     "execution_count": 34,
     "metadata": {},
     "output_type": "execute_result"
    }
   ],
   "source": [
    "x = fill(1, 3)\n",
    "b = Arational*x"
   ]
  },
  {
   "cell_type": "code",
   "execution_count": 35,
   "metadata": {},
   "outputs": [
    {
     "data": {
      "text/plain": [
       "3-element Vector{Rational{BigInt}}:\n",
       " 1//1\n",
       " 1//1\n",
       " 1//1"
      ]
     },
     "execution_count": 35,
     "metadata": {},
     "output_type": "execute_result"
    }
   ],
   "source": [
    "Arational\\b"
   ]
  },
  {
   "cell_type": "code",
   "execution_count": 36,
   "metadata": {},
   "outputs": [
    {
     "data": {
      "text/plain": [
       "LU{Rational{BigInt}, Matrix{Rational{BigInt}}}\n",
       "L factor:\n",
       "3×3 Matrix{Rational{BigInt}}:\n",
       " 1//1  0//1  0//1\n",
       " 2//5  1//1  0//1\n",
       " 2//5  2//3  1//1\n",
       "U factor:\n",
       "3×3 Matrix{Rational{BigInt}}:\n",
       " 1//1  1//1  7//10\n",
       " 0//1  3//5  3//25\n",
       " 0//1  0//1  1//25"
      ]
     },
     "execution_count": 36,
     "metadata": {},
     "output_type": "execute_result"
    }
   ],
   "source": [
    "lu(Arational)"
   ]
  },
  {
   "cell_type": "markdown",
   "metadata": {},
   "source": [
    "### Exercises\n",
    "\n",
    "#### 11.1\n",
    "What are the eigenvalues of matrix A?\n",
    "\n",
    "```\n",
    "A =\n",
    "[\n",
    " 140   97   74  168  131\n",
    "  97  106   89  131   36\n",
    "  74   89  152  144   71\n",
    " 168  131  144   54  142\n",
    " 131   36   71  142   36\n",
    "]\n",
    "```\n",
    "and assign it a variable `A_eigv`"
   ]
  },
  {
   "cell_type": "code",
   "execution_count": 37,
   "metadata": {},
   "outputs": [],
   "source": []
  },
  {
   "cell_type": "code",
   "execution_count": 38,
   "metadata": {},
   "outputs": [
    {
     "data": {
      "text/plain": [
       "5×5 Matrix{Int64}:\n",
       " 140   97   74  168  131\n",
       "  97  106   89  131   36\n",
       "  74   89  152  144   71\n",
       " 168  131  144   54  142\n",
       " 131   36   71  142   36"
      ]
     },
     "execution_count": 38,
     "metadata": {},
     "output_type": "execute_result"
    }
   ],
   "source": [
    "A =\n",
    "[\n",
    " 140   97   74  168  131\n",
    "  97  106   89  131   36\n",
    "  74   89  152  144   71\n",
    " 168  131  144   54  142\n",
    " 131   36   71  142   36\n",
    "]"
   ]
  },
  {
   "cell_type": "code",
   "execution_count": 41,
   "metadata": {},
   "outputs": [
    {
     "data": {
      "text/plain": [
       "Eigen{Float64, Float64, Matrix{Float64}, Vector{Float64}}\n",
       "values:\n",
       "5-element Vector{Float64}:\n",
       " -128.49322764802145\n",
       "  -55.887784553057\n",
       "   42.752167279318854\n",
       "   87.16111477514494\n",
       "  542.4677301466137\n",
       "vectors:\n",
       "5×5 Matrix{Float64}:\n",
       " -0.147575  -0.647178  -0.010882    0.548903   -0.507907\n",
       " -0.256795   0.173068  -0.834628   -0.239864   -0.387253\n",
       " -0.185537  -0.239762   0.422161   -0.731925   -0.440631\n",
       "  0.819704   0.247506   0.0273194   0.0366447  -0.514526\n",
       " -0.453805   0.657619   0.352577    0.322668   -0.364928"
      ]
     },
     "execution_count": 41,
     "metadata": {},
     "output_type": "execute_result"
    }
   ],
   "source": []
  },
  {
   "cell_type": "code",
   "execution_count": 42,
   "metadata": {},
   "outputs": [
    {
     "data": {
      "text/plain": [
       "5-element Vector{Float64}:\n",
       " -128.49322764802145\n",
       "  -55.887784553057\n",
       "   42.752167279318854\n",
       "   87.16111477514494\n",
       "  542.4677301466137"
      ]
     },
     "execution_count": 42,
     "metadata": {},
     "output_type": "execute_result"
    }
   ],
   "source": []
  },
  {
   "cell_type": "code",
   "execution_count": null,
   "metadata": {},
   "outputs": [],
   "source": []
  },
  {
   "cell_type": "code",
   "execution_count": 43,
   "metadata": {
    "deletable": false,
    "editable": false,
    "hide_input": true,
    "nbgrader": {
     "checksum": "f9f16fdef201ed372323a291f1dd1346",
     "grade": true,
     "grade_id": "cell-4d5f60c8a814c789",
     "locked": true,
     "points": 0,
     "schema_version": 1,
     "solution": false
    }
   },
   "outputs": [],
   "source": [
    "@assert A_eigv ≈ [-128.49322764802145, -55.887784553056875, 42.7521672793189, 87.16111477514521, 542.4677301466143]"
   ]
  },
  {
   "cell_type": "markdown",
   "metadata": {},
   "source": [
    "#### 11.2 \n",
    "Create a `Diagonal` matrix from the eigenvalues of `A`."
   ]
  },
  {
   "cell_type": "code",
   "execution_count": null,
   "metadata": {},
   "outputs": [],
   "source": []
  },
  {
   "cell_type": "code",
   "execution_count": 47,
   "metadata": {},
   "outputs": [
    {
     "data": {
      "text/plain": [
       "5×5 Diagonal{Float64, Vector{Float64}}:\n",
       " -128.493     ⋅        ⋅        ⋅         ⋅ \n",
       "     ⋅     -55.8878    ⋅        ⋅         ⋅ \n",
       "     ⋅        ⋅      42.7522    ⋅         ⋅ \n",
       "     ⋅        ⋅        ⋅      87.1611     ⋅ \n",
       "     ⋅        ⋅        ⋅        ⋅      542.468"
      ]
     },
     "execution_count": 47,
     "metadata": {},
     "output_type": "execute_result"
    }
   ],
   "source": []
  },
  {
   "cell_type": "code",
   "execution_count": 48,
   "metadata": {
    "deletable": false,
    "editable": false,
    "hide_input": true,
    "nbgrader": {
     "checksum": "3ca676f6282c1a7c214ab2cb9f9b322d",
     "grade": true,
     "grade_id": "cell-3b000a3710c9c263",
     "locked": true,
     "points": 1,
     "schema_version": 1,
     "solution": false
    }
   },
   "outputs": [],
   "source": [
    "@assert isapprox(A_diag, [-128.493    0.0      0.0      0.0       0.0;\n",
    "    0.0    -55.8878   0.0      0.0       0.0;\n",
    "    0.0      0.0     42.7522   0.0       0.0;\n",
    "    0.0      0.0      0.0     87.1611    0.0;\n",
    "    0.0 0.0      0.0      0.0     542.468], atol = 0.001)"
   ]
  },
  {
   "cell_type": "markdown",
   "metadata": {},
   "source": [
    "#### 11.3 \n",
    "Create a `LowerTriangular` matrix from `A` and store it in `A_lowertri`"
   ]
  },
  {
   "cell_type": "code",
   "execution_count": 49,
   "metadata": {},
   "outputs": [
    {
     "data": {
      "text/plain": [
       "5×5 LowerTriangular{Int64, Matrix{Int64}}:\n",
       " 140    ⋅    ⋅    ⋅   ⋅\n",
       "  97  106    ⋅    ⋅   ⋅\n",
       "  74   89  152    ⋅   ⋅\n",
       " 168  131  144   54   ⋅\n",
       " 131   36   71  142  36"
      ]
     },
     "execution_count": 49,
     "metadata": {},
     "output_type": "execute_result"
    }
   ],
   "source": []
  },
  {
   "cell_type": "code",
   "execution_count": 50,
   "metadata": {
    "deletable": false,
    "editable": false,
    "hide_input": true,
    "nbgrader": {
     "checksum": "b3b1a272343a05082f378a5e1aa3426d",
     "grade": true,
     "grade_id": "cell-b76cee2b4a8777da",
     "locked": true,
     "points": 0,
     "schema_version": 1,
     "solution": false
    }
   },
   "outputs": [],
   "source": [
    "@assert A_lowertri ==  [140    0    0    0   0;\n",
    "  97  106    0    0   0;\n",
    "  74   89  152    0   0;\n",
    " 168  131  144   54   0;\n",
    " 131   36   71  142  36]"
   ]
  },
  {
   "cell_type": "code",
   "execution_count": null,
   "metadata": {},
   "outputs": [],
   "source": []
  }
 ],
 "metadata": {
  "kernelspec": {
   "display_name": "Julia 1.6.3",
   "language": "julia",
   "name": "julia-1.6"
  },
  "language": "Julia",
  "language_info": {
   "file_extension": ".jl",
   "mimetype": "application/julia",
   "name": "julia",
   "version": "1.6.3"
  }
 },
 "nbformat": 4,
 "nbformat_minor": 1
}
