{
 "cells": [
  {
   "cell_type": "markdown",
   "metadata": {},
   "source": [
    "# Fizzbuzz!\n",
    "We want to write a function named fizzbuzz, which behaves as following : \n",
    "Given an (integer) N, print \"Fizz\" if N is divisible by 3, \"Buzz\" if N is divisible by 5 and \"FizzBuzz\" if N is divisible by 3 and 5. Otherwise just print the number itself. The function should take in an input N, and print the output for all integers between 1 and N.\n",
    "\n",
    "Optional Advanced Exercise : If the input N is an array of numbers instead, such as\n",
    "```julia\n",
    "fizzbuzz([1,3,5])\n",
    "```\n",
    "output\n",
    "```julia\n",
    "[1, \"Fizz\", \"Buzz\"]    \n",
    "```"
   ]
  },
  {
   "cell_type": "code",
   "execution_count": 5,
   "metadata": {},
   "outputs": [
    {
     "name": "stdout",
     "output_type": "stream",
     "text": [
      "1\n",
      "2\n",
      "Fizz\n",
      "4\n",
      "Buzz\n",
      "Fizz\n",
      "7\n",
      "8\n",
      "Fizz\n",
      "Buzz\n",
      "11\n",
      "Fizz\n",
      "13\n",
      "14\n",
      "FizzBuzz\n",
      "16\n"
     ]
    }
   ],
   "source": [
    "t = 16\n",
    "function fizzbuzz(i)\n",
    "    for N in 1:i\n",
    "        if (N%15)==0\n",
    "            println(\"FizzBuzz\")\n",
    "        elseif (N%5)==0\n",
    "            println(\"Buzz\")\n",
    "        elseif (N%3)==0\n",
    "            println(\"Fizz\")\n",
    "        else\n",
    "            println(N)\n",
    "        end\n",
    "    end\n",
    "end\n",
    "fizzbuzz(t)"
   ]
  },
  {
   "cell_type": "markdown",
   "metadata": {},
   "source": [
    "## How can we calculate $\\pi$?\n",
    "\n",
    "Given a square of length $2r$, the square's area is\n",
    "\n",
    "$$A_{square} = (2r)^2 = 4r^2$$\n",
    "\n",
    "whereas the area of a circle with radius $r$ is\n",
    "$$A_{circle} = \\pi r^2$$\n",
    "\n",
    "<img src=\"../readme-images/area_ratio.png\" alt=\"Drawing\" style=\"width: 400px;\"/>\n",
    "\n",
    "Therefore the ratio of the area of the circle to that of the square above is\n",
    "\n",
    "$$\\frac{A_{circle}}{A_{square}} = \\frac{\\pi r^2}{4r^2} = \\frac{\\pi}{4}$$\n",
    "\n",
    "and we can define $\\pi$ as\n",
    "\n",
    "$$\\pi = 4\\frac{A_{circle}}{A_{square}}$$\n",
    "\n",
    "This suggests a way to calculate $\\pi$: if we have a square and the largest circle that fits inside that square, we can determine the ratio of areas of a circle and a square. We can calculate this ratio using a monte carlo simulation. We select random points inside a square, and we keep track of how often those points also fall inside the circle that fits perfectly inside that square.\n",
    "\n",
    "Given a large enough sampling points, $\\frac{A_{circle}}{A_{square}}$ will be equal to the fraction of randomly chosen points inside the square that also fall inside the circle. Then we can figure out $\\pi$!\n",
    "\n",
    "#### Pseudo-code\n",
    "\n",
    "Given the above, our algorithm for determining $\\pi$ looks like this:\n",
    "\n",
    "1. For each of $N$ iterations,\n",
    "    1. Select a random point inside a square of area $4r^2$ as Cartesian, $(x, y)$, coordinates.\n",
    "    1. Determine if the point also falls inside the circle embedded within this square of area $\\pi r^2$.\n",
    "    1. Keep track of whether or not this point fell inside the circle. At the end of $N$ iterations, you want to know $M$ -- the number of the $N$ random points that fell inside the circle!\n",
    "1. Calculate $\\pi$ as $4\\frac{M}{N}$\n",
    "\n",
    "#### Exercise\n",
    "\n",
    "Write a function that calculates $\\pi$ using Julia.\n",
    "\n",
    "The algorithm above should work for any value of $r$ that you choose to use. Make sure you make $N$ big enough that the value of $\\pi$ is correct to at least a couple numbers after the decimal point!\n",
    "\n",
    "*Hint*:\n",
    "\n",
    "This will probably be easier if you center your circle and square at the coordinate (0, 0) and use a radius of 1. For example, to choose random coordinates within your square at position (x, y), you may want to choose x and y so that they are each a value between -1 and +1. Then any point within a distance of 1 from (0, 0) will fall inside the circle!\n",
    "\n",
    "The following code may be useful\n",
    "```julia\n",
    "        # Generate a random point (x, y) inside the square centered at (0, 0) \n",
    "        # that has corners at (-1, 1), (-1, 1), (1, -1), and (1, 1)\n",
    "        x = 1-2*rand()\n",
    "        y = 1-2*rand()\n",
    "```\n",
    "\n",
    "<img src=\"../readme-images/hint.png\" alt=\"Drawing\" style=\"width: 400px;\"/>\n",
    "\n"
   ]
  },
  {
   "cell_type": "code",
   "execution_count": null,
   "metadata": {},
   "outputs": [],
   "source": [
    "function calculate_pi(N = 1000)\n",
    "    how_often_in_circle = 0\n",
    "    for i in 1:N\n",
    "        # Generate a random point (x, y) inside the square centered at (0, 0) \n",
    "        # that has corners at (-1, 1), (-1, 1), (1, -1), and (1, 1)\n",
    "        x = 1-2*rand()\n",
    "        y = 1-2*rand()\n",
    "        # Check if the distance to (x, y) from (0, 0) is less than the radius of 1\n",
    "        if x^2 + y^2 < 1\n",
    "            how_often_in_circle += 1\n",
    "        end\n",
    "    end\n",
    "    return 4 * how_often_in_circle / N\n",
    "end\n",
    "\n",
    "calculate_pi.([10, 100, 1000, 10000, 100_000, 1_000_000])"
   ]
  },
  {
   "cell_type": "code",
   "execution_count": null,
   "metadata": {},
   "outputs": [],
   "source": []
  },
  {
   "cell_type": "code",
   "execution_count": null,
   "metadata": {},
   "outputs": [],
   "source": []
  }
 ],
 "metadata": {
  "kernelspec": {
   "display_name": "Julia 1.6.1",
   "language": "julia",
   "name": "julia-1.6"
  },
  "language_info": {
   "file_extension": ".jl",
   "mimetype": "application/julia",
   "name": "julia",
   "version": "1.6.1"
  }
 },
 "nbformat": 4,
 "nbformat_minor": 2
}
