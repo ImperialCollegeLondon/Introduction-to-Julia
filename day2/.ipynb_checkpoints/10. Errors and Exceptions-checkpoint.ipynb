{
 "cells": [
  {
   "cell_type": "markdown",
   "id": "bcc49788",
   "metadata": {},
   "source": [
    "https://docs.julialang.org/en/v1/manual/control-flow/#Built-in-Exceptions"
   ]
  },
  {
   "cell_type": "markdown",
   "id": "50a2d5cc",
   "metadata": {},
   "source": [
    "Many different types of exceptions! You might have already come across some during the previous notebooks."
   ]
  },
  {
   "cell_type": "code",
   "execution_count": 1,
   "id": "b3ace9a4",
   "metadata": {},
   "outputs": [
    {
     "name": "stdout",
     "output_type": "stream",
     "text": [
      "search: \u001b[0m\u001b[1mE\u001b[22m\u001b[0m\u001b[1mx\u001b[22m\u001b[0m\u001b[1mc\u001b[22m\u001b[0m\u001b[1me\u001b[22m\u001b[0m\u001b[1mp\u001b[22m\u001b[0m\u001b[1mt\u001b[22m\u001b[0m\u001b[1mi\u001b[22m\u001b[0m\u001b[1mo\u001b[22m\u001b[0m\u001b[1mn\u001b[22m Missing\u001b[0m\u001b[1mE\u001b[22m\u001b[0m\u001b[1mx\u001b[22m\u001b[0m\u001b[1mc\u001b[22m\u001b[0m\u001b[1me\u001b[22m\u001b[0m\u001b[1mp\u001b[22m\u001b[0m\u001b[1mt\u001b[22m\u001b[0m\u001b[1mi\u001b[22m\u001b[0m\u001b[1mo\u001b[22m\u001b[0m\u001b[1mn\u001b[22m \u001b[0m\u001b[1mE\u001b[22mrrorE\u001b[0m\u001b[1mx\u001b[22m\u001b[0m\u001b[1mc\u001b[22m\u001b[0m\u001b[1me\u001b[22m\u001b[0m\u001b[1mp\u001b[22m\u001b[0m\u001b[1mt\u001b[22m\u001b[0m\u001b[1mi\u001b[22m\u001b[0m\u001b[1mo\u001b[22m\u001b[0m\u001b[1mn\u001b[22m Captur\u001b[0m\u001b[1me\u001b[22mdE\u001b[0m\u001b[1mx\u001b[22m\u001b[0m\u001b[1mc\u001b[22m\u001b[0m\u001b[1me\u001b[22m\u001b[0m\u001b[1mp\u001b[22m\u001b[0m\u001b[1mt\u001b[22m\u001b[0m\u001b[1mi\u001b[22m\u001b[0m\u001b[1mo\u001b[22m\u001b[0m\u001b[1mn\u001b[22m\n",
      "\n"
     ]
    },
    {
     "data": {
      "text/latex": [
       "No documentation found.\n",
       "\n",
       "\\section{Summary}\n",
       "\\begin{verbatim}\n",
       "abstract type Exception <: Any\n",
       "\\end{verbatim}\n",
       "\\section{Subtypes}\n",
       "\\begin{verbatim}\n",
       "ArgumentError\n",
       "AssertionError\n",
       "Base.CodePointError\n",
       "Base.IOError\n",
       "Base.InvalidCharError\n",
       "Base.Meta.ParseError\n",
       "Base.PrecompilableError\n",
       "Base.SimdLoop.SimdError\n",
       "Base.TOML.ParserError\n",
       "BoundsError\n",
       "CapturedException\n",
       "CompositeException\n",
       "Core.Compiler.DimensionMismatch\n",
       "Core.Compiler.InvalidCodeError\n",
       "Core.Compiler.KeyError\n",
       "Core.WrappedException\n",
       "DimensionMismatch\n",
       "Distributed.BatchProcessingError\n",
       "Distributed.LaunchWorkerError\n",
       "Distributed.ProcessExitedException\n",
       "Distributed.RemoteException\n",
       "DivideError\n",
       "DomainError\n",
       "Downloads.RequestError\n",
       "EOFError\n",
       "ErrorException\n",
       "InexactError\n",
       "InterruptException\n",
       "InvalidStateException\n",
       "KeyError\n",
       "LibGit2.Error.GitError\n",
       "LinearAlgebra.LAPACKException\n",
       "LinearAlgebra.PosDefException\n",
       "LinearAlgebra.RankDeficientException\n",
       "LinearAlgebra.SingularException\n",
       "LinearAlgebra.ZeroPivotException\n",
       "MbedTLS.MbedException\n",
       "MethodError\n",
       "MissingException\n",
       "OutOfMemoryError\n",
       "OverflowError\n",
       "Parsers.Error\n",
       "Pkg.Resolve.ResolverError\n",
       "Pkg.Resolve.UnsatError\n",
       "Pkg.Types.PkgError\n",
       "ProcessFailedException\n",
       "ReadOnlyMemoryError\n",
       "SegmentationFault\n",
       "Sockets.DNSError\n",
       "StackOverflowError\n",
       "StringIndexError\n",
       "SuiteSparse.CHOLMOD.CHOLMODException\n",
       "SuiteSparse.UMFPACK.MatrixIllConditionedException\n",
       "SystemError\n",
       "TaskFailedException\n",
       "Test.FallbackTestSetException\n",
       "Test.TestSetException\n",
       "TypeError\n",
       "UndefKeywordError\n",
       "UndefRefError\n",
       "UndefVarError\n",
       "ZMQ.StateError\n",
       "\\end{verbatim}\n"
      ],
      "text/markdown": [
       "No documentation found.\n",
       "\n",
       "# Summary\n",
       "\n",
       "```\n",
       "abstract type Exception <: Any\n",
       "```\n",
       "\n",
       "# Subtypes\n",
       "\n",
       "```\n",
       "ArgumentError\n",
       "AssertionError\n",
       "Base.CodePointError\n",
       "Base.IOError\n",
       "Base.InvalidCharError\n",
       "Base.Meta.ParseError\n",
       "Base.PrecompilableError\n",
       "Base.SimdLoop.SimdError\n",
       "Base.TOML.ParserError\n",
       "BoundsError\n",
       "CapturedException\n",
       "CompositeException\n",
       "Core.Compiler.DimensionMismatch\n",
       "Core.Compiler.InvalidCodeError\n",
       "Core.Compiler.KeyError\n",
       "Core.WrappedException\n",
       "DimensionMismatch\n",
       "Distributed.BatchProcessingError\n",
       "Distributed.LaunchWorkerError\n",
       "Distributed.ProcessExitedException\n",
       "Distributed.RemoteException\n",
       "DivideError\n",
       "DomainError\n",
       "Downloads.RequestError\n",
       "EOFError\n",
       "ErrorException\n",
       "InexactError\n",
       "InterruptException\n",
       "InvalidStateException\n",
       "KeyError\n",
       "LibGit2.Error.GitError\n",
       "LinearAlgebra.LAPACKException\n",
       "LinearAlgebra.PosDefException\n",
       "LinearAlgebra.RankDeficientException\n",
       "LinearAlgebra.SingularException\n",
       "LinearAlgebra.ZeroPivotException\n",
       "MbedTLS.MbedException\n",
       "MethodError\n",
       "MissingException\n",
       "OutOfMemoryError\n",
       "OverflowError\n",
       "Parsers.Error\n",
       "Pkg.Resolve.ResolverError\n",
       "Pkg.Resolve.UnsatError\n",
       "Pkg.Types.PkgError\n",
       "ProcessFailedException\n",
       "ReadOnlyMemoryError\n",
       "SegmentationFault\n",
       "Sockets.DNSError\n",
       "StackOverflowError\n",
       "StringIndexError\n",
       "SuiteSparse.CHOLMOD.CHOLMODException\n",
       "SuiteSparse.UMFPACK.MatrixIllConditionedException\n",
       "SystemError\n",
       "TaskFailedException\n",
       "Test.FallbackTestSetException\n",
       "Test.TestSetException\n",
       "TypeError\n",
       "UndefKeywordError\n",
       "UndefRefError\n",
       "UndefVarError\n",
       "ZMQ.StateError\n",
       "```\n"
      ],
      "text/plain": [
       "  No documentation found.\n",
       "\n",
       "\u001b[1m  Summary\u001b[22m\n",
       "\u001b[1m  ≡≡≡≡≡≡≡≡≡\u001b[22m\n",
       "\n",
       "\u001b[36m  abstract type Exception <: Any\u001b[39m\n",
       "\n",
       "\u001b[1m  Subtypes\u001b[22m\n",
       "\u001b[1m  ≡≡≡≡≡≡≡≡≡≡\u001b[22m\n",
       "\n",
       "\u001b[36m  ArgumentError\u001b[39m\n",
       "\u001b[36m  AssertionError\u001b[39m\n",
       "\u001b[36m  Base.CodePointError\u001b[39m\n",
       "\u001b[36m  Base.IOError\u001b[39m\n",
       "\u001b[36m  Base.InvalidCharError\u001b[39m\n",
       "\u001b[36m  Base.Meta.ParseError\u001b[39m\n",
       "\u001b[36m  Base.PrecompilableError\u001b[39m\n",
       "\u001b[36m  Base.SimdLoop.SimdError\u001b[39m\n",
       "\u001b[36m  Base.TOML.ParserError\u001b[39m\n",
       "\u001b[36m  BoundsError\u001b[39m\n",
       "\u001b[36m  CapturedException\u001b[39m\n",
       "\u001b[36m  CompositeException\u001b[39m\n",
       "\u001b[36m  Core.Compiler.DimensionMismatch\u001b[39m\n",
       "\u001b[36m  Core.Compiler.InvalidCodeError\u001b[39m\n",
       "\u001b[36m  Core.Compiler.KeyError\u001b[39m\n",
       "\u001b[36m  Core.WrappedException\u001b[39m\n",
       "\u001b[36m  DimensionMismatch\u001b[39m\n",
       "\u001b[36m  Distributed.BatchProcessingError\u001b[39m\n",
       "\u001b[36m  Distributed.LaunchWorkerError\u001b[39m\n",
       "\u001b[36m  Distributed.ProcessExitedException\u001b[39m\n",
       "\u001b[36m  Distributed.RemoteException\u001b[39m\n",
       "\u001b[36m  DivideError\u001b[39m\n",
       "\u001b[36m  DomainError\u001b[39m\n",
       "\u001b[36m  Downloads.RequestError\u001b[39m\n",
       "\u001b[36m  EOFError\u001b[39m\n",
       "\u001b[36m  ErrorException\u001b[39m\n",
       "\u001b[36m  InexactError\u001b[39m\n",
       "\u001b[36m  InterruptException\u001b[39m\n",
       "\u001b[36m  InvalidStateException\u001b[39m\n",
       "\u001b[36m  KeyError\u001b[39m\n",
       "\u001b[36m  LibGit2.Error.GitError\u001b[39m\n",
       "\u001b[36m  LinearAlgebra.LAPACKException\u001b[39m\n",
       "\u001b[36m  LinearAlgebra.PosDefException\u001b[39m\n",
       "\u001b[36m  LinearAlgebra.RankDeficientException\u001b[39m\n",
       "\u001b[36m  LinearAlgebra.SingularException\u001b[39m\n",
       "\u001b[36m  LinearAlgebra.ZeroPivotException\u001b[39m\n",
       "\u001b[36m  MbedTLS.MbedException\u001b[39m\n",
       "\u001b[36m  MethodError\u001b[39m\n",
       "\u001b[36m  MissingException\u001b[39m\n",
       "\u001b[36m  OutOfMemoryError\u001b[39m\n",
       "\u001b[36m  OverflowError\u001b[39m\n",
       "\u001b[36m  Parsers.Error\u001b[39m\n",
       "\u001b[36m  Pkg.Resolve.ResolverError\u001b[39m\n",
       "\u001b[36m  Pkg.Resolve.UnsatError\u001b[39m\n",
       "\u001b[36m  Pkg.Types.PkgError\u001b[39m\n",
       "\u001b[36m  ProcessFailedException\u001b[39m\n",
       "\u001b[36m  ReadOnlyMemoryError\u001b[39m\n",
       "\u001b[36m  SegmentationFault\u001b[39m\n",
       "\u001b[36m  Sockets.DNSError\u001b[39m\n",
       "\u001b[36m  StackOverflowError\u001b[39m\n",
       "\u001b[36m  StringIndexError\u001b[39m\n",
       "\u001b[36m  SuiteSparse.CHOLMOD.CHOLMODException\u001b[39m\n",
       "\u001b[36m  SuiteSparse.UMFPACK.MatrixIllConditionedException\u001b[39m\n",
       "\u001b[36m  SystemError\u001b[39m\n",
       "\u001b[36m  TaskFailedException\u001b[39m\n",
       "\u001b[36m  Test.FallbackTestSetException\u001b[39m\n",
       "\u001b[36m  Test.TestSetException\u001b[39m\n",
       "\u001b[36m  TypeError\u001b[39m\n",
       "\u001b[36m  UndefKeywordError\u001b[39m\n",
       "\u001b[36m  UndefRefError\u001b[39m\n",
       "\u001b[36m  UndefVarError\u001b[39m\n",
       "\u001b[36m  ZMQ.StateError\u001b[39m"
      ]
     },
     "execution_count": 1,
     "metadata": {},
     "output_type": "execute_result"
    }
   ],
   "source": [
    "?Exception"
   ]
  },
  {
   "cell_type": "markdown",
   "id": "c5dcac97",
   "metadata": {},
   "source": [
    "We can also define our own exceptions"
   ]
  },
  {
   "cell_type": "code",
   "execution_count": 2,
   "id": "89e0de20",
   "metadata": {},
   "outputs": [],
   "source": [
    " struct MyCustomException <: Exception end"
   ]
  },
  {
   "cell_type": "markdown",
   "id": "dec0ccf9",
   "metadata": {},
   "source": [
    "\n",
    "The `throw` function\n"
   ]
  },
  {
   "cell_type": "markdown",
   "id": "7b71e9a8",
   "metadata": {},
   "source": [
    "\n",
    "Exceptions can be created explicitly with `throw`. For example, a function defined only for nonnegative numbers could be written to `throw` a `DomainError` if the argument is negative:"
   ]
  },
  {
   "cell_type": "code",
   "execution_count": 3,
   "id": "7ecdeb7b",
   "metadata": {},
   "outputs": [
    {
     "data": {
      "text/plain": [
       "f (generic function with 1 method)"
      ]
     },
     "execution_count": 3,
     "metadata": {},
     "output_type": "execute_result"
    }
   ],
   "source": [
    "f(x) = x>=0 ? exp(-x) : throw(DomainError(x, \"argument must be nonnegative\"))\n"
   ]
  },
  {
   "cell_type": "code",
   "execution_count": 4,
   "id": "a8a2274a",
   "metadata": {},
   "outputs": [
    {
     "data": {
      "text/plain": [
       "0.36787944117144233"
      ]
     },
     "execution_count": 4,
     "metadata": {},
     "output_type": "execute_result"
    }
   ],
   "source": [
    "f(1)"
   ]
  },
  {
   "cell_type": "code",
   "execution_count": 5,
   "id": "9e897a7f",
   "metadata": {},
   "outputs": [
    {
     "ename": "LoadError",
     "evalue": "DomainError with -1:\nargument must be nonnegative",
     "output_type": "error",
     "traceback": [
      "DomainError with -1:\nargument must be nonnegative",
      "",
      "Stacktrace:",
      " [1] f(x::Int64)",
      "   @ Main .\\In[3]:1",
      " [2] top-level scope",
      "   @ In[5]:1",
      " [3] eval",
      "   @ .\\boot.jl:360 [inlined]",
      " [4] include_string(mapexpr::typeof(REPL.softscope), mod::Module, code::String, filename::String)",
      "   @ Base .\\loading.jl:1094"
     ]
    }
   ],
   "source": [
    "f(-1)"
   ]
  },
  {
   "cell_type": "code",
   "execution_count": 6,
   "id": "1652c45a",
   "metadata": {},
   "outputs": [
    {
     "ename": "LoadError",
     "evalue": "invalid redefinition of constant MyCustomException",
     "output_type": "error",
     "traceback": [
      "invalid redefinition of constant MyCustomException",
      "",
      "Stacktrace:",
      " [1] top-level scope",
      "   @ In[6]:1",
      " [2] eval",
      "   @ .\\boot.jl:360 [inlined]",
      " [3] include_string(mapexpr::typeof(REPL.softscope), mod::Module, code::String, filename::String)",
      "   @ Base .\\loading.jl:1094"
     ]
    }
   ],
   "source": [
    "struct MyCustomException <: Exception\n",
    "           var::Symbol\n",
    "       end"
   ]
  },
  {
   "cell_type": "code",
   "execution_count": 7,
   "id": "906a0967",
   "metadata": {},
   "outputs": [],
   "source": [
    "struct MyCustomExceptionNew <: Exception\n",
    "           var::Int\n",
    "end"
   ]
  },
  {
   "cell_type": "code",
   "execution_count": 8,
   "id": "591377ca",
   "metadata": {},
   "outputs": [],
   "source": [
    "Base.showerror(io::IO, e::MyCustomExceptionNew) = print(io, \"No Negative Numbers!\")"
   ]
  },
  {
   "cell_type": "code",
   "execution_count": 9,
   "id": "fb746f3a",
   "metadata": {},
   "outputs": [
    {
     "data": {
      "text/plain": [
       "f2 (generic function with 1 method)"
      ]
     },
     "execution_count": 9,
     "metadata": {},
     "output_type": "execute_result"
    }
   ],
   "source": [
    "f2(x) = x>=0 ? exp(-x) : throw(MyCustomExceptionNew(x))\n"
   ]
  },
  {
   "cell_type": "code",
   "execution_count": 10,
   "id": "10ebc5b6",
   "metadata": {},
   "outputs": [
    {
     "ename": "LoadError",
     "evalue": "No Negative Numbers!",
     "output_type": "error",
     "traceback": [
      "No Negative Numbers!",
      "",
      "Stacktrace:",
      " [1] f2(x::Int64)",
      "   @ Main .\\In[9]:1",
      " [2] top-level scope",
      "   @ In[10]:1",
      " [3] eval",
      "   @ .\\boot.jl:360 [inlined]",
      " [4] include_string(mapexpr::typeof(REPL.softscope), mod::Module, code::String, filename::String)",
      "   @ Base .\\loading.jl:1094"
     ]
    }
   ],
   "source": [
    "f2(-1)"
   ]
  },
  {
   "cell_type": "markdown",
   "id": "0d5daa01",
   "metadata": {},
   "source": [
    "## Errors"
   ]
  },
  {
   "cell_type": "markdown",
   "id": "aea79862",
   "metadata": {},
   "source": [
    "\n",
    "The `error` function is used to produce an ErrorException that interrupts the normal flow of control.\n",
    "\n",
    "Suppose we want to stop execution immediately if the square root of a negative number is taken. To do this, we can define a fussy version of the sqrt function that raises an error if its argument is negative:"
   ]
  },
  {
   "cell_type": "code",
   "execution_count": null,
   "id": "a4dfffd6",
   "metadata": {},
   "outputs": [],
   "source": [
    "fussy_sqrt(x) = x >= 0 ? sqrt(x) : error(\"negative x not allowed\")\n"
   ]
  },
  {
   "cell_type": "code",
   "execution_count": null,
   "id": "e3837162",
   "metadata": {},
   "outputs": [],
   "source": [
    " fussy_sqrt(2)"
   ]
  },
  {
   "cell_type": "code",
   "execution_count": null,
   "id": "c1cae94e",
   "metadata": {},
   "outputs": [],
   "source": [
    "fussy_sqrt(-1)"
   ]
  },
  {
   "cell_type": "markdown",
   "id": "9d159cdf",
   "metadata": {},
   "source": [
    "## The try/catch statement"
   ]
  },
  {
   "cell_type": "markdown",
   "id": "c4c0de5f",
   "metadata": {},
   "source": [
    "The `The try/catch` statement allows for `Exceptions` to be tested for, and for the graceful handling of things that may ordinarily break your application. For example, in the below code the function for square root would normally throw an exception. By placing a try/catch block around it we can mitigate that here. You may choose how you wish to handle this exception, whether logging it, return a placeholder value or as in the case below where we just printed out a statement. One thing to think about when deciding how to handle unexpected situations is that using a try/catch block is much slower than using conditional branching to handle those situations. Below there are more examples of handling exceptions with a `try/catch` block:"
   ]
  },
  {
   "cell_type": "code",
   "execution_count": 14,
   "id": "aa42baed",
   "metadata": {},
   "outputs": [
    {
     "name": "stdout",
     "output_type": "stream",
     "text": [
      "You should have entered a numeric value\n"
     ]
    }
   ],
   "source": [
    "try\n",
    "    sqrt(\"ten\")\n",
    "catch e\n",
    "    println(\"You should have entered a numeric value\")\n",
    "end\n"
   ]
  },
  {
   "cell_type": "code",
   "execution_count": null,
   "id": "8b385a93",
   "metadata": {},
   "outputs": [],
   "source": []
  }
 ],
 "metadata": {
  "kernelspec": {
   "display_name": "Julia 1.6.1",
   "language": "julia",
   "name": "julia-1.6"
  },
  "language_info": {
   "file_extension": ".jl",
   "mimetype": "application/julia",
   "name": "julia",
   "version": "1.6.1"
  }
 },
 "nbformat": 4,
 "nbformat_minor": 5
}
