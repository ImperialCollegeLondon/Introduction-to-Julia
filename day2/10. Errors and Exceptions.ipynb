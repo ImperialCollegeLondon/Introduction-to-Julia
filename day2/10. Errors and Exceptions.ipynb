{
 "cells": [
  {
   "cell_type": "markdown",
   "id": "28d6fd2e",
   "metadata": {},
   "source": [
    "https://docs.julialang.org/en/v1/manual/control-flow/#Built-in-Exceptions"
   ]
  },
  {
   "cell_type": "markdown",
   "id": "fe603ca6",
   "metadata": {},
   "source": [
    "Many different types of exceptions! You might have already come across some during the previous notebooks."
   ]
  },
  {
   "cell_type": "code",
   "execution_count": null,
   "id": "2701c303",
   "metadata": {},
   "outputs": [],
   "source": [
    "?Exception"
   ]
  },
  {
   "cell_type": "markdown",
   "id": "007baaaf",
   "metadata": {},
   "source": [
    "We can also define our own exceptions"
   ]
  },
  {
   "cell_type": "code",
   "execution_count": null,
   "id": "d923d004",
   "metadata": {},
   "outputs": [],
   "source": [
    " struct MyCustomException <: Exception end"
   ]
  },
  {
   "cell_type": "markdown",
   "id": "f43596e6",
   "metadata": {},
   "source": [
    "\n",
    "The `throw` function\n"
   ]
  },
  {
   "cell_type": "markdown",
   "id": "7368b98b",
   "metadata": {},
   "source": [
    "\n",
    "Exceptions can be created explicitly with `throw`. For example, a function defined only for nonnegative numbers could be written to `throw` a `DomainError` if the argument is negative:"
   ]
  },
  {
   "cell_type": "code",
   "execution_count": null,
   "id": "997c5b2c",
   "metadata": {},
   "outputs": [],
   "source": [
    "f(x) = x>=0 ? exp(-x) : throw(DomainError(x, \"argument must be nonnegative\"))\n"
   ]
  },
  {
   "cell_type": "code",
   "execution_count": null,
   "id": "298a3239",
   "metadata": {},
   "outputs": [],
   "source": [
    "f(1)"
   ]
  },
  {
   "cell_type": "code",
   "execution_count": null,
   "id": "691f69fc",
   "metadata": {},
   "outputs": [],
   "source": [
    "f(-1)"
   ]
  },
  {
   "cell_type": "code",
   "execution_count": null,
   "id": "775f9115",
   "metadata": {},
   "outputs": [],
   "source": [
    "struct MyCustomException <: Exception\n",
    "           var::Symbol\n",
    "       end"
   ]
  },
  {
   "cell_type": "code",
   "execution_count": null,
   "id": "5141c0fd",
   "metadata": {},
   "outputs": [],
   "source": [
    "struct MyCustomExceptionNew <: Exception\n",
    "           var::Int\n",
    "end"
   ]
  },
  {
   "cell_type": "code",
   "execution_count": null,
   "id": "5207b742",
   "metadata": {},
   "outputs": [],
   "source": [
    "Base.showerror(io::IO, e::MyCustomExceptionNew) = print(io, \"No Negative Numbers!\")"
   ]
  },
  {
   "cell_type": "code",
   "execution_count": null,
   "id": "43d15d89",
   "metadata": {},
   "outputs": [],
   "source": [
    "f2(x) = x>=0 ? exp(-x) : throw(MyCustomExceptionNew(x))\n"
   ]
  },
  {
   "cell_type": "code",
   "execution_count": null,
   "id": "7ba6ffb6",
   "metadata": {},
   "outputs": [],
   "source": [
    "f2(-1)"
   ]
  },
  {
   "cell_type": "markdown",
   "id": "0c343ccd",
   "metadata": {},
   "source": [
    "## Errors"
   ]
  },
  {
   "cell_type": "markdown",
   "id": "1b9fd294",
   "metadata": {},
   "source": [
    "\n",
    "The `error` function is used to produce an ErrorException that interrupts the normal flow of control.\n",
    "\n",
    "Suppose we want to stop execution immediately if the square root of a negative number is taken. To do this, we can define a fussy version of the sqrt function that raises an error if its argument is negative:"
   ]
  },
  {
   "cell_type": "code",
   "execution_count": null,
   "id": "c4b7b4cb",
   "metadata": {},
   "outputs": [],
   "source": [
    "fussy_sqrt(x) = x >= 0 ? sqrt(x) : error(\"negative x not allowed\")\n"
   ]
  },
  {
   "cell_type": "code",
   "execution_count": null,
   "id": "21eecce5",
   "metadata": {},
   "outputs": [],
   "source": [
    "fussy_sqrt(2)"
   ]
  },
  {
   "cell_type": "code",
   "execution_count": null,
   "id": "71493156",
   "metadata": {},
   "outputs": [],
   "source": [
    "fussy_sqrt(-1)"
   ]
  },
  {
   "cell_type": "markdown",
   "id": "06af404a",
   "metadata": {},
   "source": [
    "## The try/catch statement"
   ]
  },
  {
   "cell_type": "markdown",
   "id": "78f9b4c0",
   "metadata": {},
   "source": [
    "The `The try/catch` statement allows for `Exceptions` to be tested for, and for the graceful handling of things that may ordinarily break your application. For example, in the below code the function for square root would normally throw an exception. By placing a try/catch block around it we can mitigate that here. You may choose how you wish to handle this exception, whether logging it, return a placeholder value or as in the case below where we just printed out a statement. One thing to think about when deciding how to handle unexpected situations is that using a try/catch block is much slower than using conditional branching to handle those situations. Below there are more examples of handling exceptions with a `try/catch` block:"
   ]
  },
  {
   "cell_type": "code",
   "execution_count": null,
   "id": "6face400",
   "metadata": {},
   "outputs": [],
   "source": [
    "try\n",
    "    sqrt(\"ten\")\n",
    "catch e\n",
    "    println(\"You should have entered a numeric value\")\n",
    "end\n"
   ]
  },
  {
   "cell_type": "code",
   "execution_count": null,
   "id": "637ef942",
   "metadata": {},
   "outputs": [],
   "source": []
  }
 ],
 "metadata": {
  "kernelspec": {
   "display_name": "Julia 1.6.1",
   "language": "julia",
   "name": "julia-1.6"
  },
  "language_info": {
   "file_extension": ".jl",
   "mimetype": "application/julia",
   "name": "julia",
   "version": "1.6.1"
  }
 },
 "nbformat": 4,
 "nbformat_minor": 5
}
